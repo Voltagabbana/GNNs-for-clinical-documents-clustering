{
 "cells": [
  {
   "cell_type": "markdown",
   "id": "c582b8da",
   "metadata": {},
   "source": [
    "Questo file nasce dall'idea avuta dal Vittorio di analizzare la performance di un modello semplice come tf-idf in un setting supervised (labels create da lui per il dominio medico con chatgpt) per vedere se almeno in questo setting ci sono dei buoni risultati.\n",
    "\n",
    "File creato il 20 Aprile"
   ]
  },
  {
   "cell_type": "markdown",
   "id": "007f7a30",
   "metadata": {},
   "source": [
    "# TF-IDF"
   ]
  },
  {
   "cell_type": "code",
   "execution_count": 4,
   "id": "35393dc5",
   "metadata": {},
   "outputs": [],
   "source": [
    "import pickle\n",
    "with open('FilePickles\\corpusParoleInutiliStemming_layer1.pkl', 'rb') as file:\n",
    "    #Carica i dati dal file\n",
    "    corpus_filtrato1 = pickle.load(file)\n",
    "#len(corpus_filtrato[0])"
   ]
  },
  {
   "cell_type": "code",
   "execution_count": 10,
   "id": "232adc5a",
   "metadata": {},
   "outputs": [
    {
     "name": "stdout",
     "output_type": "stream",
     "text": [
      "         10       100  1007  101  102  103  105  108   11  110  ...   wt   xy  \\\n",
      "0  0.000000  0.000000   0.0  0.0  0.0  0.0  0.0  0.0  0.0  0.0  ...  0.0  0.0   \n",
      "1  0.000000  0.000000   0.0  0.0  0.0  0.0  0.0  0.0  0.0  0.0  ...  0.0  0.0   \n",
      "2  0.000000  0.000000   0.0  0.0  0.0  0.0  0.0  0.0  0.0  0.0  ...  0.0  0.0   \n",
      "3  0.033327  0.094982   0.0  0.0  0.0  0.0  0.0  0.0  0.0  0.0  ...  0.0  0.0   \n",
      "4  0.067666  0.000000   0.0  0.0  0.0  0.0  0.0  0.0  0.0  0.0  ...  0.0  0.0   \n",
      "\n",
      "   zamipril  zecc  zoledron       zon  zooepidemicus  zoonos  zopp  zupp  \n",
      "0       0.0   0.0       0.0  0.000000            0.0     0.0   0.0   0.0  \n",
      "1       0.0   0.0       0.0  0.063827            0.0     0.0   0.0   0.0  \n",
      "2       0.0   0.0       0.0  0.000000            0.0     0.0   0.0   0.0  \n",
      "3       0.0   0.0       0.0  0.000000            0.0     0.0   0.0   0.0  \n",
      "4       0.0   0.0       0.0  0.000000            0.0     0.0   0.0   0.0  \n",
      "\n",
      "[5 rows x 3850 columns]\n"
     ]
    }
   ],
   "source": [
    "import pandas as pd\n",
    "from sklearn.feature_extraction.text import TfidfVectorizer\n",
    "\n",
    "corpus = corpus_filtrato1\n",
    "\n",
    "corpus_str = [\" \".join(document) for document in corpus]\n",
    "\n",
    "vectorizer = TfidfVectorizer()\n",
    "tfidf_matrix = vectorizer.fit_transform(corpus_str)\n",
    "feature_names = vectorizer.get_feature_names_out()\n",
    "df_tfidf = pd.DataFrame(tfidf_matrix.toarray(), columns=feature_names)\n",
    "print(df_tfidf.head())"
   ]
  },
  {
   "cell_type": "code",
   "execution_count": 15,
   "id": "59075582",
   "metadata": {},
   "outputs": [
    {
     "name": "stdout",
     "output_type": "stream",
     "text": [
      "(86, 3850)\n"
     ]
    }
   ],
   "source": [
    "print(df_tfidf.shape)"
   ]
  },
  {
   "cell_type": "code",
   "execution_count": 16,
   "id": "b968e459",
   "metadata": {},
   "outputs": [],
   "source": [
    "df_E3C = pd.read_excel('df_E3C.xlsx')"
   ]
  },
  {
   "cell_type": "code",
   "execution_count": 20,
   "id": "46fca391",
   "metadata": {},
   "outputs": [
    {
     "data": {
      "image/png": "[encoded data removed]",
      "text/plain": [
       "<Figure size 640x480 with 1 Axes>"
      ]
     },
     "metadata": {},
     "output_type": "display_data"
    },
    {
     "name": "stdout",
     "output_type": "stream",
     "text": [
      "Percentuale di varianza spiegata dalle prime due componenti: 4.88%\n"
     ]
    }
   ],
   "source": [
    "from sklearn.decomposition import PCA\n",
    "import matplotlib.pyplot as plt\n",
    "\n",
    "n_components = 2  # Decidi quanti componenti vuoi estrarre\n",
    "pca = PCA(n_components=n_components)\n",
    "\n",
    "# Fit PCA sul TF-IDF matrix\n",
    "pca_result = pca.fit_transform(tfidf_matrix.toarray())\n",
    "\n",
    "# Crea un DataFrame con i risultati di PCA\n",
    "df_pca = pd.DataFrame(pca_result, columns=[f\"PC{i+1}\" for i in range(n_components)])\n",
    "\n",
    "# Visualizzazione delle prime due componenti principali\n",
    "plt.scatter(df_pca[\"PC1\"], df_pca[\"PC2\"])\n",
    "plt.xlabel(\"Principal Component 1\")\n",
    "plt.ylabel(\"Principal Component 2\")\n",
    "plt.title(\"PCA del Corpus TF-IDF\")\n",
    "plt.show()\n",
    "\n",
    "# Calcola la percentuale di varianza spiegata dalle prime due componenti\n",
    "explained_variance = pca.explained_variance_ratio_\n",
    "variance_explained_by_two = sum(explained_variance) * 100  # Converti in percentuale\n",
    "\n",
    "print(f\"Percentuale di varianza spiegata dalle prime due componenti: {variance_explained_by_two:.2f}%\")"
   ]
  },
  {
   "cell_type": "markdown",
   "id": "0ddd03a6",
   "metadata": {},
   "source": [
    "Il grosso problema è che le prime due pc spiegano solo il 4,88% della variabilità, quindi dovremmo prendere almeno 100 pc per poter ottenere qualcosa, ma avendo pochi dati su layer 1 (86) avremmo un numero di features maggiore del numero di dati. Questo ci condurrebbe a un modello non buono!"
   ]
  },
  {
   "cell_type": "markdown",
   "id": "22bf6d22",
   "metadata": {},
   "source": [
    "# Doc2Vec\n",
    "Proviamo a fare la stessa cosa con doc2vec, in tal maniera possiamo settare noi il numero di features (ovvero la dimensionalità dell'embedding)"
   ]
  },
  {
   "cell_type": "code",
   "execution_count": 21,
   "id": "f8b41042",
   "metadata": {},
   "outputs": [],
   "source": [
    "from gensim.models.doc2vec import Doc2Vec, TaggedDocument"
   ]
  },
  {
   "cell_type": "code",
   "execution_count": 22,
   "id": "6901ee0f",
   "metadata": {},
   "outputs": [],
   "source": [
    "tagged_test_corpus = [TaggedDocument(doc, [i]) for i, doc in enumerate(corpus_filtrato1)]\n",
    "model = Doc2Vec(vector_size=3, min_count=2, epochs=40)\n",
    "model.build_vocab(tagged_test_corpus)\n",
    "\n",
    "# Addestra il modello\n",
    "model.train(tagged_test_corpus, total_examples=model.corpus_count, epochs=model.epochs)"
   ]
  },
  {
   "cell_type": "code",
   "execution_count": 23,
   "id": "f0150289",
   "metadata": {},
   "outputs": [
    {
     "name": "stdout",
     "output_type": "stream",
     "text": [
      "[-0.6377564   0.22566025  0.00170678]\n"
     ]
    }
   ],
   "source": [
    "vector = model.infer_vector(['bambin', 'sette', 'anni', 'è','stat', 'ricoverat', 'bronchite'])\n",
    "print(vector)"
   ]
  },
  {
   "cell_type": "code",
   "execution_count": 24,
   "id": "22a42913",
   "metadata": {},
   "outputs": [
    {
     "data": {
      "image/png": "[encoded data removed]",
      "text/plain": [
       "<Figure size 640x480 with 1 Axes>"
      ]
     },
     "metadata": {},
     "output_type": "display_data"
    }
   ],
   "source": [
    "embeddings = [model.dv[i] for i in range(len(tagged_test_corpus))]\n",
    "\n",
    "# Crea un plot 3D\n",
    "fig = plt.figure()\n",
    "ax = fig.add_subplot(111, projection='3d')\n",
    "\n",
    "# Estrai le coordinate x, y, z dai tuoi embeddings\n",
    "x_coords = [embedding[0] for embedding in embeddings]\n",
    "y_coords = [embedding[1] for embedding in embeddings]\n",
    "z_coords = [embedding[2] for embedding in embeddings]\n",
    "\n",
    "# Traccia i documenti nel grafico 3D\n",
    "ax.scatter(x_coords, y_coords, z_coords)\n",
    "\n",
    "# Aggiungi etichette agli assi\n",
    "ax.set_xlabel(\"Dimensione 1\")\n",
    "ax.set_ylabel(\"Dimensione 2\")\n",
    "ax.set_zlabel(\"Dimensione 3\")\n",
    "\n",
    "# Visualizza il grafico\n",
    "plt.title(\"Embeddings Doc2Vec a 3 dimensioni\")\n",
    "plt.show()"
   ]
  },
  {
   "cell_type": "code",
   "execution_count": 25,
   "id": "b35929a3",
   "metadata": {},
   "outputs": [
    {
     "name": "stdout",
     "output_type": "stream",
     "text": [
      "Requirement already satisfied: plotly in c:\\users\\enduser\\anaconda3\\lib\\site-packages (5.9.0)\n",
      "Requirement already satisfied: tenacity>=6.2.0 in c:\\users\\enduser\\anaconda3\\lib\\site-packages (from plotly) (8.0.1)\n"
     ]
    }
   ],
   "source": [
    "!pip install plotly\n"
   ]
  },
  {
   "cell_type": "code",
   "execution_count": 35,
   "id": "186a6459",
   "metadata": {},
   "outputs": [
    {
     "data": {
      "application/vnd.plotly.v1+json": {
       "config": {
        "plotlyServerURL": "https://plot.ly"
       },
       "data": [
        {
         "hovertemplate": "x=%{x}<br>y=%{y}<br>z=%{z}<br>size=%{marker.size}<br>Documento=%{text}<extra></extra>",
         "legendgroup": "",
         "marker": {
          "color": "#636efa",
          "opacity": 0.7,
          "size": [
           3,
           3,
           3,
           3,
           3,
           3,
           3,
           3,
           3,
           3,
           3,
           3,
           3,
           3,
           3,
           3,
           3,
           3,
           3,
           3,
           3,
           3,
           3,
           3,
           3,
           3,
           3,
           3,
           3,
           3,
           3,
           3,
           3,
           3,
           3,
           3,
           3,
           3,
           3,
           3,
           3,
           3,
           3,
           3,
           3,
           3,
           3,
           3,
           3,
           3,
           3,
           3,
           3,
           3,
           3,
           3,
           3,
           3,
           3,
           3,
           3,
           3,
           3,
           3,
           3,
           3,
           3,
           3,
           3,
           3,
           3,
           3,
           3,
           3,
           3,
           3,
           3,
           3,
           3,
           3,
           3,
           3,
           3,
           3,
           3,
           3
          ],
          "sizemode": "area",
          "sizeref": 0.12,
          "symbol": "circle"
         },
         "mode": "markers+text",
         "name": "",
         "scene": "scene",
         "showlegend": false,
         "text": [
          "Doc 0",
          "Doc 1",
          "Doc 2",
          "Doc 3",
          "Doc 4",
          "Doc 5",
          "Doc 6",
          "Doc 7",
          "Doc 8",
          "Doc 9",
          "Doc 10",
          "Doc 11",
          "Doc 12",
          "Doc 13",
          "Doc 14",
          "Doc 15",
          "Doc 16",
          "Doc 17",
          "Doc 18",
          "Doc 19",
          "Doc 20",
          "Doc 21",
          "Doc 22",
          "Doc 23",
          "Doc 24",
          "Doc 25",
          "Doc 26",
          "Doc 27",
          "Doc 28",
          "Doc 29",
          "Doc 30",
          "Doc 31",
          "Doc 32",
          "Doc 33",
          "Doc 34",
          "Doc 35",
          "Doc 36",
          "Doc 37",
          "Doc 38",
          "Doc 39",
          "Doc 40",
          "Doc 41",
          "Doc 42",
          "Doc 43",
          "Doc 44",
          "Doc 45",
          "Doc 46",
          "Doc 47",
          "Doc 48",
          "Doc 49",
          "Doc 50",
          "Doc 51",
          "Doc 52",
          "Doc 53",
          "Doc 54",
          "Doc 55",
          "Doc 56",
          "Doc 57",
          "Doc 58",
          "Doc 59",
          "Doc 60",
          "Doc 61",
          "Doc 62",
          "Doc 63",
          "Doc 64",
          "Doc 65",
          "Doc 66",
          "Doc 67",
          "Doc 68",
          "Doc 69",
          "Doc 70",
          "Doc 71",
          "Doc 72",
          "Doc 73",
          "Doc 74",
          "Doc 75",
          "Doc 76",
          "Doc 77",
          "Doc 78",
          "Doc 79",
          "Doc 80",
          "Doc 81",
          "Doc 82",
          "Doc 83",
          "Doc 84",
          "Doc 85"
         ],
         "textfont": {
          "size": 8
         },
         "type": "scatter3d",
         "x": [
          -6.812251567840576,
          -5.087823867797852,
          -3.2681033611297607,
          -5.199767589569092,
          -4.7291107177734375,
          -2.4933254718780518,
          -3.077399730682373,
          -8.015033721923828,
          -1.7737176418304443,
          -1.9934501647949219,
          -2.404381513595581,
          -4.05131721496582,
          -3.975325584411621,
          -4.193718910217285,
          -4.185713768005371,
          -4.436558723449707,
          -2.5569448471069336,
          -4.298999786376953,
          -2.787770986557007,
          -4.981238842010498,
          -2.8620030879974365,
          -2.704240560531616,
          -2.951455593109131,
          -2.866990327835083,
          -3.7623672485351562,
          -2.36567759513855,
          -3.4423677921295166,
          -3.0342226028442383,
          -3.387465000152588,
          -2.97377872467041,
          -3.035412549972534,
          -5.464950084686279,
          -4.41521692276001,
          -3.7912752628326416,
          -2.626375675201416,
          -2.6215450763702393,
          -4.33605432510376,
          -3.9948806762695312,
          -2.552509069442749,
          -2.5689539909362793,
          -2.880497694015503,
          -4.382530212402344,
          -4.507091999053955,
          -4.036880016326904,
          -3.159449577331543,
          -4.346036911010742,
          -6.785656929016113,
          -4.443966865539551,
          -3.6117353439331055,
          -3.6012871265411377,
          -3.7765254974365234,
          -4.632813453674316,
          -4.015997409820557,
          -2.9127655029296875,
          -2.8583731651306152,
          -3.303576707839966,
          -3.3517093658447266,
          -3.2944822311401367,
          -3.4049413204193115,
          -3.5580008029937744,
          -3.7442970275878906,
          -5.263186454772949,
          -6.441122055053711,
          -4.375831127166748,
          -1.5465190410614014,
          -5.024097442626953,
          -5.130639553070068,
          -4.824370861053467,
          -3.9229323863983154,
          -4.400977611541748,
          -3.6612019538879395,
          -4.657653331756592,
          -4.167476177215576,
          -5.892406463623047,
          -2.7994141578674316,
          -3.1362133026123047,
          -2.8180787563323975,
          -4.84658670425415,
          -3.0921521186828613,
          -3.3062407970428467,
          -4.4383111000061035,
          -2.725717067718506,
          -2.6368632316589355,
          -5.320115089416504,
          -6.78747034072876,
          -6.063870906829834
         ],
         "y": [
          -4.016807556152344,
          -1.8568384647369385,
          3.6644296646118164,
          0.8105658888816833,
          1.1009163856506348,
          0.7049950957298279,
          1.0471343994140625,
          -5.361608505249023,
          5.117808818817139,
          4.2407755851745605,
          1.0949188470840454,
          2.9924702644348145,
          1.2216840982437134,
          0.3857387602329254,
          3.5628204345703125,
          1.8156660795211792,
          1.1426364183425903,
          0.9072930812835693,
          1.500815987586975,
          1.311891794204712,
          1.112452745437622,
          2.0047621726989746,
          4.11018705368042,
          -0.06718350946903229,
          1.2574998140335083,
          1.1015297174453735,
          2.188706636428833,
          1.229705572128296,
          4.355658531188965,
          0.31879371404647827,
          1.5608192682266235,
          0.1967644840478897,
          -0.02074749954044819,
          0.8339816927909851,
          1.2546275854110718,
          1.7035409212112427,
          2.2416114807128906,
          -0.7125061750411987,
          2.7937471866607666,
          1.0605340003967285,
          3.662304162979126,
          0.025344133377075195,
          2.325892210006714,
          1.9824094772338867,
          1.0180749893188477,
          1.465824007987976,
          1.6981676816940308,
          -0.22993651032447815,
          -0.24136780202388763,
          0.7407838702201843,
          0.18361462652683258,
          -0.7497274279594421,
          0.8329867124557495,
          0.6285417675971985,
          -0.030938342213630676,
          -0.13736674189567566,
          0.32585784792900085,
          0.21937745809555054,
          0.46691134572029114,
          0.5533339977264404,
          1.1268723011016846,
          1.6459434032440186,
          1.8319841623306274,
          0.760147213935852,
          5.110258102416992,
          1.3921735286712646,
          1.1260185241699219,
          2.4844248294830322,
          2.122468948364258,
          1.4252080917358398,
          0.4423139691352844,
          0.2653921842575073,
          3.204571485519409,
          -2.806461811065674,
          2.438176155090332,
          2.4768707752227783,
          4.575332164764404,
          4.258389949798584,
          3.3008387088775635,
          3.780519962310791,
          7.116098880767822,
          0.9217163324356079,
          1.055955410003662,
          1.3761979341506958,
          -0.6774959564208984,
          3.6498517990112305
         ],
         "z": [
          -6.338168621063232,
          -6.399590015411377,
          -3.4451446533203125,
          -0.5226107835769653,
          -0.2983972132205963,
          -0.5739644169807434,
          -0.21617569029331207,
          -6.631443023681641,
          -5.709856986999512,
          -6.421456336975098,
          -8.478615760803223,
          0.028559111058712006,
          -2.3949809074401855,
          -2.3592653274536133,
          -0.3900982141494751,
          -0.35830190777778625,
          -0.926342785358429,
          -2.103968620300293,
          -1.337166428565979,
          -0.12937398254871368,
          -1.9938411712646484,
          -1.7465914487838745,
          -3.065415859222412,
          -1.204355001449585,
          -1.2192656993865967,
          -0.7897380590438843,
          -1.0440921783447266,
          -0.6936967968940735,
          -1.256766438484192,
          -1.3121461868286133,
          -1.9985674619674683,
          0.20688369870185852,
          -3.054720401763916,
          -1.1864666938781738,
          -0.02521061897277832,
          -0.5533918738365173,
          0.7159337997436523,
          -3.423280715942383,
          -2.2174880504608154,
          -1.1843029260635376,
          -2.832679510116577,
          -3.0591394901275635,
          -0.7078951597213745,
          -1.8045927286148071,
          -0.5143362283706665,
          0.11241687089204788,
          2.2173147201538086,
          -4.739495754241943,
          0.12145398557186127,
          -0.13328884541988373,
          0.1422923505306244,
          -0.019043507054448128,
          -0.13477346301078796,
          -0.43872717022895813,
          -1.4729083776474,
          -1.750515341758728,
          -0.5625264644622803,
          -1.0866045951843262,
          -0.9440380334854126,
          -2.0908987522125244,
          -1.0707790851593018,
          1.5781686305999756,
          3.5717341899871826,
          -0.9349748492240906,
          -7.944146156311035,
          0.9748574495315552,
          0.2780006229877472,
          0.715599775314331,
          -1.1117304563522339,
          -0.03271150961518288,
          -4.026650905609131,
          -1.4921514987945557,
          0.07973567396402359,
          -5.1222076416015625,
          -3.565192222595215,
          -4.790462493896484,
          -3.520984172821045,
          1.536668300628662,
          -2.911592721939087,
          -4.502683639526367,
          0.009187248535454273,
          -0.1538475900888443,
          -0.35174208879470825,
          0.5597820281982422,
          0.9334281086921692,
          1.9593126773834229
         ]
        }
       ],
       "layout": {
        "legend": {
         "itemsizing": "constant",
         "tracegroupgap": 0
        },
        "scene": {
         "domain": {
          "x": [
           0,
           1
          ],
          "y": [
           0,
           1
          ]
         },
         "xaxis": {
          "range": [
           -8.015033721923828,
           -1.5465190410614014
          ],
          "title": {
           "text": "X"
          }
         },
         "yaxis": {
          "range": [
           -5.361608505249023,
           7.116098880767822
          ],
          "title": {
           "text": "Y"
          }
         },
         "zaxis": {
          "range": [
           -8.478615760803223,
           3.5717341899871826
          ],
          "title": {
           "text": "Z"
          }
         }
        },
        "template": {
         "data": {
          "bar": [
           {
            "error_x": {
             "color": "#2a3f5f"
            },
            "error_y": {
             "color": "#2a3f5f"
            },
            "marker": {
             "line": {
              "color": "#E5ECF6",
              "width": 0.5
             },
             "pattern": {
              "fillmode": "overlay",
              "size": 10,
              "solidity": 0.2
             }
            },
            "type": "bar"
           }
          ],
          "barpolar": [
           {
            "marker": {
             "line": {
              "color": "#E5ECF6",
              "width": 0.5
             },
             "pattern": {
              "fillmode": "overlay",
              "size": 10,
              "solidity": 0.2
             }
            },
            "type": "barpolar"
           }
          ],
          "carpet": [
           {
            "aaxis": {
             "endlinecolor": "#2a3f5f",
             "gridcolor": "white",
             "linecolor": "white",
             "minorgridcolor": "white",
             "startlinecolor": "#2a3f5f"
            },
            "baxis": {
             "endlinecolor": "#2a3f5f",
             "gridcolor": "white",
             "linecolor": "white",
             "minorgridcolor": "white",
             "startlinecolor": "#2a3f5f"
            },
            "type": "carpet"
           }
          ],
          "choropleth": [
           {
            "colorbar": {
             "outlinewidth": 0,
             "ticks": ""
            },
            "type": "choropleth"
           }
          ],
          "contour": [
           {
            "colorbar": {
             "outlinewidth": 0,
             "ticks": ""
            },
            "colorscale": [
             [
              0,
              "#0d0887"
             ],
             [
              0.1111111111111111,
              "#46039f"
             ],
             [
              0.2222222222222222,
              "#7201a8"
             ],
             [
              0.3333333333333333,
              "#9c179e"
             ],
             [
              0.4444444444444444,
              "#bd3786"
             ],
             [
              0.5555555555555556,
              "#d8576b"
             ],
             [
              0.6666666666666666,
              "#ed7953"
             ],
             [
              0.7777777777777778,
              "#fb9f3a"
             ],
             [
              0.8888888888888888,
              "#fdca26"
             ],
             [
              1,
              "#f0f921"
             ]
            ],
            "type": "contour"
           }
          ],
          "contourcarpet": [
           {
            "colorbar": {
             "outlinewidth": 0,
             "ticks": ""
            },
            "type": "contourcarpet"
           }
          ],
          "heatmap": [
           {
            "colorbar": {
             "outlinewidth": 0,
             "ticks": ""
            },
            "colorscale": [
             [
              0,
              "#0d0887"
             ],
             [
              0.1111111111111111,
              "#46039f"
             ],
             [
              0.2222222222222222,
              "#7201a8"
             ],
             [
              0.3333333333333333,
              "#9c179e"
             ],
             [
              0.4444444444444444,
              "#bd3786"
             ],
             [
              0.5555555555555556,
              "#d8576b"
             ],
             [
              0.6666666666666666,
              "#ed7953"
             ],
             [
              0.7777777777777778,
              "#fb9f3a"
             ],
             [
              0.8888888888888888,
              "#fdca26"
             ],
             [
              1,
              "#f0f921"
             ]
            ],
            "type": "heatmap"
           }
          ],
          "heatmapgl": [
           {
            "colorbar": {
             "outlinewidth": 0,
             "ticks": ""
            },
            "colorscale": [
             [
              0,
              "#0d0887"
             ],
             [
              0.1111111111111111,
              "#46039f"
             ],
             [
              0.2222222222222222,
              "#7201a8"
             ],
             [
              0.3333333333333333,
              "#9c179e"
             ],
             [
              0.4444444444444444,
              "#bd3786"
             ],
             [
              0.5555555555555556,
              "#d8576b"
             ],
             [
              0.6666666666666666,
              "#ed7953"
             ],
             [
              0.7777777777777778,
              "#fb9f3a"
             ],
             [
              0.8888888888888888,
              "#fdca26"
             ],
             [
              1,
              "#f0f921"
             ]
            ],
            "type": "heatmapgl"
           }
          ],
          "histogram": [
           {
            "marker": {
             "pattern": {
              "fillmode": "overlay",
              "size": 10,
              "solidity": 0.2
             }
            },
            "type": "histogram"
           }
          ],
          "histogram2d": [
           {
            "colorbar": {
             "outlinewidth": 0,
             "ticks": ""
            },
            "colorscale": [
             [
              0,
              "#0d0887"
             ],
             [
              0.1111111111111111,
              "#46039f"
             ],
             [
              0.2222222222222222,
              "#7201a8"
             ],
             [
              0.3333333333333333,
              "#9c179e"
             ],
             [
              0.4444444444444444,
              "#bd3786"
             ],
             [
              0.5555555555555556,
              "#d8576b"
             ],
             [
              0.6666666666666666,
              "#ed7953"
             ],
             [
              0.7777777777777778,
              "#fb9f3a"
             ],
             [
              0.8888888888888888,
              "#fdca26"
             ],
             [
              1,
              "#f0f921"
             ]
            ],
            "type": "histogram2d"
           }
          ],
          "histogram2dcontour": [
           {
            "colorbar": {
             "outlinewidth": 0,
             "ticks": ""
            },
            "colorscale": [
             [
              0,
              "#0d0887"
             ],
             [
              0.1111111111111111,
              "#46039f"
             ],
             [
              0.2222222222222222,
              "#7201a8"
             ],
             [
              0.3333333333333333,
              "#9c179e"
             ],
             [
              0.4444444444444444,
              "#bd3786"
             ],
             [
              0.5555555555555556,
              "#d8576b"
             ],
             [
              0.6666666666666666,
              "#ed7953"
             ],
             [
              0.7777777777777778,
              "#fb9f3a"
             ],
             [
              0.8888888888888888,
              "#fdca26"
             ],
             [
              1,
              "#f0f921"
             ]
            ],
            "type": "histogram2dcontour"
           }
          ],
          "mesh3d": [
           {
            "colorbar": {
             "outlinewidth": 0,
             "ticks": ""
            },
            "type": "mesh3d"
           }
          ],
          "parcoords": [
           {
            "line": {
             "colorbar": {
              "outlinewidth": 0,
              "ticks": ""
             }
            },
            "type": "parcoords"
           }
          ],
          "pie": [
           {
            "automargin": true,
            "type": "pie"
           }
          ],
          "scatter": [
           {
            "fillpattern": {
             "fillmode": "overlay",
             "size": 10,
             "solidity": 0.2
            },
            "type": "scatter"
           }
          ],
          "scatter3d": [
           {
            "line": {
             "colorbar": {
              "outlinewidth": 0,
              "ticks": ""
             }
            },
            "marker": {
             "colorbar": {
              "outlinewidth": 0,
              "ticks": ""
             }
            },
            "type": "scatter3d"
           }
          ],
          "scattercarpet": [
           {
            "marker": {
             "colorbar": {
              "outlinewidth": 0,
              "ticks": ""
             }
            },
            "type": "scattercarpet"
           }
          ],
          "scattergeo": [
           {
            "marker": {
             "colorbar": {
              "outlinewidth": 0,
              "ticks": ""
             }
            },
            "type": "scattergeo"
           }
          ],
          "scattergl": [
           {
            "marker": {
             "colorbar": {
              "outlinewidth": 0,
              "ticks": ""
             }
            },
            "type": "scattergl"
           }
          ],
          "scattermapbox": [
           {
            "marker": {
             "colorbar": {
              "outlinewidth": 0,
              "ticks": ""
             }
            },
            "type": "scattermapbox"
           }
          ],
          "scatterpolar": [
           {
            "marker": {
             "colorbar": {
              "outlinewidth": 0,
              "ticks": ""
             }
            },
            "type": "scatterpolar"
           }
          ],
          "scatterpolargl": [
           {
            "marker": {
             "colorbar": {
              "outlinewidth": 0,
              "ticks": ""
             }
            },
            "type": "scatterpolargl"
           }
          ],
          "scatterternary": [
           {
            "marker": {
             "colorbar": {
              "outlinewidth": 0,
              "ticks": ""
             }
            },
            "type": "scatterternary"
           }
          ],
          "surface": [
           {
            "colorbar": {
             "outlinewidth": 0,
             "ticks": ""
            },
            "colorscale": [
             [
              0,
              "#0d0887"
             ],
             [
              0.1111111111111111,
              "#46039f"
             ],
             [
              0.2222222222222222,
              "#7201a8"
             ],
             [
              0.3333333333333333,
              "#9c179e"
             ],
             [
              0.4444444444444444,
              "#bd3786"
             ],
             [
              0.5555555555555556,
              "#d8576b"
             ],
             [
              0.6666666666666666,
              "#ed7953"
             ],
             [
              0.7777777777777778,
              "#fb9f3a"
             ],
             [
              0.8888888888888888,
              "#fdca26"
             ],
             [
              1,
              "#f0f921"
             ]
            ],
            "type": "surface"
           }
          ],
          "table": [
           {
            "cells": {
             "fill": {
              "color": "#EBF0F8"
             },
             "line": {
              "color": "white"
             }
            },
            "header": {
             "fill": {
              "color": "#C8D4E3"
             },
             "line": {
              "color": "white"
             }
            },
            "type": "table"
           }
          ]
         },
         "layout": {
          "annotationdefaults": {
           "arrowcolor": "#2a3f5f",
           "arrowhead": 0,
           "arrowwidth": 1
          },
          "autotypenumbers": "strict",
          "coloraxis": {
           "colorbar": {
            "outlinewidth": 0,
            "ticks": ""
           }
          },
          "colorscale": {
           "diverging": [
            [
             0,
             "#8e0152"
            ],
            [
             0.1,
             "#c51b7d"
            ],
            [
             0.2,
             "#de77ae"
            ],
            [
             0.3,
             "#f1b6da"
            ],
            [
             0.4,
             "#fde0ef"
            ],
            [
             0.5,
             "#f7f7f7"
            ],
            [
             0.6,
             "#e6f5d0"
            ],
            [
             0.7,
             "#b8e186"
            ],
            [
             0.8,
             "#7fbc41"
            ],
            [
             0.9,
             "#4d9221"
            ],
            [
             1,
             "#276419"
            ]
           ],
           "sequential": [
            [
             0,
             "#0d0887"
            ],
            [
             0.1111111111111111,
             "#46039f"
            ],
            [
             0.2222222222222222,
             "#7201a8"
            ],
            [
             0.3333333333333333,
             "#9c179e"
            ],
            [
             0.4444444444444444,
             "#bd3786"
            ],
            [
             0.5555555555555556,
             "#d8576b"
            ],
            [
             0.6666666666666666,
             "#ed7953"
            ],
            [
             0.7777777777777778,
             "#fb9f3a"
            ],
            [
             0.8888888888888888,
             "#fdca26"
            ],
            [
             1,
             "#f0f921"
            ]
           ],
           "sequentialminus": [
            [
             0,
             "#0d0887"
            ],
            [
             0.1111111111111111,
             "#46039f"
            ],
            [
             0.2222222222222222,
             "#7201a8"
            ],
            [
             0.3333333333333333,
             "#9c179e"
            ],
            [
             0.4444444444444444,
             "#bd3786"
            ],
            [
             0.5555555555555556,
             "#d8576b"
            ],
            [
             0.6666666666666666,
             "#ed7953"
            ],
            [
             0.7777777777777778,
             "#fb9f3a"
            ],
            [
             0.8888888888888888,
             "#fdca26"
            ],
            [
             1,
             "#f0f921"
            ]
           ]
          },
          "colorway": [
           "#636efa",
           "#EF553B",
           "#00cc96",
           "#ab63fa",
           "#FFA15A",
           "#19d3f3",
           "#FF6692",
           "#B6E880",
           "#FF97FF",
           "#FECB52"
          ],
          "font": {
           "color": "#2a3f5f"
          },
          "geo": {
           "bgcolor": "white",
           "lakecolor": "white",
           "landcolor": "#E5ECF6",
           "showlakes": true,
           "showland": true,
           "subunitcolor": "white"
          },
          "hoverlabel": {
           "align": "left"
          },
          "hovermode": "closest",
          "mapbox": {
           "style": "light"
          },
          "paper_bgcolor": "white",
          "plot_bgcolor": "#E5ECF6",
          "polar": {
           "angularaxis": {
            "gridcolor": "white",
            "linecolor": "white",
            "ticks": ""
           },
           "bgcolor": "#E5ECF6",
           "radialaxis": {
            "gridcolor": "white",
            "linecolor": "white",
            "ticks": ""
           }
          },
          "scene": {
           "xaxis": {
            "backgroundcolor": "#E5ECF6",
            "gridcolor": "white",
            "gridwidth": 2,
            "linecolor": "white",
            "showbackground": true,
            "ticks": "",
            "zerolinecolor": "white"
           },
           "yaxis": {
            "backgroundcolor": "#E5ECF6",
            "gridcolor": "white",
            "gridwidth": 2,
            "linecolor": "white",
            "showbackground": true,
            "ticks": "",
            "zerolinecolor": "white"
           },
           "zaxis": {
            "backgroundcolor": "#E5ECF6",
            "gridcolor": "white",
            "gridwidth": 2,
            "linecolor": "white",
            "showbackground": true,
            "ticks": "",
            "zerolinecolor": "white"
           }
          },
          "shapedefaults": {
           "line": {
            "color": "#2a3f5f"
           }
          },
          "ternary": {
           "aaxis": {
            "gridcolor": "white",
            "linecolor": "white",
            "ticks": ""
           },
           "baxis": {
            "gridcolor": "white",
            "linecolor": "white",
            "ticks": ""
           },
           "bgcolor": "#E5ECF6",
           "caxis": {
            "gridcolor": "white",
            "linecolor": "white",
            "ticks": ""
           }
          },
          "title": {
           "x": 0.05
          },
          "xaxis": {
           "automargin": true,
           "gridcolor": "white",
           "linecolor": "white",
           "ticks": "",
           "title": {
            "standoff": 15
           },
           "zerolinecolor": "white",
           "zerolinewidth": 2
          },
          "yaxis": {
           "automargin": true,
           "gridcolor": "white",
           "linecolor": "white",
           "ticks": "",
           "title": {
            "standoff": 15
           },
           "zerolinecolor": "white",
           "zerolinewidth": 2
          }
         }
        },
        "title": {
         "text": "Embeddings Doc2Vec a 3 dimensioni"
        }
       }
      },
      "text/html": [
       "<div>                            <div id=\"4cc1ffea-f03b-49f2-80f8-dd45c9ddbec3\" class=\"plotly-graph-div\" style=\"height:525px; width:100%;\"></div>            <script type=\"text/javascript\">                require([\"plotly\"], function(Plotly) {                    window.PLOTLYENV=window.PLOTLYENV || {};                                    if (document.getElementById(\"4cc1ffea-f03b-49f2-80f8-dd45c9ddbec3\")) {                    Plotly.newPlot(                        \"4cc1ffea-f03b-49f2-80f8-dd45c9ddbec3\",                        [{\"hovertemplate\":\"x=%{x}<br>y=%{y}<br>z=%{z}<br>size=%{marker.size}<br>Documento=%{text}<extra></extra>\",\"legendgroup\":\"\",\"marker\":{\"color\":\"#636efa\",\"opacity\":0.7,\"size\":[3,3,3,3,3,3,3,3,3,3,3,3,3,3,3,3,3,3,3,3,3,3,3,3,3,3,3,3,3,3,3,3,3,3,3,3,3,3,3,3,3,3,3,3,3,3,3,3,3,3,3,3,3,3,3,3,3,3,3,3,3,3,3,3,3,3,3,3,3,3,3,3,3,3,3,3,3,3,3,3,3,3,3,3,3,3],\"sizemode\":\"area\",\"sizeref\":0.12,\"symbol\":\"circle\"},\"mode\":\"markers+text\",\"name\":\"\",\"scene\":\"scene\",\"showlegend\":false,\"text\":[\"Doc 0\",\"Doc 1\",\"Doc 2\",\"Doc 3\",\"Doc 4\",\"Doc 5\",\"Doc 6\",\"Doc 7\",\"Doc 8\",\"Doc 9\",\"Doc 10\",\"Doc 11\",\"Doc 12\",\"Doc 13\",\"Doc 14\",\"Doc 15\",\"Doc 16\",\"Doc 17\",\"Doc 18\",\"Doc 19\",\"Doc 20\",\"Doc 21\",\"Doc 22\",\"Doc 23\",\"Doc 24\",\"Doc 25\",\"Doc 26\",\"Doc 27\",\"Doc 28\",\"Doc 29\",\"Doc 30\",\"Doc 31\",\"Doc 32\",\"Doc 33\",\"Doc 34\",\"Doc 35\",\"Doc 36\",\"Doc 37\",\"Doc 38\",\"Doc 39\",\"Doc 40\",\"Doc 41\",\"Doc 42\",\"Doc 43\",\"Doc 44\",\"Doc 45\",\"Doc 46\",\"Doc 47\",\"Doc 48\",\"Doc 49\",\"Doc 50\",\"Doc 51\",\"Doc 52\",\"Doc 53\",\"Doc 54\",\"Doc 55\",\"Doc 56\",\"Doc 57\",\"Doc 58\",\"Doc 59\",\"Doc 60\",\"Doc 61\",\"Doc 62\",\"Doc 63\",\"Doc 64\",\"Doc 65\",\"Doc 66\",\"Doc 67\",\"Doc 68\",\"Doc 69\",\"Doc 70\",\"Doc 71\",\"Doc 72\",\"Doc 73\",\"Doc 74\",\"Doc 75\",\"Doc 76\",\"Doc 77\",\"Doc 78\",\"Doc 79\",\"Doc 80\",\"Doc 81\",\"Doc 82\",\"Doc 83\",\"Doc 84\",\"Doc 85\"],\"x\":[-6.812251567840576,-5.087823867797852,-3.2681033611297607,-5.199767589569092,-4.7291107177734375,-2.4933254718780518,-3.077399730682373,-8.015033721923828,-1.7737176418304443,-1.9934501647949219,-2.404381513595581,-4.05131721496582,-3.975325584411621,-4.193718910217285,-4.185713768005371,-4.436558723449707,-2.5569448471069336,-4.298999786376953,-2.787770986557007,-4.981238842010498,-2.8620030879974365,-2.704240560531616,-2.951455593109131,-2.866990327835083,-3.7623672485351562,-2.36567759513855,-3.4423677921295166,-3.0342226028442383,-3.387465000152588,-2.97377872467041,-3.035412549972534,-5.464950084686279,-4.41521692276001,-3.7912752628326416,-2.626375675201416,-2.6215450763702393,-4.33605432510376,-3.9948806762695312,-2.552509069442749,-2.5689539909362793,-2.880497694015503,-4.382530212402344,-4.507091999053955,-4.036880016326904,-3.159449577331543,-4.346036911010742,-6.785656929016113,-4.443966865539551,-3.6117353439331055,-3.6012871265411377,-3.7765254974365234,-4.632813453674316,-4.015997409820557,-2.9127655029296875,-2.8583731651306152,-3.303576707839966,-3.3517093658447266,-3.2944822311401367,-3.4049413204193115,-3.5580008029937744,-3.7442970275878906,-5.263186454772949,-6.441122055053711,-4.375831127166748,-1.5465190410614014,-5.024097442626953,-5.130639553070068,-4.824370861053467,-3.9229323863983154,-4.400977611541748,-3.6612019538879395,-4.657653331756592,-4.167476177215576,-5.892406463623047,-2.7994141578674316,-3.1362133026123047,-2.8180787563323975,-4.84658670425415,-3.0921521186828613,-3.3062407970428467,-4.4383111000061035,-2.725717067718506,-2.6368632316589355,-5.320115089416504,-6.78747034072876,-6.063870906829834],\"y\":[-4.016807556152344,-1.8568384647369385,3.6644296646118164,0.8105658888816833,1.1009163856506348,0.7049950957298279,1.0471343994140625,-5.361608505249023,5.117808818817139,4.2407755851745605,1.0949188470840454,2.9924702644348145,1.2216840982437134,0.3857387602329254,3.5628204345703125,1.8156660795211792,1.1426364183425903,0.9072930812835693,1.500815987586975,1.311891794204712,1.112452745437622,2.0047621726989746,4.11018705368042,-0.06718350946903229,1.2574998140335083,1.1015297174453735,2.188706636428833,1.229705572128296,4.355658531188965,0.31879371404647827,1.5608192682266235,0.1967644840478897,-0.02074749954044819,0.8339816927909851,1.2546275854110718,1.7035409212112427,2.2416114807128906,-0.7125061750411987,2.7937471866607666,1.0605340003967285,3.662304162979126,0.025344133377075195,2.325892210006714,1.9824094772338867,1.0180749893188477,1.465824007987976,1.6981676816940308,-0.22993651032447815,-0.24136780202388763,0.7407838702201843,0.18361462652683258,-0.7497274279594421,0.8329867124557495,0.6285417675971985,-0.030938342213630676,-0.13736674189567566,0.32585784792900085,0.21937745809555054,0.46691134572029114,0.5533339977264404,1.1268723011016846,1.6459434032440186,1.8319841623306274,0.760147213935852,5.110258102416992,1.3921735286712646,1.1260185241699219,2.4844248294830322,2.122468948364258,1.4252080917358398,0.4423139691352844,0.2653921842575073,3.204571485519409,-2.806461811065674,2.438176155090332,2.4768707752227783,4.575332164764404,4.258389949798584,3.3008387088775635,3.780519962310791,7.116098880767822,0.9217163324356079,1.055955410003662,1.3761979341506958,-0.6774959564208984,3.6498517990112305],\"z\":[-6.338168621063232,-6.399590015411377,-3.4451446533203125,-0.5226107835769653,-0.2983972132205963,-0.5739644169807434,-0.21617569029331207,-6.631443023681641,-5.709856986999512,-6.421456336975098,-8.478615760803223,0.028559111058712006,-2.3949809074401855,-2.3592653274536133,-0.3900982141494751,-0.35830190777778625,-0.926342785358429,-2.103968620300293,-1.337166428565979,-0.12937398254871368,-1.9938411712646484,-1.7465914487838745,-3.065415859222412,-1.204355001449585,-1.2192656993865967,-0.7897380590438843,-1.0440921783447266,-0.6936967968940735,-1.256766438484192,-1.3121461868286133,-1.9985674619674683,0.20688369870185852,-3.054720401763916,-1.1864666938781738,-0.02521061897277832,-0.5533918738365173,0.7159337997436523,-3.423280715942383,-2.2174880504608154,-1.1843029260635376,-2.832679510116577,-3.0591394901275635,-0.7078951597213745,-1.8045927286148071,-0.5143362283706665,0.11241687089204788,2.2173147201538086,-4.739495754241943,0.12145398557186127,-0.13328884541988373,0.1422923505306244,-0.019043507054448128,-0.13477346301078796,-0.43872717022895813,-1.4729083776474,-1.750515341758728,-0.5625264644622803,-1.0866045951843262,-0.9440380334854126,-2.0908987522125244,-1.0707790851593018,1.5781686305999756,3.5717341899871826,-0.9349748492240906,-7.944146156311035,0.9748574495315552,0.2780006229877472,0.715599775314331,-1.1117304563522339,-0.03271150961518288,-4.026650905609131,-1.4921514987945557,0.07973567396402359,-5.1222076416015625,-3.565192222595215,-4.790462493896484,-3.520984172821045,1.536668300628662,-2.911592721939087,-4.502683639526367,0.009187248535454273,-0.1538475900888443,-0.35174208879470825,0.5597820281982422,0.9334281086921692,1.9593126773834229],\"type\":\"scatter3d\",\"textfont\":{\"size\":8}}],                        {\"template\":{\"data\":{\"histogram2dcontour\":[{\"type\":\"histogram2dcontour\",\"colorbar\":{\"outlinewidth\":0,\"ticks\":\"\"},\"colorscale\":[[0.0,\"#0d0887\"],[0.1111111111111111,\"#46039f\"],[0.2222222222222222,\"#7201a8\"],[0.3333333333333333,\"#9c179e\"],[0.4444444444444444,\"#bd3786\"],[0.5555555555555556,\"#d8576b\"],[0.6666666666666666,\"#ed7953\"],[0.7777777777777778,\"#fb9f3a\"],[0.8888888888888888,\"#fdca26\"],[1.0,\"#f0f921\"]]}],\"choropleth\":[{\"type\":\"choropleth\",\"colorbar\":{\"outlinewidth\":0,\"ticks\":\"\"}}],\"histogram2d\":[{\"type\":\"histogram2d\",\"colorbar\":{\"outlinewidth\":0,\"ticks\":\"\"},\"colorscale\":[[0.0,\"#0d0887\"],[0.1111111111111111,\"#46039f\"],[0.2222222222222222,\"#7201a8\"],[0.3333333333333333,\"#9c179e\"],[0.4444444444444444,\"#bd3786\"],[0.5555555555555556,\"#d8576b\"],[0.6666666666666666,\"#ed7953\"],[0.7777777777777778,\"#fb9f3a\"],[0.8888888888888888,\"#fdca26\"],[1.0,\"#f0f921\"]]}],\"heatmap\":[{\"type\":\"heatmap\",\"colorbar\":{\"outlinewidth\":0,\"ticks\":\"\"},\"colorscale\":[[0.0,\"#0d0887\"],[0.1111111111111111,\"#46039f\"],[0.2222222222222222,\"#7201a8\"],[0.3333333333333333,\"#9c179e\"],[0.4444444444444444,\"#bd3786\"],[0.5555555555555556,\"#d8576b\"],[0.6666666666666666,\"#ed7953\"],[0.7777777777777778,\"#fb9f3a\"],[0.8888888888888888,\"#fdca26\"],[1.0,\"#f0f921\"]]}],\"heatmapgl\":[{\"type\":\"heatmapgl\",\"colorbar\":{\"outlinewidth\":0,\"ticks\":\"\"},\"colorscale\":[[0.0,\"#0d0887\"],[0.1111111111111111,\"#46039f\"],[0.2222222222222222,\"#7201a8\"],[0.3333333333333333,\"#9c179e\"],[0.4444444444444444,\"#bd3786\"],[0.5555555555555556,\"#d8576b\"],[0.6666666666666666,\"#ed7953\"],[0.7777777777777778,\"#fb9f3a\"],[0.8888888888888888,\"#fdca26\"],[1.0,\"#f0f921\"]]}],\"contourcarpet\":[{\"type\":\"contourcarpet\",\"colorbar\":{\"outlinewidth\":0,\"ticks\":\"\"}}],\"contour\":[{\"type\":\"contour\",\"colorbar\":{\"outlinewidth\":0,\"ticks\":\"\"},\"colorscale\":[[0.0,\"#0d0887\"],[0.1111111111111111,\"#46039f\"],[0.2222222222222222,\"#7201a8\"],[0.3333333333333333,\"#9c179e\"],[0.4444444444444444,\"#bd3786\"],[0.5555555555555556,\"#d8576b\"],[0.6666666666666666,\"#ed7953\"],[0.7777777777777778,\"#fb9f3a\"],[0.8888888888888888,\"#fdca26\"],[1.0,\"#f0f921\"]]}],\"surface\":[{\"type\":\"surface\",\"colorbar\":{\"outlinewidth\":0,\"ticks\":\"\"},\"colorscale\":[[0.0,\"#0d0887\"],[0.1111111111111111,\"#46039f\"],[0.2222222222222222,\"#7201a8\"],[0.3333333333333333,\"#9c179e\"],[0.4444444444444444,\"#bd3786\"],[0.5555555555555556,\"#d8576b\"],[0.6666666666666666,\"#ed7953\"],[0.7777777777777778,\"#fb9f3a\"],[0.8888888888888888,\"#fdca26\"],[1.0,\"#f0f921\"]]}],\"mesh3d\":[{\"type\":\"mesh3d\",\"colorbar\":{\"outlinewidth\":0,\"ticks\":\"\"}}],\"scatter\":[{\"fillpattern\":{\"fillmode\":\"overlay\",\"size\":10,\"solidity\":0.2},\"type\":\"scatter\"}],\"parcoords\":[{\"type\":\"parcoords\",\"line\":{\"colorbar\":{\"outlinewidth\":0,\"ticks\":\"\"}}}],\"scatterpolargl\":[{\"type\":\"scatterpolargl\",\"marker\":{\"colorbar\":{\"outlinewidth\":0,\"ticks\":\"\"}}}],\"bar\":[{\"error_x\":{\"color\":\"#2a3f5f\"},\"error_y\":{\"color\":\"#2a3f5f\"},\"marker\":{\"line\":{\"color\":\"#E5ECF6\",\"width\":0.5},\"pattern\":{\"fillmode\":\"overlay\",\"size\":10,\"solidity\":0.2}},\"type\":\"bar\"}],\"scattergeo\":[{\"type\":\"scattergeo\",\"marker\":{\"colorbar\":{\"outlinewidth\":0,\"ticks\":\"\"}}}],\"scatterpolar\":[{\"type\":\"scatterpolar\",\"marker\":{\"colorbar\":{\"outlinewidth\":0,\"ticks\":\"\"}}}],\"histogram\":[{\"marker\":{\"pattern\":{\"fillmode\":\"overlay\",\"size\":10,\"solidity\":0.2}},\"type\":\"histogram\"}],\"scattergl\":[{\"type\":\"scattergl\",\"marker\":{\"colorbar\":{\"outlinewidth\":0,\"ticks\":\"\"}}}],\"scatter3d\":[{\"type\":\"scatter3d\",\"line\":{\"colorbar\":{\"outlinewidth\":0,\"ticks\":\"\"}},\"marker\":{\"colorbar\":{\"outlinewidth\":0,\"ticks\":\"\"}}}],\"scattermapbox\":[{\"type\":\"scattermapbox\",\"marker\":{\"colorbar\":{\"outlinewidth\":0,\"ticks\":\"\"}}}],\"scatterternary\":[{\"type\":\"scatterternary\",\"marker\":{\"colorbar\":{\"outlinewidth\":0,\"ticks\":\"\"}}}],\"scattercarpet\":[{\"type\":\"scattercarpet\",\"marker\":{\"colorbar\":{\"outlinewidth\":0,\"ticks\":\"\"}}}],\"carpet\":[{\"aaxis\":{\"endlinecolor\":\"#2a3f5f\",\"gridcolor\":\"white\",\"linecolor\":\"white\",\"minorgridcolor\":\"white\",\"startlinecolor\":\"#2a3f5f\"},\"baxis\":{\"endlinecolor\":\"#2a3f5f\",\"gridcolor\":\"white\",\"linecolor\":\"white\",\"minorgridcolor\":\"white\",\"startlinecolor\":\"#2a3f5f\"},\"type\":\"carpet\"}],\"table\":[{\"cells\":{\"fill\":{\"color\":\"#EBF0F8\"},\"line\":{\"color\":\"white\"}},\"header\":{\"fill\":{\"color\":\"#C8D4E3\"},\"line\":{\"color\":\"white\"}},\"type\":\"table\"}],\"barpolar\":[{\"marker\":{\"line\":{\"color\":\"#E5ECF6\",\"width\":0.5},\"pattern\":{\"fillmode\":\"overlay\",\"size\":10,\"solidity\":0.2}},\"type\":\"barpolar\"}],\"pie\":[{\"automargin\":true,\"type\":\"pie\"}]},\"layout\":{\"autotypenumbers\":\"strict\",\"colorway\":[\"#636efa\",\"#EF553B\",\"#00cc96\",\"#ab63fa\",\"#FFA15A\",\"#19d3f3\",\"#FF6692\",\"#B6E880\",\"#FF97FF\",\"#FECB52\"],\"font\":{\"color\":\"#2a3f5f\"},\"hovermode\":\"closest\",\"hoverlabel\":{\"align\":\"left\"},\"paper_bgcolor\":\"white\",\"plot_bgcolor\":\"#E5ECF6\",\"polar\":{\"bgcolor\":\"#E5ECF6\",\"angularaxis\":{\"gridcolor\":\"white\",\"linecolor\":\"white\",\"ticks\":\"\"},\"radialaxis\":{\"gridcolor\":\"white\",\"linecolor\":\"white\",\"ticks\":\"\"}},\"ternary\":{\"bgcolor\":\"#E5ECF6\",\"aaxis\":{\"gridcolor\":\"white\",\"linecolor\":\"white\",\"ticks\":\"\"},\"baxis\":{\"gridcolor\":\"white\",\"linecolor\":\"white\",\"ticks\":\"\"},\"caxis\":{\"gridcolor\":\"white\",\"linecolor\":\"white\",\"ticks\":\"\"}},\"coloraxis\":{\"colorbar\":{\"outlinewidth\":0,\"ticks\":\"\"}},\"colorscale\":{\"sequential\":[[0.0,\"#0d0887\"],[0.1111111111111111,\"#46039f\"],[0.2222222222222222,\"#7201a8\"],[0.3333333333333333,\"#9c179e\"],[0.4444444444444444,\"#bd3786\"],[0.5555555555555556,\"#d8576b\"],[0.6666666666666666,\"#ed7953\"],[0.7777777777777778,\"#fb9f3a\"],[0.8888888888888888,\"#fdca26\"],[1.0,\"#f0f921\"]],\"sequentialminus\":[[0.0,\"#0d0887\"],[0.1111111111111111,\"#46039f\"],[0.2222222222222222,\"#7201a8\"],[0.3333333333333333,\"#9c179e\"],[0.4444444444444444,\"#bd3786\"],[0.5555555555555556,\"#d8576b\"],[0.6666666666666666,\"#ed7953\"],[0.7777777777777778,\"#fb9f3a\"],[0.8888888888888888,\"#fdca26\"],[1.0,\"#f0f921\"]],\"diverging\":[[0,\"#8e0152\"],[0.1,\"#c51b7d\"],[0.2,\"#de77ae\"],[0.3,\"#f1b6da\"],[0.4,\"#fde0ef\"],[0.5,\"#f7f7f7\"],[0.6,\"#e6f5d0\"],[0.7,\"#b8e186\"],[0.8,\"#7fbc41\"],[0.9,\"#4d9221\"],[1,\"#276419\"]]},\"xaxis\":{\"gridcolor\":\"white\",\"linecolor\":\"white\",\"ticks\":\"\",\"title\":{\"standoff\":15},\"zerolinecolor\":\"white\",\"automargin\":true,\"zerolinewidth\":2},\"yaxis\":{\"gridcolor\":\"white\",\"linecolor\":\"white\",\"ticks\":\"\",\"title\":{\"standoff\":15},\"zerolinecolor\":\"white\",\"automargin\":true,\"zerolinewidth\":2},\"scene\":{\"xaxis\":{\"backgroundcolor\":\"#E5ECF6\",\"gridcolor\":\"white\",\"linecolor\":\"white\",\"showbackground\":true,\"ticks\":\"\",\"zerolinecolor\":\"white\",\"gridwidth\":2},\"yaxis\":{\"backgroundcolor\":\"#E5ECF6\",\"gridcolor\":\"white\",\"linecolor\":\"white\",\"showbackground\":true,\"ticks\":\"\",\"zerolinecolor\":\"white\",\"gridwidth\":2},\"zaxis\":{\"backgroundcolor\":\"#E5ECF6\",\"gridcolor\":\"white\",\"linecolor\":\"white\",\"showbackground\":true,\"ticks\":\"\",\"zerolinecolor\":\"white\",\"gridwidth\":2}},\"shapedefaults\":{\"line\":{\"color\":\"#2a3f5f\"}},\"annotationdefaults\":{\"arrowcolor\":\"#2a3f5f\",\"arrowhead\":0,\"arrowwidth\":1},\"geo\":{\"bgcolor\":\"white\",\"landcolor\":\"#E5ECF6\",\"subunitcolor\":\"white\",\"showland\":true,\"showlakes\":true,\"lakecolor\":\"white\"},\"title\":{\"x\":0.05},\"mapbox\":{\"style\":\"light\"}}},\"scene\":{\"domain\":{\"x\":[0.0,1.0],\"y\":[0.0,1.0]},\"xaxis\":{\"title\":{\"text\":\"X\"},\"range\":[-8.015033721923828,-1.5465190410614014]},\"yaxis\":{\"title\":{\"text\":\"Y\"},\"range\":[-5.361608505249023,7.116098880767822]},\"zaxis\":{\"title\":{\"text\":\"Z\"},\"range\":[-8.478615760803223,3.5717341899871826]}},\"legend\":{\"tracegroupgap\":0,\"itemsizing\":\"constant\"},\"title\":{\"text\":\"Embeddings Doc2Vec a 3 dimensioni\"}},                        {\"responsive\": true}                    ).then(function(){\n",
       "                            \n",
       "var gd = document.getElementById('4cc1ffea-f03b-49f2-80f8-dd45c9ddbec3');\n",
       "var x = new MutationObserver(function (mutations, observer) {{\n",
       "        var display = window.getComputedStyle(gd).display;\n",
       "        if (!display || display === 'none') {{\n",
       "            console.log([gd, 'removed!']);\n",
       "            Plotly.purge(gd);\n",
       "            observer.disconnect();\n",
       "        }}\n",
       "}});\n",
       "\n",
       "// Listen for the removal of the full notebook cells\n",
       "var notebookContainer = gd.closest('#notebook-container');\n",
       "if (notebookContainer) {{\n",
       "    x.observe(notebookContainer, {childList: true});\n",
       "}}\n",
       "\n",
       "// Listen for the clearing of the current output cell\n",
       "var outputEl = gd.closest('.output');\n",
       "if (outputEl) {{\n",
       "    x.observe(outputEl, {childList: true});\n",
       "}}\n",
       "\n",
       "                        })                };                });            </script>        </div>"
      ]
     },
     "metadata": {},
     "output_type": "display_data"
    }
   ],
   "source": [
    "import plotly.express as px\n",
    "\n",
    "embeddings = [model.dv[i] for i in range(len(tagged_test_corpus))]\n",
    "\n",
    "# Estrai le coordinate x, y, z dai tuoi embeddings\n",
    "x_coords = [embedding[0] for embedding in embeddings]\n",
    "y_coords = [embedding[1] for embedding in embeddings]\n",
    "z_coords = [embedding[2] for embedding in embeddings]\n",
    "\n",
    "# Crea un DataFrame con le coordinate\n",
    "df = pd.DataFrame({\n",
    "    \"x\": x_coords,\n",
    "    \"y\": y_coords,\n",
    "    \"z\": z_coords,\n",
    "    \"Documento\": [f\"Doc {i}\" for i in range(len(x_coords))],  # Etichette per i documenti\n",
    "})\n",
    "\n",
    "dimensione_punti = 3  # Diminuire per avere punti più piccoli\n",
    "\n",
    "# Crea un grafico 3D con Plotly e riduci la dimensione del testo\n",
    "fig = px.scatter_3d(\n",
    "    df, x='x', y='y', z='z', text='Documento', title=\"Embeddings Doc2Vec a 3 dimensioni\",\n",
    "    size=[dimensione_punti] * len(x_coords),  # Dimensione uniforme\n",
    "    size_max=5,  # Dimensione massima dei punti\n",
    "    opacity=0.7  # Controlla la trasparenza dei punti\n",
    ")\n",
    "\n",
    "# Riduci la dimensione del testo\n",
    "fig.update_traces(textfont=dict(size=8))  # Riduci la dimensione delle etichette di testo\n",
    "\n",
    "# Regola i limiti degli assi per evitare compressione\n",
    "fig.update_layout(\n",
    "    scene=dict(\n",
    "        xaxis=dict(title='X', range=[min(x_coords), max(x_coords)]),\n",
    "        yaxis=dict(title='Y', range=[min(y_coords), max(y_coords)]),\n",
    "        zaxis=dict(title='Z', range=[min(z_coords), max(z_coords)]),\n",
    "    )\n",
    ")\n",
    "\n",
    "# Mostra il grafico interattivo\n",
    "fig.show()"
   ]
  },
  {
   "cell_type": "markdown",
   "id": "3af09f95",
   "metadata": {},
   "source": [
    "Proviamo ora a fittare un modello di classificazione di doc2vec!"
   ]
  },
  {
   "cell_type": "code",
   "execution_count": 41,
   "id": "b903e400",
   "metadata": {},
   "outputs": [
    {
     "data": {
      "text/plain": [
       "[array([-6.8122516, -4.0168076, -6.3381686], dtype=float32),\n",
       " array([-5.087824 , -1.8568385, -6.39959  ], dtype=float32),\n",
       " array([-3.2681034,  3.6644297, -3.4451447], dtype=float32),\n",
       " array([-5.1997676,  0.8105659, -0.5226108], dtype=float32),\n",
       " array([-4.7291107,  1.1009164, -0.2983972], dtype=float32),\n",
       " array([-2.4933255,  0.7049951, -0.5739644], dtype=float32),\n",
       " array([-3.0773997 ,  1.0471344 , -0.21617569], dtype=float32),\n",
       " array([-8.015034 , -5.3616085, -6.631443 ], dtype=float32),\n",
       " array([-1.7737176,  5.117809 , -5.709857 ], dtype=float32),\n",
       " array([-1.9934502,  4.2407756, -6.4214563], dtype=float32),\n",
       " array([-2.4043815,  1.0949188, -8.478616 ], dtype=float32),\n",
       " array([-4.051317  ,  2.9924703 ,  0.02855911], dtype=float32),\n",
       " array([-3.9753256,  1.2216841, -2.394981 ], dtype=float32),\n",
       " array([-4.193719  ,  0.38573876, -2.3592653 ], dtype=float32),\n",
       " array([-4.185714 ,  3.5628204, -0.3900982], dtype=float32),\n",
       " array([-4.4365587,  1.8156661, -0.3583019], dtype=float32),\n",
       " array([-2.5569448,  1.1426364, -0.9263428], dtype=float32),\n",
       " array([-4.299    ,  0.9072931, -2.1039686], dtype=float32),\n",
       " array([-2.787771 ,  1.500816 , -1.3371664], dtype=float32),\n",
       " array([-4.981239  ,  1.3118918 , -0.12937398], dtype=float32),\n",
       " array([-2.862003 ,  1.1124527, -1.9938412], dtype=float32),\n",
       " array([-2.7042406,  2.0047622, -1.7465914], dtype=float32),\n",
       " array([-2.9514556,  4.110187 , -3.0654159], dtype=float32),\n",
       " array([-2.8669903 , -0.06718351, -1.204355  ], dtype=float32),\n",
       " array([-3.7623672,  1.2574998, -1.2192657], dtype=float32),\n",
       " array([-2.3656776 ,  1.1015297 , -0.78973806], dtype=float32),\n",
       " array([-3.4423678,  2.1887066, -1.0440922], dtype=float32),\n",
       " array([-3.0342226,  1.2297056, -0.6936968], dtype=float32),\n",
       " array([-3.387465 ,  4.3556585, -1.2567664], dtype=float32),\n",
       " array([-2.9737787,  0.3187937, -1.3121462], dtype=float32),\n",
       " array([-3.0354125,  1.5608193, -1.9985675], dtype=float32),\n",
       " array([-5.46495   ,  0.19676448,  0.2068837 ], dtype=float32),\n",
       " array([-4.415217 , -0.0207475, -3.0547204], dtype=float32),\n",
       " array([-3.7912753,  0.8339817, -1.1864667], dtype=float32),\n",
       " array([-2.6263757 ,  1.2546276 , -0.02521062], dtype=float32),\n",
       " array([-2.621545 ,  1.7035409, -0.5533919], dtype=float32),\n",
       " array([-4.3360543,  2.2416115,  0.7159338], dtype=float32),\n",
       " array([-3.9948807, -0.7125062, -3.4232807], dtype=float32),\n",
       " array([-2.552509 ,  2.7937472, -2.217488 ], dtype=float32),\n",
       " array([-2.568954 ,  1.060534 , -1.1843029], dtype=float32),\n",
       " array([-2.8804977,  3.6623042, -2.8326795], dtype=float32),\n",
       " array([-4.38253   ,  0.02534413, -3.0591395 ], dtype=float32),\n",
       " array([-4.507092  ,  2.3258922 , -0.70789516], dtype=float32),\n",
       " array([-4.03688  ,  1.9824095, -1.8045927], dtype=float32),\n",
       " array([-3.1594496,  1.018075 , -0.5143362], dtype=float32),\n",
       " array([-4.346037  ,  1.465824  ,  0.11241687], dtype=float32),\n",
       " array([-6.785657 ,  1.6981677,  2.2173147], dtype=float32),\n",
       " array([-4.443967  , -0.22993651, -4.7394958 ], dtype=float32),\n",
       " array([-3.6117353 , -0.2413678 ,  0.12145399], dtype=float32),\n",
       " array([-3.6012871 ,  0.7407839 , -0.13328885], dtype=float32),\n",
       " array([-3.7765255 ,  0.18361463,  0.14229235], dtype=float32),\n",
       " array([-4.6328135 , -0.7497274 , -0.01904351], dtype=float32),\n",
       " array([-4.0159974 ,  0.8329867 , -0.13477346], dtype=float32),\n",
       " array([-2.9127655 ,  0.62854177, -0.43872717], dtype=float32),\n",
       " array([-2.8583732 , -0.03093834, -1.4729084 ], dtype=float32),\n",
       " array([-3.3035767 , -0.13736674, -1.7505153 ], dtype=float32),\n",
       " array([-3.3517094 ,  0.32585785, -0.56252646], dtype=float32),\n",
       " array([-3.2944822 ,  0.21937746, -1.0866046 ], dtype=float32),\n",
       " array([-3.4049413 ,  0.46691135, -0.94403803], dtype=float32),\n",
       " array([-3.5580008,  0.553334 , -2.0908988], dtype=float32),\n",
       " array([-3.744297 ,  1.1268723, -1.0707791], dtype=float32),\n",
       " array([-5.2631865,  1.6459434,  1.5781686], dtype=float32),\n",
       " array([-6.441122 ,  1.8319842,  3.5717342], dtype=float32),\n",
       " array([-4.375831  ,  0.7601472 , -0.93497485], dtype=float32),\n",
       " array([-1.546519,  5.110258, -7.944146], dtype=float32),\n",
       " array([-5.0240974 ,  1.3921735 ,  0.97485745], dtype=float32),\n",
       " array([-5.1306396 ,  1.1260185 ,  0.27800062], dtype=float32),\n",
       " array([-4.824371 ,  2.4844248,  0.7155998], dtype=float32),\n",
       " array([-3.9229324,  2.122469 , -1.1117305], dtype=float32),\n",
       " array([-4.4009776 ,  1.4252081 , -0.03271151], dtype=float32),\n",
       " array([-3.661202  ,  0.44231397, -4.026651  ], dtype=float32),\n",
       " array([-4.6576533 ,  0.26539218, -1.4921515 ], dtype=float32),\n",
       " array([-4.167476  ,  3.2045715 ,  0.07973567], dtype=float32),\n",
       " array([-5.8924065, -2.8064618, -5.1222076], dtype=float32),\n",
       " array([-2.7994142,  2.4381762, -3.5651922], dtype=float32),\n",
       " array([-3.1362133,  2.4768708, -4.7904625], dtype=float32),\n",
       " array([-2.8180788,  4.575332 , -3.5209842], dtype=float32),\n",
       " array([-4.8465867,  4.25839  ,  1.5366683], dtype=float32),\n",
       " array([-3.092152 ,  3.3008387, -2.9115927], dtype=float32),\n",
       " array([-3.3062408,  3.78052  , -4.5026836], dtype=float32),\n",
       " array([-4.438311  ,  7.116099  ,  0.00918725], dtype=float32),\n",
       " array([-2.725717  ,  0.92171633, -0.15384759], dtype=float32),\n",
       " array([-2.6368632,  1.0559554, -0.3517421], dtype=float32),\n",
       " array([-5.320115 ,  1.3761979,  0.559782 ], dtype=float32),\n",
       " array([-6.7874703 , -0.67749596,  0.9334281 ], dtype=float32),\n",
       " array([-6.063871 ,  3.6498518,  1.9593127], dtype=float32)]"
      ]
     },
     "execution_count": 41,
     "metadata": {},
     "output_type": "execute_result"
    }
   ],
   "source": [
    "embeddings"
   ]
  },
  {
   "cell_type": "code",
   "execution_count": 42,
   "id": "eabb0a69",
   "metadata": {},
   "outputs": [
    {
     "name": "stdout",
     "output_type": "stream",
     "text": [
      "           x         y         z\n",
      "0  -6.812252 -4.016808 -6.338169\n",
      "1  -5.087824 -1.856838 -6.399590\n",
      "2  -3.268103  3.664430 -3.445145\n",
      "3  -5.199768  0.810566 -0.522611\n",
      "4  -4.729111  1.100916 -0.298397\n",
      "..       ...       ...       ...\n",
      "81 -2.725717  0.921716 -0.153848\n",
      "82 -2.636863  1.055955 -0.351742\n",
      "83 -5.320115  1.376198  0.559782\n",
      "84 -6.787470 -0.677496  0.933428\n",
      "85 -6.063871  3.649852  1.959313\n",
      "\n",
      "[86 rows x 3 columns]\n"
     ]
    }
   ],
   "source": [
    "df = pd.DataFrame(embeddings, columns=[\"x\", \"y\", \"z\"])\n",
    "\n",
    "# Mostra il DataFrame\n",
    "print(df)"
   ]
  },
  {
   "cell_type": "code",
   "execution_count": 45,
   "id": "ae72744a",
   "metadata": {},
   "outputs": [
    {
     "data": {
      "text/plain": [
       "Index(['Unnamed: 0', 'id', 'text', 'age', 'symptoms', 'gender', 'domain',\n",
       "       'diagnosis', 'outcome', 'Orthopedics', 'Cardiology', 'Neurology',\n",
       "       'Endocrinology', 'Pulmonology', 'Nephrology', 'Oncology',\n",
       "       'Gastroenterology', 'Hematology', 'Infectious Diseases', 'Rheumatology',\n",
       "       'Psychiatry', 'Internal Medicine', 'Geriatrics', 'Urology',\n",
       "       'Toxicology', 'Genetics', 'Pediatrics', 'Outcome_2', 'last_sentences'],\n",
       "      dtype='object')"
      ]
     },
     "execution_count": 45,
     "metadata": {},
     "output_type": "execute_result"
    }
   ],
   "source": [
    "df_E3C.columns"
   ]
  },
  {
   "cell_type": "code",
   "execution_count": 49,
   "id": "1fa6ddcf",
   "metadata": {},
   "outputs": [],
   "source": [
    "df_E3C_Y_contrastive = df_E3C.loc[:,['Orthopedics', 'Cardiology', 'Neurology',\n",
    "       'Endocrinology', 'Pulmonology', 'Nephrology', 'Oncology',\n",
    "       'Gastroenterology', 'Hematology', 'Infectious Diseases', 'Rheumatology',\n",
    "       'Psychiatry', 'Internal Medicine', 'Geriatrics', 'Urology',\n",
    "       'Toxicology', 'Genetics', 'Pediatrics']]"
   ]
  },
  {
   "cell_type": "code",
   "execution_count": 50,
   "id": "9f019725",
   "metadata": {},
   "outputs": [
    {
     "data": {
      "text/html": [
       "<div>\n",
       "<style scoped>\n",
       "    .dataframe tbody tr th:only-of-type {\n",
       "        vertical-align: middle;\n",
       "    }\n",
       "\n",
       "    .dataframe tbody tr th {\n",
       "        vertical-align: top;\n",
       "    }\n",
       "\n",
       "    .dataframe thead th {\n",
       "        text-align: right;\n",
       "    }\n",
       "</style>\n",
       "<table border=\"1\" class=\"dataframe\">\n",
       "  <thead>\n",
       "    <tr style=\"text-align: right;\">\n",
       "      <th></th>\n",
       "      <th>Orthopedics</th>\n",
       "      <th>Cardiology</th>\n",
       "      <th>Neurology</th>\n",
       "      <th>Endocrinology</th>\n",
       "      <th>Pulmonology</th>\n",
       "      <th>Nephrology</th>\n",
       "      <th>Oncology</th>\n",
       "      <th>Gastroenterology</th>\n",
       "      <th>Hematology</th>\n",
       "      <th>Infectious Diseases</th>\n",
       "      <th>Rheumatology</th>\n",
       "      <th>Psychiatry</th>\n",
       "      <th>Internal Medicine</th>\n",
       "      <th>Geriatrics</th>\n",
       "      <th>Urology</th>\n",
       "      <th>Toxicology</th>\n",
       "      <th>Genetics</th>\n",
       "      <th>Pediatrics</th>\n",
       "    </tr>\n",
       "  </thead>\n",
       "  <tbody>\n",
       "    <tr>\n",
       "      <th>0</th>\n",
       "      <td>True</td>\n",
       "      <td>True</td>\n",
       "      <td>False</td>\n",
       "      <td>False</td>\n",
       "      <td>False</td>\n",
       "      <td>False</td>\n",
       "      <td>False</td>\n",
       "      <td>False</td>\n",
       "      <td>False</td>\n",
       "      <td>False</td>\n",
       "      <td>False</td>\n",
       "      <td>False</td>\n",
       "      <td>False</td>\n",
       "      <td>False</td>\n",
       "      <td>False</td>\n",
       "      <td>False</td>\n",
       "      <td>False</td>\n",
       "      <td>False</td>\n",
       "    </tr>\n",
       "    <tr>\n",
       "      <th>1</th>\n",
       "      <td>False</td>\n",
       "      <td>False</td>\n",
       "      <td>True</td>\n",
       "      <td>True</td>\n",
       "      <td>False</td>\n",
       "      <td>False</td>\n",
       "      <td>False</td>\n",
       "      <td>False</td>\n",
       "      <td>False</td>\n",
       "      <td>False</td>\n",
       "      <td>False</td>\n",
       "      <td>False</td>\n",
       "      <td>False</td>\n",
       "      <td>False</td>\n",
       "      <td>False</td>\n",
       "      <td>False</td>\n",
       "      <td>False</td>\n",
       "      <td>False</td>\n",
       "    </tr>\n",
       "    <tr>\n",
       "      <th>2</th>\n",
       "      <td>False</td>\n",
       "      <td>False</td>\n",
       "      <td>False</td>\n",
       "      <td>False</td>\n",
       "      <td>True</td>\n",
       "      <td>True</td>\n",
       "      <td>False</td>\n",
       "      <td>False</td>\n",
       "      <td>False</td>\n",
       "      <td>False</td>\n",
       "      <td>False</td>\n",
       "      <td>False</td>\n",
       "      <td>False</td>\n",
       "      <td>False</td>\n",
       "      <td>False</td>\n",
       "      <td>False</td>\n",
       "      <td>False</td>\n",
       "      <td>False</td>\n",
       "    </tr>\n",
       "    <tr>\n",
       "      <th>3</th>\n",
       "      <td>False</td>\n",
       "      <td>False</td>\n",
       "      <td>False</td>\n",
       "      <td>False</td>\n",
       "      <td>False</td>\n",
       "      <td>True</td>\n",
       "      <td>False</td>\n",
       "      <td>False</td>\n",
       "      <td>False</td>\n",
       "      <td>False</td>\n",
       "      <td>False</td>\n",
       "      <td>False</td>\n",
       "      <td>False</td>\n",
       "      <td>False</td>\n",
       "      <td>False</td>\n",
       "      <td>False</td>\n",
       "      <td>False</td>\n",
       "      <td>False</td>\n",
       "    </tr>\n",
       "    <tr>\n",
       "      <th>4</th>\n",
       "      <td>False</td>\n",
       "      <td>False</td>\n",
       "      <td>False</td>\n",
       "      <td>False</td>\n",
       "      <td>False</td>\n",
       "      <td>False</td>\n",
       "      <td>True</td>\n",
       "      <td>False</td>\n",
       "      <td>False</td>\n",
       "      <td>False</td>\n",
       "      <td>False</td>\n",
       "      <td>False</td>\n",
       "      <td>False</td>\n",
       "      <td>False</td>\n",
       "      <td>False</td>\n",
       "      <td>False</td>\n",
       "      <td>False</td>\n",
       "      <td>False</td>\n",
       "    </tr>\n",
       "    <tr>\n",
       "      <th>...</th>\n",
       "      <td>...</td>\n",
       "      <td>...</td>\n",
       "      <td>...</td>\n",
       "      <td>...</td>\n",
       "      <td>...</td>\n",
       "      <td>...</td>\n",
       "      <td>...</td>\n",
       "      <td>...</td>\n",
       "      <td>...</td>\n",
       "      <td>...</td>\n",
       "      <td>...</td>\n",
       "      <td>...</td>\n",
       "      <td>...</td>\n",
       "      <td>...</td>\n",
       "      <td>...</td>\n",
       "      <td>...</td>\n",
       "      <td>...</td>\n",
       "      <td>...</td>\n",
       "    </tr>\n",
       "    <tr>\n",
       "      <th>81</th>\n",
       "      <td>False</td>\n",
       "      <td>False</td>\n",
       "      <td>False</td>\n",
       "      <td>False</td>\n",
       "      <td>False</td>\n",
       "      <td>True</td>\n",
       "      <td>False</td>\n",
       "      <td>False</td>\n",
       "      <td>False</td>\n",
       "      <td>False</td>\n",
       "      <td>False</td>\n",
       "      <td>False</td>\n",
       "      <td>False</td>\n",
       "      <td>False</td>\n",
       "      <td>False</td>\n",
       "      <td>False</td>\n",
       "      <td>False</td>\n",
       "      <td>False</td>\n",
       "    </tr>\n",
       "    <tr>\n",
       "      <th>82</th>\n",
       "      <td>False</td>\n",
       "      <td>False</td>\n",
       "      <td>False</td>\n",
       "      <td>False</td>\n",
       "      <td>False</td>\n",
       "      <td>False</td>\n",
       "      <td>False</td>\n",
       "      <td>False</td>\n",
       "      <td>False</td>\n",
       "      <td>False</td>\n",
       "      <td>False</td>\n",
       "      <td>False</td>\n",
       "      <td>True</td>\n",
       "      <td>False</td>\n",
       "      <td>False</td>\n",
       "      <td>False</td>\n",
       "      <td>False</td>\n",
       "      <td>False</td>\n",
       "    </tr>\n",
       "    <tr>\n",
       "      <th>83</th>\n",
       "      <td>False</td>\n",
       "      <td>False</td>\n",
       "      <td>False</td>\n",
       "      <td>False</td>\n",
       "      <td>False</td>\n",
       "      <td>False</td>\n",
       "      <td>False</td>\n",
       "      <td>False</td>\n",
       "      <td>False</td>\n",
       "      <td>False</td>\n",
       "      <td>False</td>\n",
       "      <td>False</td>\n",
       "      <td>False</td>\n",
       "      <td>False</td>\n",
       "      <td>False</td>\n",
       "      <td>False</td>\n",
       "      <td>False</td>\n",
       "      <td>False</td>\n",
       "    </tr>\n",
       "    <tr>\n",
       "      <th>84</th>\n",
       "      <td>False</td>\n",
       "      <td>False</td>\n",
       "      <td>False</td>\n",
       "      <td>False</td>\n",
       "      <td>False</td>\n",
       "      <td>False</td>\n",
       "      <td>False</td>\n",
       "      <td>True</td>\n",
       "      <td>False</td>\n",
       "      <td>False</td>\n",
       "      <td>False</td>\n",
       "      <td>False</td>\n",
       "      <td>False</td>\n",
       "      <td>False</td>\n",
       "      <td>False</td>\n",
       "      <td>False</td>\n",
       "      <td>False</td>\n",
       "      <td>False</td>\n",
       "    </tr>\n",
       "    <tr>\n",
       "      <th>85</th>\n",
       "      <td>False</td>\n",
       "      <td>False</td>\n",
       "      <td>False</td>\n",
       "      <td>False</td>\n",
       "      <td>False</td>\n",
       "      <td>False</td>\n",
       "      <td>False</td>\n",
       "      <td>False</td>\n",
       "      <td>False</td>\n",
       "      <td>False</td>\n",
       "      <td>False</td>\n",
       "      <td>False</td>\n",
       "      <td>False</td>\n",
       "      <td>False</td>\n",
       "      <td>False</td>\n",
       "      <td>False</td>\n",
       "      <td>False</td>\n",
       "      <td>False</td>\n",
       "    </tr>\n",
       "  </tbody>\n",
       "</table>\n",
       "<p>86 rows × 18 columns</p>\n",
       "</div>"
      ],
      "text/plain": [
       "    Orthopedics  Cardiology  Neurology  Endocrinology  Pulmonology  \\\n",
       "0          True        True      False          False        False   \n",
       "1         False       False       True           True        False   \n",
       "2         False       False      False          False         True   \n",
       "3         False       False      False          False        False   \n",
       "4         False       False      False          False        False   \n",
       "..          ...         ...        ...            ...          ...   \n",
       "81        False       False      False          False        False   \n",
       "82        False       False      False          False        False   \n",
       "83        False       False      False          False        False   \n",
       "84        False       False      False          False        False   \n",
       "85        False       False      False          False        False   \n",
       "\n",
       "    Nephrology  Oncology  Gastroenterology  Hematology  Infectious Diseases  \\\n",
       "0        False     False             False       False                False   \n",
       "1        False     False             False       False                False   \n",
       "2         True     False             False       False                False   \n",
       "3         True     False             False       False                False   \n",
       "4        False      True             False       False                False   \n",
       "..         ...       ...               ...         ...                  ...   \n",
       "81        True     False             False       False                False   \n",
       "82       False     False             False       False                False   \n",
       "83       False     False             False       False                False   \n",
       "84       False     False              True       False                False   \n",
       "85       False     False             False       False                False   \n",
       "\n",
       "    Rheumatology  Psychiatry  Internal Medicine  Geriatrics  Urology  \\\n",
       "0          False       False              False       False    False   \n",
       "1          False       False              False       False    False   \n",
       "2          False       False              False       False    False   \n",
       "3          False       False              False       False    False   \n",
       "4          False       False              False       False    False   \n",
       "..           ...         ...                ...         ...      ...   \n",
       "81         False       False              False       False    False   \n",
       "82         False       False               True       False    False   \n",
       "83         False       False              False       False    False   \n",
       "84         False       False              False       False    False   \n",
       "85         False       False              False       False    False   \n",
       "\n",
       "    Toxicology  Genetics  Pediatrics  \n",
       "0        False     False       False  \n",
       "1        False     False       False  \n",
       "2        False     False       False  \n",
       "3        False     False       False  \n",
       "4        False     False       False  \n",
       "..         ...       ...         ...  \n",
       "81       False     False       False  \n",
       "82       False     False       False  \n",
       "83       False     False       False  \n",
       "84       False     False       False  \n",
       "85       False     False       False  \n",
       "\n",
       "[86 rows x 18 columns]"
      ]
     },
     "execution_count": 50,
     "metadata": {},
     "output_type": "execute_result"
    }
   ],
   "source": [
    "df_E3C_Y_contrastive"
   ]
  },
  {
   "cell_type": "code",
   "execution_count": 51,
   "id": "fac6a5c7",
   "metadata": {},
   "outputs": [
    {
     "data": {
      "text/plain": [
       "Orthopedics             2\n",
       "Cardiology             12\n",
       "Neurology               8\n",
       "Endocrinology           6\n",
       "Pulmonology             4\n",
       "Nephrology              4\n",
       "Oncology               15\n",
       "Gastroenterology       12\n",
       "Hematology              9\n",
       "Infectious Diseases     7\n",
       "Rheumatology            1\n",
       "Psychiatry              1\n",
       "Internal Medicine       7\n",
       "Geriatrics              1\n",
       "Urology                 2\n",
       "Toxicology              1\n",
       "Genetics                1\n",
       "Pediatrics             13\n",
       "dtype: int64"
      ]
     },
     "execution_count": 51,
     "metadata": {},
     "output_type": "execute_result"
    }
   ],
   "source": [
    "df_E3C_Y_contrastive.sum()"
   ]
  },
  {
   "cell_type": "markdown",
   "id": "d5775c8f",
   "metadata": {},
   "source": [
    "considero solo i più frequenti ovvero peciatrics, cardiology, oncology, gastroenterology."
   ]
  },
  {
   "cell_type": "code",
   "execution_count": 55,
   "id": "facdd410",
   "metadata": {},
   "outputs": [],
   "source": [
    "Y = []\n",
    "\n",
    "# Oss questo codice mi permette di dare un'etichetta unica a ogni dato, secondo la regola che le etichette piu frequenti \n",
    "# hanno la priorità in caso di etichetta a valore multiplo!\n",
    "for i in range(len(df_E3C_Y_contrastive)):\n",
    "    if df_E3C_Y_contrastive.loc[i,'Oncology']==True:\n",
    "        Y.append('Oncology')\n",
    "    elif df_E3C_Y_contrastive.loc[i,'Pediatrics']==True:\n",
    "        Y.append('Pediatrics')\n",
    "    elif df_E3C_Y_contrastive.loc[i,'Cardiology']==True:\n",
    "        Y.append('Cardiology')\n",
    "    elif df_E3C_Y_contrastive.loc[i,'Gastroenterology']==True:\n",
    "        Y.append('Gastroenterology')\n",
    "    else:\n",
    "        Y.append('Other')"
   ]
  },
  {
   "cell_type": "code",
   "execution_count": 59,
   "id": "f0353e79",
   "metadata": {},
   "outputs": [
    {
     "data": {
      "text/plain": [
       "['Cardiology',\n",
       " 'Other',\n",
       " 'Other',\n",
       " 'Other',\n",
       " 'Oncology',\n",
       " 'Gastroenterology',\n",
       " 'Oncology',\n",
       " 'Other',\n",
       " 'Other',\n",
       " 'Oncology',\n",
       " 'Other',\n",
       " 'Other',\n",
       " 'Cardiology',\n",
       " 'Cardiology',\n",
       " 'Oncology',\n",
       " 'Cardiology',\n",
       " 'Other',\n",
       " 'Other',\n",
       " 'Other',\n",
       " 'Other',\n",
       " 'Other',\n",
       " 'Other',\n",
       " 'Other',\n",
       " 'Cardiology',\n",
       " 'Other',\n",
       " 'Cardiology',\n",
       " 'Other',\n",
       " 'Gastroenterology',\n",
       " 'Gastroenterology',\n",
       " 'Gastroenterology',\n",
       " 'Other',\n",
       " 'Cardiology',\n",
       " 'Other',\n",
       " 'Cardiology',\n",
       " 'Other',\n",
       " 'Other',\n",
       " 'Other',\n",
       " 'Other',\n",
       " 'Other',\n",
       " 'Other',\n",
       " 'Gastroenterology',\n",
       " 'Gastroenterology',\n",
       " 'Other',\n",
       " 'Other',\n",
       " 'Cardiology',\n",
       " 'Cardiology',\n",
       " 'Cardiology',\n",
       " 'Other',\n",
       " 'Oncology',\n",
       " 'Gastroenterology',\n",
       " 'Oncology',\n",
       " 'Other',\n",
       " 'Other',\n",
       " 'Other',\n",
       " 'Other',\n",
       " 'Gastroenterology',\n",
       " 'Other',\n",
       " 'Other',\n",
       " 'Other',\n",
       " 'Other',\n",
       " 'Other',\n",
       " 'Pediatrics',\n",
       " 'Pediatrics',\n",
       " 'Pediatrics',\n",
       " 'Pediatrics',\n",
       " 'Pediatrics',\n",
       " 'Pediatrics',\n",
       " 'Oncology',\n",
       " 'Other',\n",
       " 'Oncology',\n",
       " 'Other',\n",
       " 'Oncology',\n",
       " 'Oncology',\n",
       " 'Oncology',\n",
       " 'Pediatrics',\n",
       " 'Pediatrics',\n",
       " 'Oncology',\n",
       " 'Pediatrics',\n",
       " 'Oncology',\n",
       " 'Oncology',\n",
       " 'Oncology',\n",
       " 'Other',\n",
       " 'Other',\n",
       " 'Other',\n",
       " 'Gastroenterology',\n",
       " 'Other']"
      ]
     },
     "execution_count": 59,
     "metadata": {},
     "output_type": "execute_result"
    }
   ],
   "source": [
    "Y"
   ]
  },
  {
   "cell_type": "code",
   "execution_count": 62,
   "id": "56bb538b",
   "metadata": {},
   "outputs": [],
   "source": [
    "df['Y'] = Y"
   ]
  },
  {
   "cell_type": "code",
   "execution_count": 67,
   "id": "f308a498",
   "metadata": {},
   "outputs": [
    {
     "data": {
      "text/html": [
       "<div>\n",
       "<style scoped>\n",
       "    .dataframe tbody tr th:only-of-type {\n",
       "        vertical-align: middle;\n",
       "    }\n",
       "\n",
       "    .dataframe tbody tr th {\n",
       "        vertical-align: top;\n",
       "    }\n",
       "\n",
       "    .dataframe thead th {\n",
       "        text-align: right;\n",
       "    }\n",
       "</style>\n",
       "<table border=\"1\" class=\"dataframe\">\n",
       "  <thead>\n",
       "    <tr style=\"text-align: right;\">\n",
       "      <th></th>\n",
       "      <th>x</th>\n",
       "      <th>y</th>\n",
       "      <th>z</th>\n",
       "      <th>Y</th>\n",
       "    </tr>\n",
       "  </thead>\n",
       "  <tbody>\n",
       "    <tr>\n",
       "      <th>0</th>\n",
       "      <td>-6.812252</td>\n",
       "      <td>-4.016808</td>\n",
       "      <td>-6.338169</td>\n",
       "      <td>Cardiology</td>\n",
       "    </tr>\n",
       "    <tr>\n",
       "      <th>1</th>\n",
       "      <td>-5.087824</td>\n",
       "      <td>-1.856838</td>\n",
       "      <td>-6.399590</td>\n",
       "      <td>Other</td>\n",
       "    </tr>\n",
       "    <tr>\n",
       "      <th>2</th>\n",
       "      <td>-3.268103</td>\n",
       "      <td>3.664430</td>\n",
       "      <td>-3.445145</td>\n",
       "      <td>Other</td>\n",
       "    </tr>\n",
       "    <tr>\n",
       "      <th>3</th>\n",
       "      <td>-5.199768</td>\n",
       "      <td>0.810566</td>\n",
       "      <td>-0.522611</td>\n",
       "      <td>Other</td>\n",
       "    </tr>\n",
       "    <tr>\n",
       "      <th>4</th>\n",
       "      <td>-4.729111</td>\n",
       "      <td>1.100916</td>\n",
       "      <td>-0.298397</td>\n",
       "      <td>Oncology</td>\n",
       "    </tr>\n",
       "    <tr>\n",
       "      <th>...</th>\n",
       "      <td>...</td>\n",
       "      <td>...</td>\n",
       "      <td>...</td>\n",
       "      <td>...</td>\n",
       "    </tr>\n",
       "    <tr>\n",
       "      <th>81</th>\n",
       "      <td>-2.725717</td>\n",
       "      <td>0.921716</td>\n",
       "      <td>-0.153848</td>\n",
       "      <td>Other</td>\n",
       "    </tr>\n",
       "    <tr>\n",
       "      <th>82</th>\n",
       "      <td>-2.636863</td>\n",
       "      <td>1.055955</td>\n",
       "      <td>-0.351742</td>\n",
       "      <td>Other</td>\n",
       "    </tr>\n",
       "    <tr>\n",
       "      <th>83</th>\n",
       "      <td>-5.320115</td>\n",
       "      <td>1.376198</td>\n",
       "      <td>0.559782</td>\n",
       "      <td>Other</td>\n",
       "    </tr>\n",
       "    <tr>\n",
       "      <th>84</th>\n",
       "      <td>-6.787470</td>\n",
       "      <td>-0.677496</td>\n",
       "      <td>0.933428</td>\n",
       "      <td>Gastroenterology</td>\n",
       "    </tr>\n",
       "    <tr>\n",
       "      <th>85</th>\n",
       "      <td>-6.063871</td>\n",
       "      <td>3.649852</td>\n",
       "      <td>1.959313</td>\n",
       "      <td>Other</td>\n",
       "    </tr>\n",
       "  </tbody>\n",
       "</table>\n",
       "<p>86 rows × 4 columns</p>\n",
       "</div>"
      ],
      "text/plain": [
       "           x         y         z                 Y\n",
       "0  -6.812252 -4.016808 -6.338169        Cardiology\n",
       "1  -5.087824 -1.856838 -6.399590             Other\n",
       "2  -3.268103  3.664430 -3.445145             Other\n",
       "3  -5.199768  0.810566 -0.522611             Other\n",
       "4  -4.729111  1.100916 -0.298397          Oncology\n",
       "..       ...       ...       ...               ...\n",
       "81 -2.725717  0.921716 -0.153848             Other\n",
       "82 -2.636863  1.055955 -0.351742             Other\n",
       "83 -5.320115  1.376198  0.559782             Other\n",
       "84 -6.787470 -0.677496  0.933428  Gastroenterology\n",
       "85 -6.063871  3.649852  1.959313             Other\n",
       "\n",
       "[86 rows x 4 columns]"
      ]
     },
     "execution_count": 67,
     "metadata": {},
     "output_type": "execute_result"
    }
   ],
   "source": [
    "df"
   ]
  },
  {
   "cell_type": "code",
   "execution_count": 71,
   "id": "207a505e",
   "metadata": {},
   "outputs": [
    {
     "data": {
      "text/plain": [
       "Other               42\n",
       "Oncology            15\n",
       "Cardiology          11\n",
       "Gastroenterology     9\n",
       "Pediatrics           9\n",
       "Name: Y, dtype: int64"
      ]
     },
     "execution_count": 71,
     "metadata": {},
     "output_type": "execute_result"
    }
   ],
   "source": [
    "conteggi = df[\"Y\"].value_counts()\n",
    "conteggi"
   ]
  },
  {
   "cell_type": "code",
   "execution_count": 72,
   "id": "157f33b4",
   "metadata": {},
   "outputs": [
    {
     "data": {
      "text/html": [
       "<div>\n",
       "<style scoped>\n",
       "    .dataframe tbody tr th:only-of-type {\n",
       "        vertical-align: middle;\n",
       "    }\n",
       "\n",
       "    .dataframe tbody tr th {\n",
       "        vertical-align: top;\n",
       "    }\n",
       "\n",
       "    .dataframe thead th {\n",
       "        text-align: right;\n",
       "    }\n",
       "</style>\n",
       "<table border=\"1\" class=\"dataframe\">\n",
       "  <thead>\n",
       "    <tr style=\"text-align: right;\">\n",
       "      <th></th>\n",
       "      <th>x</th>\n",
       "      <th>y</th>\n",
       "      <th>z</th>\n",
       "      <th>Y</th>\n",
       "    </tr>\n",
       "  </thead>\n",
       "  <tbody>\n",
       "    <tr>\n",
       "      <th>0</th>\n",
       "      <td>-6.812252</td>\n",
       "      <td>-4.016808</td>\n",
       "      <td>-6.338169</td>\n",
       "      <td>Cardiology</td>\n",
       "    </tr>\n",
       "    <tr>\n",
       "      <th>1</th>\n",
       "      <td>-5.087824</td>\n",
       "      <td>-1.856838</td>\n",
       "      <td>-6.399590</td>\n",
       "      <td>Other</td>\n",
       "    </tr>\n",
       "    <tr>\n",
       "      <th>2</th>\n",
       "      <td>-3.268103</td>\n",
       "      <td>3.664430</td>\n",
       "      <td>-3.445145</td>\n",
       "      <td>Other</td>\n",
       "    </tr>\n",
       "    <tr>\n",
       "      <th>3</th>\n",
       "      <td>-5.199768</td>\n",
       "      <td>0.810566</td>\n",
       "      <td>-0.522611</td>\n",
       "      <td>Other</td>\n",
       "    </tr>\n",
       "    <tr>\n",
       "      <th>4</th>\n",
       "      <td>-4.729111</td>\n",
       "      <td>1.100916</td>\n",
       "      <td>-0.298397</td>\n",
       "      <td>Oncology</td>\n",
       "    </tr>\n",
       "    <tr>\n",
       "      <th>...</th>\n",
       "      <td>...</td>\n",
       "      <td>...</td>\n",
       "      <td>...</td>\n",
       "      <td>...</td>\n",
       "    </tr>\n",
       "    <tr>\n",
       "      <th>81</th>\n",
       "      <td>-2.725717</td>\n",
       "      <td>0.921716</td>\n",
       "      <td>-0.153848</td>\n",
       "      <td>Other</td>\n",
       "    </tr>\n",
       "    <tr>\n",
       "      <th>82</th>\n",
       "      <td>-2.636863</td>\n",
       "      <td>1.055955</td>\n",
       "      <td>-0.351742</td>\n",
       "      <td>Other</td>\n",
       "    </tr>\n",
       "    <tr>\n",
       "      <th>83</th>\n",
       "      <td>-5.320115</td>\n",
       "      <td>1.376198</td>\n",
       "      <td>0.559782</td>\n",
       "      <td>Other</td>\n",
       "    </tr>\n",
       "    <tr>\n",
       "      <th>84</th>\n",
       "      <td>-6.787470</td>\n",
       "      <td>-0.677496</td>\n",
       "      <td>0.933428</td>\n",
       "      <td>Gastroenterology</td>\n",
       "    </tr>\n",
       "    <tr>\n",
       "      <th>85</th>\n",
       "      <td>-6.063871</td>\n",
       "      <td>3.649852</td>\n",
       "      <td>1.959313</td>\n",
       "      <td>Other</td>\n",
       "    </tr>\n",
       "  </tbody>\n",
       "</table>\n",
       "<p>86 rows × 4 columns</p>\n",
       "</div>"
      ],
      "text/plain": [
       "           x         y         z                 Y\n",
       "0  -6.812252 -4.016808 -6.338169        Cardiology\n",
       "1  -5.087824 -1.856838 -6.399590             Other\n",
       "2  -3.268103  3.664430 -3.445145             Other\n",
       "3  -5.199768  0.810566 -0.522611             Other\n",
       "4  -4.729111  1.100916 -0.298397          Oncology\n",
       "..       ...       ...       ...               ...\n",
       "81 -2.725717  0.921716 -0.153848             Other\n",
       "82 -2.636863  1.055955 -0.351742             Other\n",
       "83 -5.320115  1.376198  0.559782             Other\n",
       "84 -6.787470 -0.677496  0.933428  Gastroenterology\n",
       "85 -6.063871  3.649852  1.959313             Other\n",
       "\n",
       "[86 rows x 4 columns]"
      ]
     },
     "execution_count": 72,
     "metadata": {},
     "output_type": "execute_result"
    }
   ],
   "source": [
    "df"
   ]
  },
  {
   "cell_type": "code",
   "execution_count": 84,
   "id": "1fadf654",
   "metadata": {},
   "outputs": [
    {
     "data": {
      "application/vnd.plotly.v1+json": {
       "config": {
        "plotlyServerURL": "https://plot.ly"
       },
       "data": [
        {
         "hovertemplate": "Y=Cardiology<br>Asse X=%{x}<br>Asse Y=%{y}<br>Asse Z=%{z}<br>size=%{marker.size}<extra></extra>",
         "legendgroup": "Cardiology",
         "marker": {
          "color": "#636efa",
          "opacity": 0.7,
          "size": [
           1000,
           1000,
           1000,
           1000,
           1000,
           1000,
           1000,
           1000,
           1000,
           1000,
           1000
          ],
          "sizemode": "area",
          "sizeref": 10,
          "symbol": "circle"
         },
         "mode": "markers",
         "name": "Cardiology",
         "scene": "scene",
         "showlegend": true,
         "textfont": {
          "size": 8
         },
         "type": "scatter3d",
         "x": [
          -6.812251567840576,
          -3.975325584411621,
          -4.193718910217285,
          -4.436558723449707,
          -2.866990327835083,
          -2.36567759513855,
          -5.464950084686279,
          -3.7912752628326416,
          -3.159449577331543,
          -4.346036911010742,
          -6.785656929016113
         ],
         "y": [
          -4.016807556152344,
          1.2216840982437134,
          0.3857387602329254,
          1.8156660795211792,
          -0.06718350946903229,
          1.1015297174453735,
          0.1967644840478897,
          0.8339816927909851,
          1.0180749893188477,
          1.465824007987976,
          1.6981676816940308
         ],
         "z": [
          -6.338168621063232,
          -2.3949809074401855,
          -2.3592653274536133,
          -0.35830190777778625,
          -1.204355001449585,
          -0.7897380590438843,
          0.20688369870185852,
          -1.1864666938781738,
          -0.5143362283706665,
          0.11241687089204788,
          2.2173147201538086
         ]
        },
        {
         "hovertemplate": "Y=Other<br>Asse X=%{x}<br>Asse Y=%{y}<br>Asse Z=%{z}<br>size=%{marker.size}<extra></extra>",
         "legendgroup": "Other",
         "marker": {
          "color": "#EF553B",
          "opacity": 0.7,
          "size": [
           1000,
           1000,
           1000,
           1000,
           1000,
           1000,
           1000,
           1000,
           1000,
           1000,
           1000,
           1000,
           1000,
           1000,
           1000,
           1000,
           1000,
           1000,
           1000,
           1000,
           1000,
           1000,
           1000,
           1000,
           1000,
           1000,
           1000,
           1000,
           1000,
           1000,
           1000,
           1000,
           1000,
           1000,
           1000,
           1000,
           1000,
           1000,
           1000,
           1000,
           1000,
           1000
          ],
          "sizemode": "area",
          "sizeref": 10,
          "symbol": "circle"
         },
         "mode": "markers",
         "name": "Other",
         "scene": "scene",
         "showlegend": true,
         "textfont": {
          "size": 8
         },
         "type": "scatter3d",
         "x": [
          -5.087823867797852,
          -3.2681033611297607,
          -5.199767589569092,
          -8.015033721923828,
          -1.7737176418304443,
          -2.404381513595581,
          -4.05131721496582,
          -2.5569448471069336,
          -4.298999786376953,
          -2.787770986557007,
          -4.981238842010498,
          -2.8620030879974365,
          -2.704240560531616,
          -2.951455593109131,
          -3.7623672485351562,
          -3.4423677921295166,
          -3.035412549972534,
          -4.41521692276001,
          -2.626375675201416,
          -2.6215450763702393,
          -4.33605432510376,
          -3.9948806762695312,
          -2.552509069442749,
          -2.5689539909362793,
          -4.507091999053955,
          -4.036880016326904,
          -4.443966865539551,
          -4.632813453674316,
          -4.015997409820557,
          -2.9127655029296875,
          -2.8583731651306152,
          -3.3517093658447266,
          -3.2944822311401367,
          -3.4049413204193115,
          -3.5580008029937744,
          -3.7442970275878906,
          -3.9229323863983154,
          -3.6612019538879395,
          -2.725717067718506,
          -2.6368632316589355,
          -5.320115089416504,
          -6.063870906829834
         ],
         "y": [
          -1.8568384647369385,
          3.6644296646118164,
          0.8105658888816833,
          -5.361608505249023,
          5.117808818817139,
          1.0949188470840454,
          2.9924702644348145,
          1.1426364183425903,
          0.9072930812835693,
          1.500815987586975,
          1.311891794204712,
          1.112452745437622,
          2.0047621726989746,
          4.11018705368042,
          1.2574998140335083,
          2.188706636428833,
          1.5608192682266235,
          -0.02074749954044819,
          1.2546275854110718,
          1.7035409212112427,
          2.2416114807128906,
          -0.7125061750411987,
          2.7937471866607666,
          1.0605340003967285,
          2.325892210006714,
          1.9824094772338867,
          -0.22993651032447815,
          -0.7497274279594421,
          0.8329867124557495,
          0.6285417675971985,
          -0.030938342213630676,
          0.32585784792900085,
          0.21937745809555054,
          0.46691134572029114,
          0.5533339977264404,
          1.1268723011016846,
          2.122468948364258,
          0.4423139691352844,
          0.9217163324356079,
          1.055955410003662,
          1.3761979341506958,
          3.6498517990112305
         ],
         "z": [
          -6.399590015411377,
          -3.4451446533203125,
          -0.5226107835769653,
          -6.631443023681641,
          -5.709856986999512,
          -8.478615760803223,
          0.028559111058712006,
          -0.926342785358429,
          -2.103968620300293,
          -1.337166428565979,
          -0.12937398254871368,
          -1.9938411712646484,
          -1.7465914487838745,
          -3.065415859222412,
          -1.2192656993865967,
          -1.0440921783447266,
          -1.9985674619674683,
          -3.054720401763916,
          -0.02521061897277832,
          -0.5533918738365173,
          0.7159337997436523,
          -3.423280715942383,
          -2.2174880504608154,
          -1.1843029260635376,
          -0.7078951597213745,
          -1.8045927286148071,
          -4.739495754241943,
          -0.019043507054448128,
          -0.13477346301078796,
          -0.43872717022895813,
          -1.4729083776474,
          -0.5625264644622803,
          -1.0866045951843262,
          -0.9440380334854126,
          -2.0908987522125244,
          -1.0707790851593018,
          -1.1117304563522339,
          -4.026650905609131,
          -0.1538475900888443,
          -0.35174208879470825,
          0.5597820281982422,
          1.9593126773834229
         ]
        },
        {
         "hovertemplate": "Y=Oncology<br>Asse X=%{x}<br>Asse Y=%{y}<br>Asse Z=%{z}<br>size=%{marker.size}<extra></extra>",
         "legendgroup": "Oncology",
         "marker": {
          "color": "#00cc96",
          "opacity": 0.7,
          "size": [
           1000,
           1000,
           1000,
           1000,
           1000,
           1000,
           1000,
           1000,
           1000,
           1000,
           1000,
           1000,
           1000,
           1000,
           1000
          ],
          "sizemode": "area",
          "sizeref": 10,
          "symbol": "circle"
         },
         "mode": "markers",
         "name": "Oncology",
         "scene": "scene",
         "showlegend": true,
         "textfont": {
          "size": 8
         },
         "type": "scatter3d",
         "x": [
          -4.7291107177734375,
          -3.077399730682373,
          -1.9934501647949219,
          -4.185713768005371,
          -3.6117353439331055,
          -3.7765254974365234,
          -4.824370861053467,
          -4.400977611541748,
          -4.657653331756592,
          -4.167476177215576,
          -5.892406463623047,
          -2.8180787563323975,
          -3.0921521186828613,
          -3.3062407970428467,
          -4.4383111000061035
         ],
         "y": [
          1.1009163856506348,
          1.0471343994140625,
          4.2407755851745605,
          3.5628204345703125,
          -0.24136780202388763,
          0.18361462652683258,
          2.4844248294830322,
          1.4252080917358398,
          0.2653921842575073,
          3.204571485519409,
          -2.806461811065674,
          4.575332164764404,
          3.3008387088775635,
          3.780519962310791,
          7.116098880767822
         ],
         "z": [
          -0.2983972132205963,
          -0.21617569029331207,
          -6.421456336975098,
          -0.3900982141494751,
          0.12145398557186127,
          0.1422923505306244,
          0.715599775314331,
          -0.03271150961518288,
          -1.4921514987945557,
          0.07973567396402359,
          -5.1222076416015625,
          -3.520984172821045,
          -2.911592721939087,
          -4.502683639526367,
          0.009187248535454273
         ]
        },
        {
         "hovertemplate": "Y=Gastroenterology<br>Asse X=%{x}<br>Asse Y=%{y}<br>Asse Z=%{z}<br>size=%{marker.size}<extra></extra>",
         "legendgroup": "Gastroenterology",
         "marker": {
          "color": "#ab63fa",
          "opacity": 0.7,
          "size": [
           1000,
           1000,
           1000,
           1000,
           1000,
           1000,
           1000,
           1000,
           1000
          ],
          "sizemode": "area",
          "sizeref": 10,
          "symbol": "circle"
         },
         "mode": "markers",
         "name": "Gastroenterology",
         "scene": "scene",
         "showlegend": true,
         "textfont": {
          "size": 8
         },
         "type": "scatter3d",
         "x": [
          -2.4933254718780518,
          -3.0342226028442383,
          -3.387465000152588,
          -2.97377872467041,
          -2.880497694015503,
          -4.382530212402344,
          -3.6012871265411377,
          -3.303576707839966,
          -6.78747034072876
         ],
         "y": [
          0.7049950957298279,
          1.229705572128296,
          4.355658531188965,
          0.31879371404647827,
          3.662304162979126,
          0.025344133377075195,
          0.7407838702201843,
          -0.13736674189567566,
          -0.6774959564208984
         ],
         "z": [
          -0.5739644169807434,
          -0.6936967968940735,
          -1.256766438484192,
          -1.3121461868286133,
          -2.832679510116577,
          -3.0591394901275635,
          -0.13328884541988373,
          -1.750515341758728,
          0.9334281086921692
         ]
        },
        {
         "hovertemplate": "Y=Pediatrics<br>Asse X=%{x}<br>Asse Y=%{y}<br>Asse Z=%{z}<br>size=%{marker.size}<extra></extra>",
         "legendgroup": "Pediatrics",
         "marker": {
          "color": "#FFA15A",
          "opacity": 0.7,
          "size": [
           1000,
           1000,
           1000,
           1000,
           1000,
           1000,
           1000,
           1000,
           1000
          ],
          "sizemode": "area",
          "sizeref": 10,
          "symbol": "circle"
         },
         "mode": "markers",
         "name": "Pediatrics",
         "scene": "scene",
         "showlegend": true,
         "textfont": {
          "size": 8
         },
         "type": "scatter3d",
         "x": [
          -5.263186454772949,
          -6.441122055053711,
          -4.375831127166748,
          -1.5465190410614014,
          -5.024097442626953,
          -5.130639553070068,
          -2.7994141578674316,
          -3.1362133026123047,
          -4.84658670425415
         ],
         "y": [
          1.6459434032440186,
          1.8319841623306274,
          0.760147213935852,
          5.110258102416992,
          1.3921735286712646,
          1.1260185241699219,
          2.438176155090332,
          2.4768707752227783,
          4.258389949798584
         ],
         "z": [
          1.5781686305999756,
          3.5717341899871826,
          -0.9349748492240906,
          -7.944146156311035,
          0.9748574495315552,
          0.2780006229877472,
          -3.565192222595215,
          -4.790462493896484,
          1.536668300628662
         ]
        }
       ],
       "layout": {
        "legend": {
         "itemsizing": "constant",
         "title": {
          "text": "Y"
         },
         "tracegroupgap": 0
        },
        "scene": {
         "domain": {
          "x": [
           0,
           1
          ],
          "y": [
           0,
           1
          ]
         },
         "xaxis": {
          "range": [
           -8.015033721923828,
           -1.5465190410614014
          ],
          "title": {
           "text": "X"
          }
         },
         "yaxis": {
          "range": [
           -5.361608505249023,
           7.116098880767822
          ],
          "title": {
           "text": "Y"
          }
         },
         "zaxis": {
          "range": [
           -8.478615760803223,
           3.5717341899871826
          ],
          "title": {
           "text": "Z"
          }
         }
        },
        "template": {
         "data": {
          "bar": [
           {
            "error_x": {
             "color": "#2a3f5f"
            },
            "error_y": {
             "color": "#2a3f5f"
            },
            "marker": {
             "line": {
              "color": "#E5ECF6",
              "width": 0.5
             },
             "pattern": {
              "fillmode": "overlay",
              "size": 10,
              "solidity": 0.2
             }
            },
            "type": "bar"
           }
          ],
          "barpolar": [
           {
            "marker": {
             "line": {
              "color": "#E5ECF6",
              "width": 0.5
             },
             "pattern": {
              "fillmode": "overlay",
              "size": 10,
              "solidity": 0.2
             }
            },
            "type": "barpolar"
           }
          ],
          "carpet": [
           {
            "aaxis": {
             "endlinecolor": "#2a3f5f",
             "gridcolor": "white",
             "linecolor": "white",
             "minorgridcolor": "white",
             "startlinecolor": "#2a3f5f"
            },
            "baxis": {
             "endlinecolor": "#2a3f5f",
             "gridcolor": "white",
             "linecolor": "white",
             "minorgridcolor": "white",
             "startlinecolor": "#2a3f5f"
            },
            "type": "carpet"
           }
          ],
          "choropleth": [
           {
            "colorbar": {
             "outlinewidth": 0,
             "ticks": ""
            },
            "type": "choropleth"
           }
          ],
          "contour": [
           {
            "colorbar": {
             "outlinewidth": 0,
             "ticks": ""
            },
            "colorscale": [
             [
              0,
              "#0d0887"
             ],
             [
              0.1111111111111111,
              "#46039f"
             ],
             [
              0.2222222222222222,
              "#7201a8"
             ],
             [
              0.3333333333333333,
              "#9c179e"
             ],
             [
              0.4444444444444444,
              "#bd3786"
             ],
             [
              0.5555555555555556,
              "#d8576b"
             ],
             [
              0.6666666666666666,
              "#ed7953"
             ],
             [
              0.7777777777777778,
              "#fb9f3a"
             ],
             [
              0.8888888888888888,
              "#fdca26"
             ],
             [
              1,
              "#f0f921"
             ]
            ],
            "type": "contour"
           }
          ],
          "contourcarpet": [
           {
            "colorbar": {
             "outlinewidth": 0,
             "ticks": ""
            },
            "type": "contourcarpet"
           }
          ],
          "heatmap": [
           {
            "colorbar": {
             "outlinewidth": 0,
             "ticks": ""
            },
            "colorscale": [
             [
              0,
              "#0d0887"
             ],
             [
              0.1111111111111111,
              "#46039f"
             ],
             [
              0.2222222222222222,
              "#7201a8"
             ],
             [
              0.3333333333333333,
              "#9c179e"
             ],
             [
              0.4444444444444444,
              "#bd3786"
             ],
             [
              0.5555555555555556,
              "#d8576b"
             ],
             [
              0.6666666666666666,
              "#ed7953"
             ],
             [
              0.7777777777777778,
              "#fb9f3a"
             ],
             [
              0.8888888888888888,
              "#fdca26"
             ],
             [
              1,
              "#f0f921"
             ]
            ],
            "type": "heatmap"
           }
          ],
          "heatmapgl": [
           {
            "colorbar": {
             "outlinewidth": 0,
             "ticks": ""
            },
            "colorscale": [
             [
              0,
              "#0d0887"
             ],
             [
              0.1111111111111111,
              "#46039f"
             ],
             [
              0.2222222222222222,
              "#7201a8"
             ],
             [
              0.3333333333333333,
              "#9c179e"
             ],
             [
              0.4444444444444444,
              "#bd3786"
             ],
             [
              0.5555555555555556,
              "#d8576b"
             ],
             [
              0.6666666666666666,
              "#ed7953"
             ],
             [
              0.7777777777777778,
              "#fb9f3a"
             ],
             [
              0.8888888888888888,
              "#fdca26"
             ],
             [
              1,
              "#f0f921"
             ]
            ],
            "type": "heatmapgl"
           }
          ],
          "histogram": [
           {
            "marker": {
             "pattern": {
              "fillmode": "overlay",
              "size": 10,
              "solidity": 0.2
             }
            },
            "type": "histogram"
           }
          ],
          "histogram2d": [
           {
            "colorbar": {
             "outlinewidth": 0,
             "ticks": ""
            },
            "colorscale": [
             [
              0,
              "#0d0887"
             ],
             [
              0.1111111111111111,
              "#46039f"
             ],
             [
              0.2222222222222222,
              "#7201a8"
             ],
             [
              0.3333333333333333,
              "#9c179e"
             ],
             [
              0.4444444444444444,
              "#bd3786"
             ],
             [
              0.5555555555555556,
              "#d8576b"
             ],
             [
              0.6666666666666666,
              "#ed7953"
             ],
             [
              0.7777777777777778,
              "#fb9f3a"
             ],
             [
              0.8888888888888888,
              "#fdca26"
             ],
             [
              1,
              "#f0f921"
             ]
            ],
            "type": "histogram2d"
           }
          ],
          "histogram2dcontour": [
           {
            "colorbar": {
             "outlinewidth": 0,
             "ticks": ""
            },
            "colorscale": [
             [
              0,
              "#0d0887"
             ],
             [
              0.1111111111111111,
              "#46039f"
             ],
             [
              0.2222222222222222,
              "#7201a8"
             ],
             [
              0.3333333333333333,
              "#9c179e"
             ],
             [
              0.4444444444444444,
              "#bd3786"
             ],
             [
              0.5555555555555556,
              "#d8576b"
             ],
             [
              0.6666666666666666,
              "#ed7953"
             ],
             [
              0.7777777777777778,
              "#fb9f3a"
             ],
             [
              0.8888888888888888,
              "#fdca26"
             ],
             [
              1,
              "#f0f921"
             ]
            ],
            "type": "histogram2dcontour"
           }
          ],
          "mesh3d": [
           {
            "colorbar": {
             "outlinewidth": 0,
             "ticks": ""
            },
            "type": "mesh3d"
           }
          ],
          "parcoords": [
           {
            "line": {
             "colorbar": {
              "outlinewidth": 0,
              "ticks": ""
             }
            },
            "type": "parcoords"
           }
          ],
          "pie": [
           {
            "automargin": true,
            "type": "pie"
           }
          ],
          "scatter": [
           {
            "fillpattern": {
             "fillmode": "overlay",
             "size": 10,
             "solidity": 0.2
            },
            "type": "scatter"
           }
          ],
          "scatter3d": [
           {
            "line": {
             "colorbar": {
              "outlinewidth": 0,
              "ticks": ""
             }
            },
            "marker": {
             "colorbar": {
              "outlinewidth": 0,
              "ticks": ""
             }
            },
            "type": "scatter3d"
           }
          ],
          "scattercarpet": [
           {
            "marker": {
             "colorbar": {
              "outlinewidth": 0,
              "ticks": ""
             }
            },
            "type": "scattercarpet"
           }
          ],
          "scattergeo": [
           {
            "marker": {
             "colorbar": {
              "outlinewidth": 0,
              "ticks": ""
             }
            },
            "type": "scattergeo"
           }
          ],
          "scattergl": [
           {
            "marker": {
             "colorbar": {
              "outlinewidth": 0,
              "ticks": ""
             }
            },
            "type": "scattergl"
           }
          ],
          "scattermapbox": [
           {
            "marker": {
             "colorbar": {
              "outlinewidth": 0,
              "ticks": ""
             }
            },
            "type": "scattermapbox"
           }
          ],
          "scatterpolar": [
           {
            "marker": {
             "colorbar": {
              "outlinewidth": 0,
              "ticks": ""
             }
            },
            "type": "scatterpolar"
           }
          ],
          "scatterpolargl": [
           {
            "marker": {
             "colorbar": {
              "outlinewidth": 0,
              "ticks": ""
             }
            },
            "type": "scatterpolargl"
           }
          ],
          "scatterternary": [
           {
            "marker": {
             "colorbar": {
              "outlinewidth": 0,
              "ticks": ""
             }
            },
            "type": "scatterternary"
           }
          ],
          "surface": [
           {
            "colorbar": {
             "outlinewidth": 0,
             "ticks": ""
            },
            "colorscale": [
             [
              0,
              "#0d0887"
             ],
             [
              0.1111111111111111,
              "#46039f"
             ],
             [
              0.2222222222222222,
              "#7201a8"
             ],
             [
              0.3333333333333333,
              "#9c179e"
             ],
             [
              0.4444444444444444,
              "#bd3786"
             ],
             [
              0.5555555555555556,
              "#d8576b"
             ],
             [
              0.6666666666666666,
              "#ed7953"
             ],
             [
              0.7777777777777778,
              "#fb9f3a"
             ],
             [
              0.8888888888888888,
              "#fdca26"
             ],
             [
              1,
              "#f0f921"
             ]
            ],
            "type": "surface"
           }
          ],
          "table": [
           {
            "cells": {
             "fill": {
              "color": "#EBF0F8"
             },
             "line": {
              "color": "white"
             }
            },
            "header": {
             "fill": {
              "color": "#C8D4E3"
             },
             "line": {
              "color": "white"
             }
            },
            "type": "table"
           }
          ]
         },
         "layout": {
          "annotationdefaults": {
           "arrowcolor": "#2a3f5f",
           "arrowhead": 0,
           "arrowwidth": 1
          },
          "autotypenumbers": "strict",
          "coloraxis": {
           "colorbar": {
            "outlinewidth": 0,
            "ticks": ""
           }
          },
          "colorscale": {
           "diverging": [
            [
             0,
             "#8e0152"
            ],
            [
             0.1,
             "#c51b7d"
            ],
            [
             0.2,
             "#de77ae"
            ],
            [
             0.3,
             "#f1b6da"
            ],
            [
             0.4,
             "#fde0ef"
            ],
            [
             0.5,
             "#f7f7f7"
            ],
            [
             0.6,
             "#e6f5d0"
            ],
            [
             0.7,
             "#b8e186"
            ],
            [
             0.8,
             "#7fbc41"
            ],
            [
             0.9,
             "#4d9221"
            ],
            [
             1,
             "#276419"
            ]
           ],
           "sequential": [
            [
             0,
             "#0d0887"
            ],
            [
             0.1111111111111111,
             "#46039f"
            ],
            [
             0.2222222222222222,
             "#7201a8"
            ],
            [
             0.3333333333333333,
             "#9c179e"
            ],
            [
             0.4444444444444444,
             "#bd3786"
            ],
            [
             0.5555555555555556,
             "#d8576b"
            ],
            [
             0.6666666666666666,
             "#ed7953"
            ],
            [
             0.7777777777777778,
             "#fb9f3a"
            ],
            [
             0.8888888888888888,
             "#fdca26"
            ],
            [
             1,
             "#f0f921"
            ]
           ],
           "sequentialminus": [
            [
             0,
             "#0d0887"
            ],
            [
             0.1111111111111111,
             "#46039f"
            ],
            [
             0.2222222222222222,
             "#7201a8"
            ],
            [
             0.3333333333333333,
             "#9c179e"
            ],
            [
             0.4444444444444444,
             "#bd3786"
            ],
            [
             0.5555555555555556,
             "#d8576b"
            ],
            [
             0.6666666666666666,
             "#ed7953"
            ],
            [
             0.7777777777777778,
             "#fb9f3a"
            ],
            [
             0.8888888888888888,
             "#fdca26"
            ],
            [
             1,
             "#f0f921"
            ]
           ]
          },
          "colorway": [
           "#636efa",
           "#EF553B",
           "#00cc96",
           "#ab63fa",
           "#FFA15A",
           "#19d3f3",
           "#FF6692",
           "#B6E880",
           "#FF97FF",
           "#FECB52"
          ],
          "font": {
           "color": "#2a3f5f"
          },
          "geo": {
           "bgcolor": "white",
           "lakecolor": "white",
           "landcolor": "#E5ECF6",
           "showlakes": true,
           "showland": true,
           "subunitcolor": "white"
          },
          "hoverlabel": {
           "align": "left"
          },
          "hovermode": "closest",
          "mapbox": {
           "style": "light"
          },
          "paper_bgcolor": "white",
          "plot_bgcolor": "#E5ECF6",
          "polar": {
           "angularaxis": {
            "gridcolor": "white",
            "linecolor": "white",
            "ticks": ""
           },
           "bgcolor": "#E5ECF6",
           "radialaxis": {
            "gridcolor": "white",
            "linecolor": "white",
            "ticks": ""
           }
          },
          "scene": {
           "xaxis": {
            "backgroundcolor": "#E5ECF6",
            "gridcolor": "white",
            "gridwidth": 2,
            "linecolor": "white",
            "showbackground": true,
            "ticks": "",
            "zerolinecolor": "white"
           },
           "yaxis": {
            "backgroundcolor": "#E5ECF6",
            "gridcolor": "white",
            "gridwidth": 2,
            "linecolor": "white",
            "showbackground": true,
            "ticks": "",
            "zerolinecolor": "white"
           },
           "zaxis": {
            "backgroundcolor": "#E5ECF6",
            "gridcolor": "white",
            "gridwidth": 2,
            "linecolor": "white",
            "showbackground": true,
            "ticks": "",
            "zerolinecolor": "white"
           }
          },
          "shapedefaults": {
           "line": {
            "color": "#2a3f5f"
           }
          },
          "ternary": {
           "aaxis": {
            "gridcolor": "white",
            "linecolor": "white",
            "ticks": ""
           },
           "baxis": {
            "gridcolor": "white",
            "linecolor": "white",
            "ticks": ""
           },
           "bgcolor": "#E5ECF6",
           "caxis": {
            "gridcolor": "white",
            "linecolor": "white",
            "ticks": ""
           }
          },
          "title": {
           "x": 0.05
          },
          "xaxis": {
           "automargin": true,
           "gridcolor": "white",
           "linecolor": "white",
           "ticks": "",
           "title": {
            "standoff": 15
           },
           "zerolinecolor": "white",
           "zerolinewidth": 2
          },
          "yaxis": {
           "automargin": true,
           "gridcolor": "white",
           "linecolor": "white",
           "ticks": "",
           "title": {
            "standoff": 15
           },
           "zerolinecolor": "white",
           "zerolinewidth": 2
          }
         }
        },
        "title": {
         "text": "Grafico 3D con colori basati sull'etichetta 'Y'"
        }
       }
      },
      "text/html": [
       "<div>                            <div id=\"ae42d1a8-383f-4fca-aaf9-887135153ae2\" class=\"plotly-graph-div\" style=\"height:525px; width:100%;\"></div>            <script type=\"text/javascript\">                require([\"plotly\"], function(Plotly) {                    window.PLOTLYENV=window.PLOTLYENV || {};                                    if (document.getElementById(\"ae42d1a8-383f-4fca-aaf9-887135153ae2\")) {                    Plotly.newPlot(                        \"ae42d1a8-383f-4fca-aaf9-887135153ae2\",                        [{\"hovertemplate\":\"Y=Cardiology<br>Asse X=%{x}<br>Asse Y=%{y}<br>Asse Z=%{z}<br>size=%{marker.size}<extra></extra>\",\"legendgroup\":\"Cardiology\",\"marker\":{\"color\":\"#636efa\",\"opacity\":0.7,\"size\":[1000,1000,1000,1000,1000,1000,1000,1000,1000,1000,1000],\"sizemode\":\"area\",\"sizeref\":10.0,\"symbol\":\"circle\"},\"mode\":\"markers\",\"name\":\"Cardiology\",\"scene\":\"scene\",\"showlegend\":true,\"x\":[-6.812251567840576,-3.975325584411621,-4.193718910217285,-4.436558723449707,-2.866990327835083,-2.36567759513855,-5.464950084686279,-3.7912752628326416,-3.159449577331543,-4.346036911010742,-6.785656929016113],\"y\":[-4.016807556152344,1.2216840982437134,0.3857387602329254,1.8156660795211792,-0.06718350946903229,1.1015297174453735,0.1967644840478897,0.8339816927909851,1.0180749893188477,1.465824007987976,1.6981676816940308],\"z\":[-6.338168621063232,-2.3949809074401855,-2.3592653274536133,-0.35830190777778625,-1.204355001449585,-0.7897380590438843,0.20688369870185852,-1.1864666938781738,-0.5143362283706665,0.11241687089204788,2.2173147201538086],\"type\":\"scatter3d\",\"textfont\":{\"size\":8}},{\"hovertemplate\":\"Y=Other<br>Asse X=%{x}<br>Asse Y=%{y}<br>Asse Z=%{z}<br>size=%{marker.size}<extra></extra>\",\"legendgroup\":\"Other\",\"marker\":{\"color\":\"#EF553B\",\"opacity\":0.7,\"size\":[1000,1000,1000,1000,1000,1000,1000,1000,1000,1000,1000,1000,1000,1000,1000,1000,1000,1000,1000,1000,1000,1000,1000,1000,1000,1000,1000,1000,1000,1000,1000,1000,1000,1000,1000,1000,1000,1000,1000,1000,1000,1000],\"sizemode\":\"area\",\"sizeref\":10.0,\"symbol\":\"circle\"},\"mode\":\"markers\",\"name\":\"Other\",\"scene\":\"scene\",\"showlegend\":true,\"x\":[-5.087823867797852,-3.2681033611297607,-5.199767589569092,-8.015033721923828,-1.7737176418304443,-2.404381513595581,-4.05131721496582,-2.5569448471069336,-4.298999786376953,-2.787770986557007,-4.981238842010498,-2.8620030879974365,-2.704240560531616,-2.951455593109131,-3.7623672485351562,-3.4423677921295166,-3.035412549972534,-4.41521692276001,-2.626375675201416,-2.6215450763702393,-4.33605432510376,-3.9948806762695312,-2.552509069442749,-2.5689539909362793,-4.507091999053955,-4.036880016326904,-4.443966865539551,-4.632813453674316,-4.015997409820557,-2.9127655029296875,-2.8583731651306152,-3.3517093658447266,-3.2944822311401367,-3.4049413204193115,-3.5580008029937744,-3.7442970275878906,-3.9229323863983154,-3.6612019538879395,-2.725717067718506,-2.6368632316589355,-5.320115089416504,-6.063870906829834],\"y\":[-1.8568384647369385,3.6644296646118164,0.8105658888816833,-5.361608505249023,5.117808818817139,1.0949188470840454,2.9924702644348145,1.1426364183425903,0.9072930812835693,1.500815987586975,1.311891794204712,1.112452745437622,2.0047621726989746,4.11018705368042,1.2574998140335083,2.188706636428833,1.5608192682266235,-0.02074749954044819,1.2546275854110718,1.7035409212112427,2.2416114807128906,-0.7125061750411987,2.7937471866607666,1.0605340003967285,2.325892210006714,1.9824094772338867,-0.22993651032447815,-0.7497274279594421,0.8329867124557495,0.6285417675971985,-0.030938342213630676,0.32585784792900085,0.21937745809555054,0.46691134572029114,0.5533339977264404,1.1268723011016846,2.122468948364258,0.4423139691352844,0.9217163324356079,1.055955410003662,1.3761979341506958,3.6498517990112305],\"z\":[-6.399590015411377,-3.4451446533203125,-0.5226107835769653,-6.631443023681641,-5.709856986999512,-8.478615760803223,0.028559111058712006,-0.926342785358429,-2.103968620300293,-1.337166428565979,-0.12937398254871368,-1.9938411712646484,-1.7465914487838745,-3.065415859222412,-1.2192656993865967,-1.0440921783447266,-1.9985674619674683,-3.054720401763916,-0.02521061897277832,-0.5533918738365173,0.7159337997436523,-3.423280715942383,-2.2174880504608154,-1.1843029260635376,-0.7078951597213745,-1.8045927286148071,-4.739495754241943,-0.019043507054448128,-0.13477346301078796,-0.43872717022895813,-1.4729083776474,-0.5625264644622803,-1.0866045951843262,-0.9440380334854126,-2.0908987522125244,-1.0707790851593018,-1.1117304563522339,-4.026650905609131,-0.1538475900888443,-0.35174208879470825,0.5597820281982422,1.9593126773834229],\"type\":\"scatter3d\",\"textfont\":{\"size\":8}},{\"hovertemplate\":\"Y=Oncology<br>Asse X=%{x}<br>Asse Y=%{y}<br>Asse Z=%{z}<br>size=%{marker.size}<extra></extra>\",\"legendgroup\":\"Oncology\",\"marker\":{\"color\":\"#00cc96\",\"opacity\":0.7,\"size\":[1000,1000,1000,1000,1000,1000,1000,1000,1000,1000,1000,1000,1000,1000,1000],\"sizemode\":\"area\",\"sizeref\":10.0,\"symbol\":\"circle\"},\"mode\":\"markers\",\"name\":\"Oncology\",\"scene\":\"scene\",\"showlegend\":true,\"x\":[-4.7291107177734375,-3.077399730682373,-1.9934501647949219,-4.185713768005371,-3.6117353439331055,-3.7765254974365234,-4.824370861053467,-4.400977611541748,-4.657653331756592,-4.167476177215576,-5.892406463623047,-2.8180787563323975,-3.0921521186828613,-3.3062407970428467,-4.4383111000061035],\"y\":[1.1009163856506348,1.0471343994140625,4.2407755851745605,3.5628204345703125,-0.24136780202388763,0.18361462652683258,2.4844248294830322,1.4252080917358398,0.2653921842575073,3.204571485519409,-2.806461811065674,4.575332164764404,3.3008387088775635,3.780519962310791,7.116098880767822],\"z\":[-0.2983972132205963,-0.21617569029331207,-6.421456336975098,-0.3900982141494751,0.12145398557186127,0.1422923505306244,0.715599775314331,-0.03271150961518288,-1.4921514987945557,0.07973567396402359,-5.1222076416015625,-3.520984172821045,-2.911592721939087,-4.502683639526367,0.009187248535454273],\"type\":\"scatter3d\",\"textfont\":{\"size\":8}},{\"hovertemplate\":\"Y=Gastroenterology<br>Asse X=%{x}<br>Asse Y=%{y}<br>Asse Z=%{z}<br>size=%{marker.size}<extra></extra>\",\"legendgroup\":\"Gastroenterology\",\"marker\":{\"color\":\"#ab63fa\",\"opacity\":0.7,\"size\":[1000,1000,1000,1000,1000,1000,1000,1000,1000],\"sizemode\":\"area\",\"sizeref\":10.0,\"symbol\":\"circle\"},\"mode\":\"markers\",\"name\":\"Gastroenterology\",\"scene\":\"scene\",\"showlegend\":true,\"x\":[-2.4933254718780518,-3.0342226028442383,-3.387465000152588,-2.97377872467041,-2.880497694015503,-4.382530212402344,-3.6012871265411377,-3.303576707839966,-6.78747034072876],\"y\":[0.7049950957298279,1.229705572128296,4.355658531188965,0.31879371404647827,3.662304162979126,0.025344133377075195,0.7407838702201843,-0.13736674189567566,-0.6774959564208984],\"z\":[-0.5739644169807434,-0.6936967968940735,-1.256766438484192,-1.3121461868286133,-2.832679510116577,-3.0591394901275635,-0.13328884541988373,-1.750515341758728,0.9334281086921692],\"type\":\"scatter3d\",\"textfont\":{\"size\":8}},{\"hovertemplate\":\"Y=Pediatrics<br>Asse X=%{x}<br>Asse Y=%{y}<br>Asse Z=%{z}<br>size=%{marker.size}<extra></extra>\",\"legendgroup\":\"Pediatrics\",\"marker\":{\"color\":\"#FFA15A\",\"opacity\":0.7,\"size\":[1000,1000,1000,1000,1000,1000,1000,1000,1000],\"sizemode\":\"area\",\"sizeref\":10.0,\"symbol\":\"circle\"},\"mode\":\"markers\",\"name\":\"Pediatrics\",\"scene\":\"scene\",\"showlegend\":true,\"x\":[-5.263186454772949,-6.441122055053711,-4.375831127166748,-1.5465190410614014,-5.024097442626953,-5.130639553070068,-2.7994141578674316,-3.1362133026123047,-4.84658670425415],\"y\":[1.6459434032440186,1.8319841623306274,0.760147213935852,5.110258102416992,1.3921735286712646,1.1260185241699219,2.438176155090332,2.4768707752227783,4.258389949798584],\"z\":[1.5781686305999756,3.5717341899871826,-0.9349748492240906,-7.944146156311035,0.9748574495315552,0.2780006229877472,-3.565192222595215,-4.790462493896484,1.536668300628662],\"type\":\"scatter3d\",\"textfont\":{\"size\":8}}],                        {\"template\":{\"data\":{\"histogram2dcontour\":[{\"type\":\"histogram2dcontour\",\"colorbar\":{\"outlinewidth\":0,\"ticks\":\"\"},\"colorscale\":[[0.0,\"#0d0887\"],[0.1111111111111111,\"#46039f\"],[0.2222222222222222,\"#7201a8\"],[0.3333333333333333,\"#9c179e\"],[0.4444444444444444,\"#bd3786\"],[0.5555555555555556,\"#d8576b\"],[0.6666666666666666,\"#ed7953\"],[0.7777777777777778,\"#fb9f3a\"],[0.8888888888888888,\"#fdca26\"],[1.0,\"#f0f921\"]]}],\"choropleth\":[{\"type\":\"choropleth\",\"colorbar\":{\"outlinewidth\":0,\"ticks\":\"\"}}],\"histogram2d\":[{\"type\":\"histogram2d\",\"colorbar\":{\"outlinewidth\":0,\"ticks\":\"\"},\"colorscale\":[[0.0,\"#0d0887\"],[0.1111111111111111,\"#46039f\"],[0.2222222222222222,\"#7201a8\"],[0.3333333333333333,\"#9c179e\"],[0.4444444444444444,\"#bd3786\"],[0.5555555555555556,\"#d8576b\"],[0.6666666666666666,\"#ed7953\"],[0.7777777777777778,\"#fb9f3a\"],[0.8888888888888888,\"#fdca26\"],[1.0,\"#f0f921\"]]}],\"heatmap\":[{\"type\":\"heatmap\",\"colorbar\":{\"outlinewidth\":0,\"ticks\":\"\"},\"colorscale\":[[0.0,\"#0d0887\"],[0.1111111111111111,\"#46039f\"],[0.2222222222222222,\"#7201a8\"],[0.3333333333333333,\"#9c179e\"],[0.4444444444444444,\"#bd3786\"],[0.5555555555555556,\"#d8576b\"],[0.6666666666666666,\"#ed7953\"],[0.7777777777777778,\"#fb9f3a\"],[0.8888888888888888,\"#fdca26\"],[1.0,\"#f0f921\"]]}],\"heatmapgl\":[{\"type\":\"heatmapgl\",\"colorbar\":{\"outlinewidth\":0,\"ticks\":\"\"},\"colorscale\":[[0.0,\"#0d0887\"],[0.1111111111111111,\"#46039f\"],[0.2222222222222222,\"#7201a8\"],[0.3333333333333333,\"#9c179e\"],[0.4444444444444444,\"#bd3786\"],[0.5555555555555556,\"#d8576b\"],[0.6666666666666666,\"#ed7953\"],[0.7777777777777778,\"#fb9f3a\"],[0.8888888888888888,\"#fdca26\"],[1.0,\"#f0f921\"]]}],\"contourcarpet\":[{\"type\":\"contourcarpet\",\"colorbar\":{\"outlinewidth\":0,\"ticks\":\"\"}}],\"contour\":[{\"type\":\"contour\",\"colorbar\":{\"outlinewidth\":0,\"ticks\":\"\"},\"colorscale\":[[0.0,\"#0d0887\"],[0.1111111111111111,\"#46039f\"],[0.2222222222222222,\"#7201a8\"],[0.3333333333333333,\"#9c179e\"],[0.4444444444444444,\"#bd3786\"],[0.5555555555555556,\"#d8576b\"],[0.6666666666666666,\"#ed7953\"],[0.7777777777777778,\"#fb9f3a\"],[0.8888888888888888,\"#fdca26\"],[1.0,\"#f0f921\"]]}],\"surface\":[{\"type\":\"surface\",\"colorbar\":{\"outlinewidth\":0,\"ticks\":\"\"},\"colorscale\":[[0.0,\"#0d0887\"],[0.1111111111111111,\"#46039f\"],[0.2222222222222222,\"#7201a8\"],[0.3333333333333333,\"#9c179e\"],[0.4444444444444444,\"#bd3786\"],[0.5555555555555556,\"#d8576b\"],[0.6666666666666666,\"#ed7953\"],[0.7777777777777778,\"#fb9f3a\"],[0.8888888888888888,\"#fdca26\"],[1.0,\"#f0f921\"]]}],\"mesh3d\":[{\"type\":\"mesh3d\",\"colorbar\":{\"outlinewidth\":0,\"ticks\":\"\"}}],\"scatter\":[{\"fillpattern\":{\"fillmode\":\"overlay\",\"size\":10,\"solidity\":0.2},\"type\":\"scatter\"}],\"parcoords\":[{\"type\":\"parcoords\",\"line\":{\"colorbar\":{\"outlinewidth\":0,\"ticks\":\"\"}}}],\"scatterpolargl\":[{\"type\":\"scatterpolargl\",\"marker\":{\"colorbar\":{\"outlinewidth\":0,\"ticks\":\"\"}}}],\"bar\":[{\"error_x\":{\"color\":\"#2a3f5f\"},\"error_y\":{\"color\":\"#2a3f5f\"},\"marker\":{\"line\":{\"color\":\"#E5ECF6\",\"width\":0.5},\"pattern\":{\"fillmode\":\"overlay\",\"size\":10,\"solidity\":0.2}},\"type\":\"bar\"}],\"scattergeo\":[{\"type\":\"scattergeo\",\"marker\":{\"colorbar\":{\"outlinewidth\":0,\"ticks\":\"\"}}}],\"scatterpolar\":[{\"type\":\"scatterpolar\",\"marker\":{\"colorbar\":{\"outlinewidth\":0,\"ticks\":\"\"}}}],\"histogram\":[{\"marker\":{\"pattern\":{\"fillmode\":\"overlay\",\"size\":10,\"solidity\":0.2}},\"type\":\"histogram\"}],\"scattergl\":[{\"type\":\"scattergl\",\"marker\":{\"colorbar\":{\"outlinewidth\":0,\"ticks\":\"\"}}}],\"scatter3d\":[{\"type\":\"scatter3d\",\"line\":{\"colorbar\":{\"outlinewidth\":0,\"ticks\":\"\"}},\"marker\":{\"colorbar\":{\"outlinewidth\":0,\"ticks\":\"\"}}}],\"scattermapbox\":[{\"type\":\"scattermapbox\",\"marker\":{\"colorbar\":{\"outlinewidth\":0,\"ticks\":\"\"}}}],\"scatterternary\":[{\"type\":\"scatterternary\",\"marker\":{\"colorbar\":{\"outlinewidth\":0,\"ticks\":\"\"}}}],\"scattercarpet\":[{\"type\":\"scattercarpet\",\"marker\":{\"colorbar\":{\"outlinewidth\":0,\"ticks\":\"\"}}}],\"carpet\":[{\"aaxis\":{\"endlinecolor\":\"#2a3f5f\",\"gridcolor\":\"white\",\"linecolor\":\"white\",\"minorgridcolor\":\"white\",\"startlinecolor\":\"#2a3f5f\"},\"baxis\":{\"endlinecolor\":\"#2a3f5f\",\"gridcolor\":\"white\",\"linecolor\":\"white\",\"minorgridcolor\":\"white\",\"startlinecolor\":\"#2a3f5f\"},\"type\":\"carpet\"}],\"table\":[{\"cells\":{\"fill\":{\"color\":\"#EBF0F8\"},\"line\":{\"color\":\"white\"}},\"header\":{\"fill\":{\"color\":\"#C8D4E3\"},\"line\":{\"color\":\"white\"}},\"type\":\"table\"}],\"barpolar\":[{\"marker\":{\"line\":{\"color\":\"#E5ECF6\",\"width\":0.5},\"pattern\":{\"fillmode\":\"overlay\",\"size\":10,\"solidity\":0.2}},\"type\":\"barpolar\"}],\"pie\":[{\"automargin\":true,\"type\":\"pie\"}]},\"layout\":{\"autotypenumbers\":\"strict\",\"colorway\":[\"#636efa\",\"#EF553B\",\"#00cc96\",\"#ab63fa\",\"#FFA15A\",\"#19d3f3\",\"#FF6692\",\"#B6E880\",\"#FF97FF\",\"#FECB52\"],\"font\":{\"color\":\"#2a3f5f\"},\"hovermode\":\"closest\",\"hoverlabel\":{\"align\":\"left\"},\"paper_bgcolor\":\"white\",\"plot_bgcolor\":\"#E5ECF6\",\"polar\":{\"bgcolor\":\"#E5ECF6\",\"angularaxis\":{\"gridcolor\":\"white\",\"linecolor\":\"white\",\"ticks\":\"\"},\"radialaxis\":{\"gridcolor\":\"white\",\"linecolor\":\"white\",\"ticks\":\"\"}},\"ternary\":{\"bgcolor\":\"#E5ECF6\",\"aaxis\":{\"gridcolor\":\"white\",\"linecolor\":\"white\",\"ticks\":\"\"},\"baxis\":{\"gridcolor\":\"white\",\"linecolor\":\"white\",\"ticks\":\"\"},\"caxis\":{\"gridcolor\":\"white\",\"linecolor\":\"white\",\"ticks\":\"\"}},\"coloraxis\":{\"colorbar\":{\"outlinewidth\":0,\"ticks\":\"\"}},\"colorscale\":{\"sequential\":[[0.0,\"#0d0887\"],[0.1111111111111111,\"#46039f\"],[0.2222222222222222,\"#7201a8\"],[0.3333333333333333,\"#9c179e\"],[0.4444444444444444,\"#bd3786\"],[0.5555555555555556,\"#d8576b\"],[0.6666666666666666,\"#ed7953\"],[0.7777777777777778,\"#fb9f3a\"],[0.8888888888888888,\"#fdca26\"],[1.0,\"#f0f921\"]],\"sequentialminus\":[[0.0,\"#0d0887\"],[0.1111111111111111,\"#46039f\"],[0.2222222222222222,\"#7201a8\"],[0.3333333333333333,\"#9c179e\"],[0.4444444444444444,\"#bd3786\"],[0.5555555555555556,\"#d8576b\"],[0.6666666666666666,\"#ed7953\"],[0.7777777777777778,\"#fb9f3a\"],[0.8888888888888888,\"#fdca26\"],[1.0,\"#f0f921\"]],\"diverging\":[[0,\"#8e0152\"],[0.1,\"#c51b7d\"],[0.2,\"#de77ae\"],[0.3,\"#f1b6da\"],[0.4,\"#fde0ef\"],[0.5,\"#f7f7f7\"],[0.6,\"#e6f5d0\"],[0.7,\"#b8e186\"],[0.8,\"#7fbc41\"],[0.9,\"#4d9221\"],[1,\"#276419\"]]},\"xaxis\":{\"gridcolor\":\"white\",\"linecolor\":\"white\",\"ticks\":\"\",\"title\":{\"standoff\":15},\"zerolinecolor\":\"white\",\"automargin\":true,\"zerolinewidth\":2},\"yaxis\":{\"gridcolor\":\"white\",\"linecolor\":\"white\",\"ticks\":\"\",\"title\":{\"standoff\":15},\"zerolinecolor\":\"white\",\"automargin\":true,\"zerolinewidth\":2},\"scene\":{\"xaxis\":{\"backgroundcolor\":\"#E5ECF6\",\"gridcolor\":\"white\",\"linecolor\":\"white\",\"showbackground\":true,\"ticks\":\"\",\"zerolinecolor\":\"white\",\"gridwidth\":2},\"yaxis\":{\"backgroundcolor\":\"#E5ECF6\",\"gridcolor\":\"white\",\"linecolor\":\"white\",\"showbackground\":true,\"ticks\":\"\",\"zerolinecolor\":\"white\",\"gridwidth\":2},\"zaxis\":{\"backgroundcolor\":\"#E5ECF6\",\"gridcolor\":\"white\",\"linecolor\":\"white\",\"showbackground\":true,\"ticks\":\"\",\"zerolinecolor\":\"white\",\"gridwidth\":2}},\"shapedefaults\":{\"line\":{\"color\":\"#2a3f5f\"}},\"annotationdefaults\":{\"arrowcolor\":\"#2a3f5f\",\"arrowhead\":0,\"arrowwidth\":1},\"geo\":{\"bgcolor\":\"white\",\"landcolor\":\"#E5ECF6\",\"subunitcolor\":\"white\",\"showland\":true,\"showlakes\":true,\"lakecolor\":\"white\"},\"title\":{\"x\":0.05},\"mapbox\":{\"style\":\"light\"}}},\"scene\":{\"domain\":{\"x\":[0.0,1.0],\"y\":[0.0,1.0]},\"xaxis\":{\"title\":{\"text\":\"X\"},\"range\":[-8.015033721923828,-1.5465190410614014]},\"yaxis\":{\"title\":{\"text\":\"Y\"},\"range\":[-5.361608505249023,7.116098880767822]},\"zaxis\":{\"title\":{\"text\":\"Z\"},\"range\":[-8.478615760803223,3.5717341899871826]}},\"legend\":{\"title\":{\"text\":\"Y\"},\"tracegroupgap\":0,\"itemsizing\":\"constant\"},\"title\":{\"text\":\"Grafico 3D con colori basati sull'etichetta 'Y'\"}},                        {\"responsive\": true}                    ).then(function(){\n",
       "                            \n",
       "var gd = document.getElementById('ae42d1a8-383f-4fca-aaf9-887135153ae2');\n",
       "var x = new MutationObserver(function (mutations, observer) {{\n",
       "        var display = window.getComputedStyle(gd).display;\n",
       "        if (!display || display === 'none') {{\n",
       "            console.log([gd, 'removed!']);\n",
       "            Plotly.purge(gd);\n",
       "            observer.disconnect();\n",
       "        }}\n",
       "}});\n",
       "\n",
       "// Listen for the removal of the full notebook cells\n",
       "var notebookContainer = gd.closest('#notebook-container');\n",
       "if (notebookContainer) {{\n",
       "    x.observe(notebookContainer, {childList: true});\n",
       "}}\n",
       "\n",
       "// Listen for the clearing of the current output cell\n",
       "var outputEl = gd.closest('.output');\n",
       "if (outputEl) {{\n",
       "    x.observe(outputEl, {childList: true});\n",
       "}}\n",
       "\n",
       "                        })                };                });            </script>        </div>"
      ]
     },
     "metadata": {},
     "output_type": "display_data"
    }
   ],
   "source": [
    "dimensione_punti = 1000  # Diminuire per avere punti più piccoli\n",
    "fig = px.scatter_3d(\n",
    "    df,\n",
    "    x='x',\n",
    "    y='y',\n",
    "    z='z',\n",
    "    color='Y',  # Colora i punti in base alla colonna 'Y'\n",
    "    title=\"Grafico 3D con colori basati sull'etichetta 'Y'\",\n",
    "    labels={'x': 'Asse X', 'y': 'Asse Y', 'z': 'Asse Z'},\n",
    "    size=[dimensione_punti] * len(x_coords),  # Dimensione uniforme\n",
    "    size_max=10,  # Dimensione massima dei punti\n",
    "    opacity=0.7  # Controlla la trasparenza dei punti\n",
    ")\n",
    "\n",
    "# Riduci la dimensione del testo\n",
    "fig.update_traces(textfont=dict(size=8))  # Riduci la dimensione delle etichette di testo\n",
    "\n",
    "# Regola i limiti degli assi per evitare compressione\n",
    "fig.update_layout(\n",
    "    scene=dict(\n",
    "        xaxis=dict(title='X', range=[min(x_coords), max(x_coords)]),\n",
    "        yaxis=dict(title='Y', range=[min(y_coords), max(y_coords)]),\n",
    "        zaxis=dict(title='Z', range=[min(z_coords), max(z_coords)]),\n",
    "    )\n",
    ")\n",
    "\n",
    "# Mostra il grafico interattivo\n",
    "fig.show()\n"
   ]
  },
  {
   "cell_type": "code",
   "execution_count": 87,
   "id": "d803c107",
   "metadata": {},
   "outputs": [
    {
     "data": {
      "application/vnd.plotly.v1+json": {
       "config": {
        "plotlyServerURL": "https://plot.ly"
       },
       "data": [
        {
         "hovertemplate": "Y=%{text}<br>Asse X=%{x}<br>Asse Y=%{y}<br>Asse Z=%{z}<br>size=%{marker.size}<extra></extra>",
         "legendgroup": "Cardiology",
         "marker": {
          "color": "#636efa",
          "opacity": 0.7,
          "size": [
           3,
           3,
           3,
           3,
           3,
           3,
           3,
           3,
           3,
           3,
           3
          ],
          "sizemode": "area",
          "sizeref": 0.03,
          "symbol": "circle"
         },
         "mode": "markers+text",
         "name": "Cardiology",
         "scene": "scene",
         "showlegend": true,
         "text": [
          "Cardiology",
          "Cardiology",
          "Cardiology",
          "Cardiology",
          "Cardiology",
          "Cardiology",
          "Cardiology",
          "Cardiology",
          "Cardiology",
          "Cardiology",
          "Cardiology"
         ],
         "textfont": {
          "size": 5
         },
         "type": "scatter3d",
         "x": [
          -6.812251567840576,
          -3.975325584411621,
          -4.193718910217285,
          -4.436558723449707,
          -2.866990327835083,
          -2.36567759513855,
          -5.464950084686279,
          -3.7912752628326416,
          -3.159449577331543,
          -4.346036911010742,
          -6.785656929016113
         ],
         "y": [
          -4.016807556152344,
          1.2216840982437134,
          0.3857387602329254,
          1.8156660795211792,
          -0.06718350946903229,
          1.1015297174453735,
          0.1967644840478897,
          0.8339816927909851,
          1.0180749893188477,
          1.465824007987976,
          1.6981676816940308
         ],
         "z": [
          -6.338168621063232,
          -2.3949809074401855,
          -2.3592653274536133,
          -0.35830190777778625,
          -1.204355001449585,
          -0.7897380590438843,
          0.20688369870185852,
          -1.1864666938781738,
          -0.5143362283706665,
          0.11241687089204788,
          2.2173147201538086
         ]
        },
        {
         "hovertemplate": "Y=%{text}<br>Asse X=%{x}<br>Asse Y=%{y}<br>Asse Z=%{z}<br>size=%{marker.size}<extra></extra>",
         "legendgroup": "Other",
         "marker": {
          "color": "#EF553B",
          "opacity": 0.7,
          "size": [
           3,
           3,
           3,
           3,
           3,
           3,
           3,
           3,
           3,
           3,
           3,
           3,
           3,
           3,
           3,
           3,
           3,
           3,
           3,
           3,
           3,
           3,
           3,
           3,
           3,
           3,
           3,
           3,
           3,
           3,
           3,
           3,
           3,
           3,
           3,
           3,
           3,
           3,
           3,
           3,
           3,
           3
          ],
          "sizemode": "area",
          "sizeref": 0.03,
          "symbol": "circle"
         },
         "mode": "markers+text",
         "name": "Other",
         "scene": "scene",
         "showlegend": true,
         "text": [
          "Other",
          "Other",
          "Other",
          "Other",
          "Other",
          "Other",
          "Other",
          "Other",
          "Other",
          "Other",
          "Other",
          "Other",
          "Other",
          "Other",
          "Other",
          "Other",
          "Other",
          "Other",
          "Other",
          "Other",
          "Other",
          "Other",
          "Other",
          "Other",
          "Other",
          "Other",
          "Other",
          "Other",
          "Other",
          "Other",
          "Other",
          "Other",
          "Other",
          "Other",
          "Other",
          "Other",
          "Other",
          "Other",
          "Other",
          "Other",
          "Other",
          "Other"
         ],
         "textfont": {
          "size": 5
         },
         "type": "scatter3d",
         "x": [
          -5.087823867797852,
          -3.2681033611297607,
          -5.199767589569092,
          -8.015033721923828,
          -1.7737176418304443,
          -2.404381513595581,
          -4.05131721496582,
          -2.5569448471069336,
          -4.298999786376953,
          -2.787770986557007,
          -4.981238842010498,
          -2.8620030879974365,
          -2.704240560531616,
          -2.951455593109131,
          -3.7623672485351562,
          -3.4423677921295166,
          -3.035412549972534,
          -4.41521692276001,
          -2.626375675201416,
          -2.6215450763702393,
          -4.33605432510376,
          -3.9948806762695312,
          -2.552509069442749,
          -2.5689539909362793,
          -4.507091999053955,
          -4.036880016326904,
          -4.443966865539551,
          -4.632813453674316,
          -4.015997409820557,
          -2.9127655029296875,
          -2.8583731651306152,
          -3.3517093658447266,
          -3.2944822311401367,
          -3.4049413204193115,
          -3.5580008029937744,
          -3.7442970275878906,
          -3.9229323863983154,
          -3.6612019538879395,
          -2.725717067718506,
          -2.6368632316589355,
          -5.320115089416504,
          -6.063870906829834
         ],
         "y": [
          -1.8568384647369385,
          3.6644296646118164,
          0.8105658888816833,
          -5.361608505249023,
          5.117808818817139,
          1.0949188470840454,
          2.9924702644348145,
          1.1426364183425903,
          0.9072930812835693,
          1.500815987586975,
          1.311891794204712,
          1.112452745437622,
          2.0047621726989746,
          4.11018705368042,
          1.2574998140335083,
          2.188706636428833,
          1.5608192682266235,
          -0.02074749954044819,
          1.2546275854110718,
          1.7035409212112427,
          2.2416114807128906,
          -0.7125061750411987,
          2.7937471866607666,
          1.0605340003967285,
          2.325892210006714,
          1.9824094772338867,
          -0.22993651032447815,
          -0.7497274279594421,
          0.8329867124557495,
          0.6285417675971985,
          -0.030938342213630676,
          0.32585784792900085,
          0.21937745809555054,
          0.46691134572029114,
          0.5533339977264404,
          1.1268723011016846,
          2.122468948364258,
          0.4423139691352844,
          0.9217163324356079,
          1.055955410003662,
          1.3761979341506958,
          3.6498517990112305
         ],
         "z": [
          -6.399590015411377,
          -3.4451446533203125,
          -0.5226107835769653,
          -6.631443023681641,
          -5.709856986999512,
          -8.478615760803223,
          0.028559111058712006,
          -0.926342785358429,
          -2.103968620300293,
          -1.337166428565979,
          -0.12937398254871368,
          -1.9938411712646484,
          -1.7465914487838745,
          -3.065415859222412,
          -1.2192656993865967,
          -1.0440921783447266,
          -1.9985674619674683,
          -3.054720401763916,
          -0.02521061897277832,
          -0.5533918738365173,
          0.7159337997436523,
          -3.423280715942383,
          -2.2174880504608154,
          -1.1843029260635376,
          -0.7078951597213745,
          -1.8045927286148071,
          -4.739495754241943,
          -0.019043507054448128,
          -0.13477346301078796,
          -0.43872717022895813,
          -1.4729083776474,
          -0.5625264644622803,
          -1.0866045951843262,
          -0.9440380334854126,
          -2.0908987522125244,
          -1.0707790851593018,
          -1.1117304563522339,
          -4.026650905609131,
          -0.1538475900888443,
          -0.35174208879470825,
          0.5597820281982422,
          1.9593126773834229
         ]
        },
        {
         "hovertemplate": "Y=%{text}<br>Asse X=%{x}<br>Asse Y=%{y}<br>Asse Z=%{z}<br>size=%{marker.size}<extra></extra>",
         "legendgroup": "Oncology",
         "marker": {
          "color": "#00cc96",
          "opacity": 0.7,
          "size": [
           3,
           3,
           3,
           3,
           3,
           3,
           3,
           3,
           3,
           3,
           3,
           3,
           3,
           3,
           3
          ],
          "sizemode": "area",
          "sizeref": 0.03,
          "symbol": "circle"
         },
         "mode": "markers+text",
         "name": "Oncology",
         "scene": "scene",
         "showlegend": true,
         "text": [
          "Oncology",
          "Oncology",
          "Oncology",
          "Oncology",
          "Oncology",
          "Oncology",
          "Oncology",
          "Oncology",
          "Oncology",
          "Oncology",
          "Oncology",
          "Oncology",
          "Oncology",
          "Oncology",
          "Oncology"
         ],
         "textfont": {
          "size": 5
         },
         "type": "scatter3d",
         "x": [
          -4.7291107177734375,
          -3.077399730682373,
          -1.9934501647949219,
          -4.185713768005371,
          -3.6117353439331055,
          -3.7765254974365234,
          -4.824370861053467,
          -4.400977611541748,
          -4.657653331756592,
          -4.167476177215576,
          -5.892406463623047,
          -2.8180787563323975,
          -3.0921521186828613,
          -3.3062407970428467,
          -4.4383111000061035
         ],
         "y": [
          1.1009163856506348,
          1.0471343994140625,
          4.2407755851745605,
          3.5628204345703125,
          -0.24136780202388763,
          0.18361462652683258,
          2.4844248294830322,
          1.4252080917358398,
          0.2653921842575073,
          3.204571485519409,
          -2.806461811065674,
          4.575332164764404,
          3.3008387088775635,
          3.780519962310791,
          7.116098880767822
         ],
         "z": [
          -0.2983972132205963,
          -0.21617569029331207,
          -6.421456336975098,
          -0.3900982141494751,
          0.12145398557186127,
          0.1422923505306244,
          0.715599775314331,
          -0.03271150961518288,
          -1.4921514987945557,
          0.07973567396402359,
          -5.1222076416015625,
          -3.520984172821045,
          -2.911592721939087,
          -4.502683639526367,
          0.009187248535454273
         ]
        },
        {
         "hovertemplate": "Y=%{text}<br>Asse X=%{x}<br>Asse Y=%{y}<br>Asse Z=%{z}<br>size=%{marker.size}<extra></extra>",
         "legendgroup": "Gastroenterology",
         "marker": {
          "color": "#ab63fa",
          "opacity": 0.7,
          "size": [
           3,
           3,
           3,
           3,
           3,
           3,
           3,
           3,
           3
          ],
          "sizemode": "area",
          "sizeref": 0.03,
          "symbol": "circle"
         },
         "mode": "markers+text",
         "name": "Gastroenterology",
         "scene": "scene",
         "showlegend": true,
         "text": [
          "Gastroenterology",
          "Gastroenterology",
          "Gastroenterology",
          "Gastroenterology",
          "Gastroenterology",
          "Gastroenterology",
          "Gastroenterology",
          "Gastroenterology",
          "Gastroenterology"
         ],
         "textfont": {
          "size": 5
         },
         "type": "scatter3d",
         "x": [
          -2.4933254718780518,
          -3.0342226028442383,
          -3.387465000152588,
          -2.97377872467041,
          -2.880497694015503,
          -4.382530212402344,
          -3.6012871265411377,
          -3.303576707839966,
          -6.78747034072876
         ],
         "y": [
          0.7049950957298279,
          1.229705572128296,
          4.355658531188965,
          0.31879371404647827,
          3.662304162979126,
          0.025344133377075195,
          0.7407838702201843,
          -0.13736674189567566,
          -0.6774959564208984
         ],
         "z": [
          -0.5739644169807434,
          -0.6936967968940735,
          -1.256766438484192,
          -1.3121461868286133,
          -2.832679510116577,
          -3.0591394901275635,
          -0.13328884541988373,
          -1.750515341758728,
          0.9334281086921692
         ]
        },
        {
         "hovertemplate": "Y=%{text}<br>Asse X=%{x}<br>Asse Y=%{y}<br>Asse Z=%{z}<br>size=%{marker.size}<extra></extra>",
         "legendgroup": "Pediatrics",
         "marker": {
          "color": "#FFA15A",
          "opacity": 0.7,
          "size": [
           3,
           3,
           3,
           3,
           3,
           3,
           3,
           3,
           3
          ],
          "sizemode": "area",
          "sizeref": 0.03,
          "symbol": "circle"
         },
         "mode": "markers+text",
         "name": "Pediatrics",
         "scene": "scene",
         "showlegend": true,
         "text": [
          "Pediatrics",
          "Pediatrics",
          "Pediatrics",
          "Pediatrics",
          "Pediatrics",
          "Pediatrics",
          "Pediatrics",
          "Pediatrics",
          "Pediatrics"
         ],
         "textfont": {
          "size": 5
         },
         "type": "scatter3d",
         "x": [
          -5.263186454772949,
          -6.441122055053711,
          -4.375831127166748,
          -1.5465190410614014,
          -5.024097442626953,
          -5.130639553070068,
          -2.7994141578674316,
          -3.1362133026123047,
          -4.84658670425415
         ],
         "y": [
          1.6459434032440186,
          1.8319841623306274,
          0.760147213935852,
          5.110258102416992,
          1.3921735286712646,
          1.1260185241699219,
          2.438176155090332,
          2.4768707752227783,
          4.258389949798584
         ],
         "z": [
          1.5781686305999756,
          3.5717341899871826,
          -0.9349748492240906,
          -7.944146156311035,
          0.9748574495315552,
          0.2780006229877472,
          -3.565192222595215,
          -4.790462493896484,
          1.536668300628662
         ]
        }
       ],
       "layout": {
        "legend": {
         "itemsizing": "constant",
         "title": {
          "text": "Y"
         },
         "tracegroupgap": 0
        },
        "scene": {
         "domain": {
          "x": [
           0,
           1
          ],
          "y": [
           0,
           1
          ]
         },
         "xaxis": {
          "range": [
           -8.015033721923828,
           -1.5465190410614014
          ],
          "title": {
           "text": "X"
          }
         },
         "yaxis": {
          "range": [
           -5.361608505249023,
           7.116098880767822
          ],
          "title": {
           "text": "Y"
          }
         },
         "zaxis": {
          "range": [
           -8.478615760803223,
           3.5717341899871826
          ],
          "title": {
           "text": "Z"
          }
         }
        },
        "template": {
         "data": {
          "bar": [
           {
            "error_x": {
             "color": "#2a3f5f"
            },
            "error_y": {
             "color": "#2a3f5f"
            },
            "marker": {
             "line": {
              "color": "#E5ECF6",
              "width": 0.5
             },
             "pattern": {
              "fillmode": "overlay",
              "size": 10,
              "solidity": 0.2
             }
            },
            "type": "bar"
           }
          ],
          "barpolar": [
           {
            "marker": {
             "line": {
              "color": "#E5ECF6",
              "width": 0.5
             },
             "pattern": {
              "fillmode": "overlay",
              "size": 10,
              "solidity": 0.2
             }
            },
            "type": "barpolar"
           }
          ],
          "carpet": [
           {
            "aaxis": {
             "endlinecolor": "#2a3f5f",
             "gridcolor": "white",
             "linecolor": "white",
             "minorgridcolor": "white",
             "startlinecolor": "#2a3f5f"
            },
            "baxis": {
             "endlinecolor": "#2a3f5f",
             "gridcolor": "white",
             "linecolor": "white",
             "minorgridcolor": "white",
             "startlinecolor": "#2a3f5f"
            },
            "type": "carpet"
           }
          ],
          "choropleth": [
           {
            "colorbar": {
             "outlinewidth": 0,
             "ticks": ""
            },
            "type": "choropleth"
           }
          ],
          "contour": [
           {
            "colorbar": {
             "outlinewidth": 0,
             "ticks": ""
            },
            "colorscale": [
             [
              0,
              "#0d0887"
             ],
             [
              0.1111111111111111,
              "#46039f"
             ],
             [
              0.2222222222222222,
              "#7201a8"
             ],
             [
              0.3333333333333333,
              "#9c179e"
             ],
             [
              0.4444444444444444,
              "#bd3786"
             ],
             [
              0.5555555555555556,
              "#d8576b"
             ],
             [
              0.6666666666666666,
              "#ed7953"
             ],
             [
              0.7777777777777778,
              "#fb9f3a"
             ],
             [
              0.8888888888888888,
              "#fdca26"
             ],
             [
              1,
              "#f0f921"
             ]
            ],
            "type": "contour"
           }
          ],
          "contourcarpet": [
           {
            "colorbar": {
             "outlinewidth": 0,
             "ticks": ""
            },
            "type": "contourcarpet"
           }
          ],
          "heatmap": [
           {
            "colorbar": {
             "outlinewidth": 0,
             "ticks": ""
            },
            "colorscale": [
             [
              0,
              "#0d0887"
             ],
             [
              0.1111111111111111,
              "#46039f"
             ],
             [
              0.2222222222222222,
              "#7201a8"
             ],
             [
              0.3333333333333333,
              "#9c179e"
             ],
             [
              0.4444444444444444,
              "#bd3786"
             ],
             [
              0.5555555555555556,
              "#d8576b"
             ],
             [
              0.6666666666666666,
              "#ed7953"
             ],
             [
              0.7777777777777778,
              "#fb9f3a"
             ],
             [
              0.8888888888888888,
              "#fdca26"
             ],
             [
              1,
              "#f0f921"
             ]
            ],
            "type": "heatmap"
           }
          ],
          "heatmapgl": [
           {
            "colorbar": {
             "outlinewidth": 0,
             "ticks": ""
            },
            "colorscale": [
             [
              0,
              "#0d0887"
             ],
             [
              0.1111111111111111,
              "#46039f"
             ],
             [
              0.2222222222222222,
              "#7201a8"
             ],
             [
              0.3333333333333333,
              "#9c179e"
             ],
             [
              0.4444444444444444,
              "#bd3786"
             ],
             [
              0.5555555555555556,
              "#d8576b"
             ],
             [
              0.6666666666666666,
              "#ed7953"
             ],
             [
              0.7777777777777778,
              "#fb9f3a"
             ],
             [
              0.8888888888888888,
              "#fdca26"
             ],
             [
              1,
              "#f0f921"
             ]
            ],
            "type": "heatmapgl"
           }
          ],
          "histogram": [
           {
            "marker": {
             "pattern": {
              "fillmode": "overlay",
              "size": 10,
              "solidity": 0.2
             }
            },
            "type": "histogram"
           }
          ],
          "histogram2d": [
           {
            "colorbar": {
             "outlinewidth": 0,
             "ticks": ""
            },
            "colorscale": [
             [
              0,
              "#0d0887"
             ],
             [
              0.1111111111111111,
              "#46039f"
             ],
             [
              0.2222222222222222,
              "#7201a8"
             ],
             [
              0.3333333333333333,
              "#9c179e"
             ],
             [
              0.4444444444444444,
              "#bd3786"
             ],
             [
              0.5555555555555556,
              "#d8576b"
             ],
             [
              0.6666666666666666,
              "#ed7953"
             ],
             [
              0.7777777777777778,
              "#fb9f3a"
             ],
             [
              0.8888888888888888,
              "#fdca26"
             ],
             [
              1,
              "#f0f921"
             ]
            ],
            "type": "histogram2d"
           }
          ],
          "histogram2dcontour": [
           {
            "colorbar": {
             "outlinewidth": 0,
             "ticks": ""
            },
            "colorscale": [
             [
              0,
              "#0d0887"
             ],
             [
              0.1111111111111111,
              "#46039f"
             ],
             [
              0.2222222222222222,
              "#7201a8"
             ],
             [
              0.3333333333333333,
              "#9c179e"
             ],
             [
              0.4444444444444444,
              "#bd3786"
             ],
             [
              0.5555555555555556,
              "#d8576b"
             ],
             [
              0.6666666666666666,
              "#ed7953"
             ],
             [
              0.7777777777777778,
              "#fb9f3a"
             ],
             [
              0.8888888888888888,
              "#fdca26"
             ],
             [
              1,
              "#f0f921"
             ]
            ],
            "type": "histogram2dcontour"
           }
          ],
          "mesh3d": [
           {
            "colorbar": {
             "outlinewidth": 0,
             "ticks": ""
            },
            "type": "mesh3d"
           }
          ],
          "parcoords": [
           {
            "line": {
             "colorbar": {
              "outlinewidth": 0,
              "ticks": ""
             }
            },
            "type": "parcoords"
           }
          ],
          "pie": [
           {
            "automargin": true,
            "type": "pie"
           }
          ],
          "scatter": [
           {
            "fillpattern": {
             "fillmode": "overlay",
             "size": 10,
             "solidity": 0.2
            },
            "type": "scatter"
           }
          ],
          "scatter3d": [
           {
            "line": {
             "colorbar": {
              "outlinewidth": 0,
              "ticks": ""
             }
            },
            "marker": {
             "colorbar": {
              "outlinewidth": 0,
              "ticks": ""
             }
            },
            "type": "scatter3d"
           }
          ],
          "scattercarpet": [
           {
            "marker": {
             "colorbar": {
              "outlinewidth": 0,
              "ticks": ""
             }
            },
            "type": "scattercarpet"
           }
          ],
          "scattergeo": [
           {
            "marker": {
             "colorbar": {
              "outlinewidth": 0,
              "ticks": ""
             }
            },
            "type": "scattergeo"
           }
          ],
          "scattergl": [
           {
            "marker": {
             "colorbar": {
              "outlinewidth": 0,
              "ticks": ""
             }
            },
            "type": "scattergl"
           }
          ],
          "scattermapbox": [
           {
            "marker": {
             "colorbar": {
              "outlinewidth": 0,
              "ticks": ""
             }
            },
            "type": "scattermapbox"
           }
          ],
          "scatterpolar": [
           {
            "marker": {
             "colorbar": {
              "outlinewidth": 0,
              "ticks": ""
             }
            },
            "type": "scatterpolar"
           }
          ],
          "scatterpolargl": [
           {
            "marker": {
             "colorbar": {
              "outlinewidth": 0,
              "ticks": ""
             }
            },
            "type": "scatterpolargl"
           }
          ],
          "scatterternary": [
           {
            "marker": {
             "colorbar": {
              "outlinewidth": 0,
              "ticks": ""
             }
            },
            "type": "scatterternary"
           }
          ],
          "surface": [
           {
            "colorbar": {
             "outlinewidth": 0,
             "ticks": ""
            },
            "colorscale": [
             [
              0,
              "#0d0887"
             ],
             [
              0.1111111111111111,
              "#46039f"
             ],
             [
              0.2222222222222222,
              "#7201a8"
             ],
             [
              0.3333333333333333,
              "#9c179e"
             ],
             [
              0.4444444444444444,
              "#bd3786"
             ],
             [
              0.5555555555555556,
              "#d8576b"
             ],
             [
              0.6666666666666666,
              "#ed7953"
             ],
             [
              0.7777777777777778,
              "#fb9f3a"
             ],
             [
              0.8888888888888888,
              "#fdca26"
             ],
             [
              1,
              "#f0f921"
             ]
            ],
            "type": "surface"
           }
          ],
          "table": [
           {
            "cells": {
             "fill": {
              "color": "#EBF0F8"
             },
             "line": {
              "color": "white"
             }
            },
            "header": {
             "fill": {
              "color": "#C8D4E3"
             },
             "line": {
              "color": "white"
             }
            },
            "type": "table"
           }
          ]
         },
         "layout": {
          "annotationdefaults": {
           "arrowcolor": "#2a3f5f",
           "arrowhead": 0,
           "arrowwidth": 1
          },
          "autotypenumbers": "strict",
          "coloraxis": {
           "colorbar": {
            "outlinewidth": 0,
            "ticks": ""
           }
          },
          "colorscale": {
           "diverging": [
            [
             0,
             "#8e0152"
            ],
            [
             0.1,
             "#c51b7d"
            ],
            [
             0.2,
             "#de77ae"
            ],
            [
             0.3,
             "#f1b6da"
            ],
            [
             0.4,
             "#fde0ef"
            ],
            [
             0.5,
             "#f7f7f7"
            ],
            [
             0.6,
             "#e6f5d0"
            ],
            [
             0.7,
             "#b8e186"
            ],
            [
             0.8,
             "#7fbc41"
            ],
            [
             0.9,
             "#4d9221"
            ],
            [
             1,
             "#276419"
            ]
           ],
           "sequential": [
            [
             0,
             "#0d0887"
            ],
            [
             0.1111111111111111,
             "#46039f"
            ],
            [
             0.2222222222222222,
             "#7201a8"
            ],
            [
             0.3333333333333333,
             "#9c179e"
            ],
            [
             0.4444444444444444,
             "#bd3786"
            ],
            [
             0.5555555555555556,
             "#d8576b"
            ],
            [
             0.6666666666666666,
             "#ed7953"
            ],
            [
             0.7777777777777778,
             "#fb9f3a"
            ],
            [
             0.8888888888888888,
             "#fdca26"
            ],
            [
             1,
             "#f0f921"
            ]
           ],
           "sequentialminus": [
            [
             0,
             "#0d0887"
            ],
            [
             0.1111111111111111,
             "#46039f"
            ],
            [
             0.2222222222222222,
             "#7201a8"
            ],
            [
             0.3333333333333333,
             "#9c179e"
            ],
            [
             0.4444444444444444,
             "#bd3786"
            ],
            [
             0.5555555555555556,
             "#d8576b"
            ],
            [
             0.6666666666666666,
             "#ed7953"
            ],
            [
             0.7777777777777778,
             "#fb9f3a"
            ],
            [
             0.8888888888888888,
             "#fdca26"
            ],
            [
             1,
             "#f0f921"
            ]
           ]
          },
          "colorway": [
           "#636efa",
           "#EF553B",
           "#00cc96",
           "#ab63fa",
           "#FFA15A",
           "#19d3f3",
           "#FF6692",
           "#B6E880",
           "#FF97FF",
           "#FECB52"
          ],
          "font": {
           "color": "#2a3f5f"
          },
          "geo": {
           "bgcolor": "white",
           "lakecolor": "white",
           "landcolor": "#E5ECF6",
           "showlakes": true,
           "showland": true,
           "subunitcolor": "white"
          },
          "hoverlabel": {
           "align": "left"
          },
          "hovermode": "closest",
          "mapbox": {
           "style": "light"
          },
          "paper_bgcolor": "white",
          "plot_bgcolor": "#E5ECF6",
          "polar": {
           "angularaxis": {
            "gridcolor": "white",
            "linecolor": "white",
            "ticks": ""
           },
           "bgcolor": "#E5ECF6",
           "radialaxis": {
            "gridcolor": "white",
            "linecolor": "white",
            "ticks": ""
           }
          },
          "scene": {
           "xaxis": {
            "backgroundcolor": "#E5ECF6",
            "gridcolor": "white",
            "gridwidth": 2,
            "linecolor": "white",
            "showbackground": true,
            "ticks": "",
            "zerolinecolor": "white"
           },
           "yaxis": {
            "backgroundcolor": "#E5ECF6",
            "gridcolor": "white",
            "gridwidth": 2,
            "linecolor": "white",
            "showbackground": true,
            "ticks": "",
            "zerolinecolor": "white"
           },
           "zaxis": {
            "backgroundcolor": "#E5ECF6",
            "gridcolor": "white",
            "gridwidth": 2,
            "linecolor": "white",
            "showbackground": true,
            "ticks": "",
            "zerolinecolor": "white"
           }
          },
          "shapedefaults": {
           "line": {
            "color": "#2a3f5f"
           }
          },
          "ternary": {
           "aaxis": {
            "gridcolor": "white",
            "linecolor": "white",
            "ticks": ""
           },
           "baxis": {
            "gridcolor": "white",
            "linecolor": "white",
            "ticks": ""
           },
           "bgcolor": "#E5ECF6",
           "caxis": {
            "gridcolor": "white",
            "linecolor": "white",
            "ticks": ""
           }
          },
          "title": {
           "x": 0.05
          },
          "xaxis": {
           "automargin": true,
           "gridcolor": "white",
           "linecolor": "white",
           "ticks": "",
           "title": {
            "standoff": 15
           },
           "zerolinecolor": "white",
           "zerolinewidth": 2
          },
          "yaxis": {
           "automargin": true,
           "gridcolor": "white",
           "linecolor": "white",
           "ticks": "",
           "title": {
            "standoff": 15
           },
           "zerolinecolor": "white",
           "zerolinewidth": 2
          }
         }
        },
        "title": {
         "text": "Grafico 3D con colori basati sull'etichetta 'Y'"
        }
       }
      },
      "text/html": [
       "<div>                            <div id=\"27336d79-1f0b-4dcf-a2aa-89a8fa3b0792\" class=\"plotly-graph-div\" style=\"height:525px; width:100%;\"></div>            <script type=\"text/javascript\">                require([\"plotly\"], function(Plotly) {                    window.PLOTLYENV=window.PLOTLYENV || {};                                    if (document.getElementById(\"27336d79-1f0b-4dcf-a2aa-89a8fa3b0792\")) {                    Plotly.newPlot(                        \"27336d79-1f0b-4dcf-a2aa-89a8fa3b0792\",                        [{\"hovertemplate\":\"Y=%{text}<br>Asse X=%{x}<br>Asse Y=%{y}<br>Asse Z=%{z}<br>size=%{marker.size}<extra></extra>\",\"legendgroup\":\"Cardiology\",\"marker\":{\"color\":\"#636efa\",\"opacity\":0.7,\"size\":[3,3,3,3,3,3,3,3,3,3,3],\"sizemode\":\"area\",\"sizeref\":0.03,\"symbol\":\"circle\"},\"mode\":\"markers+text\",\"name\":\"Cardiology\",\"scene\":\"scene\",\"showlegend\":true,\"text\":[\"Cardiology\",\"Cardiology\",\"Cardiology\",\"Cardiology\",\"Cardiology\",\"Cardiology\",\"Cardiology\",\"Cardiology\",\"Cardiology\",\"Cardiology\",\"Cardiology\"],\"x\":[-6.812251567840576,-3.975325584411621,-4.193718910217285,-4.436558723449707,-2.866990327835083,-2.36567759513855,-5.464950084686279,-3.7912752628326416,-3.159449577331543,-4.346036911010742,-6.785656929016113],\"y\":[-4.016807556152344,1.2216840982437134,0.3857387602329254,1.8156660795211792,-0.06718350946903229,1.1015297174453735,0.1967644840478897,0.8339816927909851,1.0180749893188477,1.465824007987976,1.6981676816940308],\"z\":[-6.338168621063232,-2.3949809074401855,-2.3592653274536133,-0.35830190777778625,-1.204355001449585,-0.7897380590438843,0.20688369870185852,-1.1864666938781738,-0.5143362283706665,0.11241687089204788,2.2173147201538086],\"type\":\"scatter3d\",\"textfont\":{\"size\":5}},{\"hovertemplate\":\"Y=%{text}<br>Asse X=%{x}<br>Asse Y=%{y}<br>Asse Z=%{z}<br>size=%{marker.size}<extra></extra>\",\"legendgroup\":\"Other\",\"marker\":{\"color\":\"#EF553B\",\"opacity\":0.7,\"size\":[3,3,3,3,3,3,3,3,3,3,3,3,3,3,3,3,3,3,3,3,3,3,3,3,3,3,3,3,3,3,3,3,3,3,3,3,3,3,3,3,3,3],\"sizemode\":\"area\",\"sizeref\":0.03,\"symbol\":\"circle\"},\"mode\":\"markers+text\",\"name\":\"Other\",\"scene\":\"scene\",\"showlegend\":true,\"text\":[\"Other\",\"Other\",\"Other\",\"Other\",\"Other\",\"Other\",\"Other\",\"Other\",\"Other\",\"Other\",\"Other\",\"Other\",\"Other\",\"Other\",\"Other\",\"Other\",\"Other\",\"Other\",\"Other\",\"Other\",\"Other\",\"Other\",\"Other\",\"Other\",\"Other\",\"Other\",\"Other\",\"Other\",\"Other\",\"Other\",\"Other\",\"Other\",\"Other\",\"Other\",\"Other\",\"Other\",\"Other\",\"Other\",\"Other\",\"Other\",\"Other\",\"Other\"],\"x\":[-5.087823867797852,-3.2681033611297607,-5.199767589569092,-8.015033721923828,-1.7737176418304443,-2.404381513595581,-4.05131721496582,-2.5569448471069336,-4.298999786376953,-2.787770986557007,-4.981238842010498,-2.8620030879974365,-2.704240560531616,-2.951455593109131,-3.7623672485351562,-3.4423677921295166,-3.035412549972534,-4.41521692276001,-2.626375675201416,-2.6215450763702393,-4.33605432510376,-3.9948806762695312,-2.552509069442749,-2.5689539909362793,-4.507091999053955,-4.036880016326904,-4.443966865539551,-4.632813453674316,-4.015997409820557,-2.9127655029296875,-2.8583731651306152,-3.3517093658447266,-3.2944822311401367,-3.4049413204193115,-3.5580008029937744,-3.7442970275878906,-3.9229323863983154,-3.6612019538879395,-2.725717067718506,-2.6368632316589355,-5.320115089416504,-6.063870906829834],\"y\":[-1.8568384647369385,3.6644296646118164,0.8105658888816833,-5.361608505249023,5.117808818817139,1.0949188470840454,2.9924702644348145,1.1426364183425903,0.9072930812835693,1.500815987586975,1.311891794204712,1.112452745437622,2.0047621726989746,4.11018705368042,1.2574998140335083,2.188706636428833,1.5608192682266235,-0.02074749954044819,1.2546275854110718,1.7035409212112427,2.2416114807128906,-0.7125061750411987,2.7937471866607666,1.0605340003967285,2.325892210006714,1.9824094772338867,-0.22993651032447815,-0.7497274279594421,0.8329867124557495,0.6285417675971985,-0.030938342213630676,0.32585784792900085,0.21937745809555054,0.46691134572029114,0.5533339977264404,1.1268723011016846,2.122468948364258,0.4423139691352844,0.9217163324356079,1.055955410003662,1.3761979341506958,3.6498517990112305],\"z\":[-6.399590015411377,-3.4451446533203125,-0.5226107835769653,-6.631443023681641,-5.709856986999512,-8.478615760803223,0.028559111058712006,-0.926342785358429,-2.103968620300293,-1.337166428565979,-0.12937398254871368,-1.9938411712646484,-1.7465914487838745,-3.065415859222412,-1.2192656993865967,-1.0440921783447266,-1.9985674619674683,-3.054720401763916,-0.02521061897277832,-0.5533918738365173,0.7159337997436523,-3.423280715942383,-2.2174880504608154,-1.1843029260635376,-0.7078951597213745,-1.8045927286148071,-4.739495754241943,-0.019043507054448128,-0.13477346301078796,-0.43872717022895813,-1.4729083776474,-0.5625264644622803,-1.0866045951843262,-0.9440380334854126,-2.0908987522125244,-1.0707790851593018,-1.1117304563522339,-4.026650905609131,-0.1538475900888443,-0.35174208879470825,0.5597820281982422,1.9593126773834229],\"type\":\"scatter3d\",\"textfont\":{\"size\":5}},{\"hovertemplate\":\"Y=%{text}<br>Asse X=%{x}<br>Asse Y=%{y}<br>Asse Z=%{z}<br>size=%{marker.size}<extra></extra>\",\"legendgroup\":\"Oncology\",\"marker\":{\"color\":\"#00cc96\",\"opacity\":0.7,\"size\":[3,3,3,3,3,3,3,3,3,3,3,3,3,3,3],\"sizemode\":\"area\",\"sizeref\":0.03,\"symbol\":\"circle\"},\"mode\":\"markers+text\",\"name\":\"Oncology\",\"scene\":\"scene\",\"showlegend\":true,\"text\":[\"Oncology\",\"Oncology\",\"Oncology\",\"Oncology\",\"Oncology\",\"Oncology\",\"Oncology\",\"Oncology\",\"Oncology\",\"Oncology\",\"Oncology\",\"Oncology\",\"Oncology\",\"Oncology\",\"Oncology\"],\"x\":[-4.7291107177734375,-3.077399730682373,-1.9934501647949219,-4.185713768005371,-3.6117353439331055,-3.7765254974365234,-4.824370861053467,-4.400977611541748,-4.657653331756592,-4.167476177215576,-5.892406463623047,-2.8180787563323975,-3.0921521186828613,-3.3062407970428467,-4.4383111000061035],\"y\":[1.1009163856506348,1.0471343994140625,4.2407755851745605,3.5628204345703125,-0.24136780202388763,0.18361462652683258,2.4844248294830322,1.4252080917358398,0.2653921842575073,3.204571485519409,-2.806461811065674,4.575332164764404,3.3008387088775635,3.780519962310791,7.116098880767822],\"z\":[-0.2983972132205963,-0.21617569029331207,-6.421456336975098,-0.3900982141494751,0.12145398557186127,0.1422923505306244,0.715599775314331,-0.03271150961518288,-1.4921514987945557,0.07973567396402359,-5.1222076416015625,-3.520984172821045,-2.911592721939087,-4.502683639526367,0.009187248535454273],\"type\":\"scatter3d\",\"textfont\":{\"size\":5}},{\"hovertemplate\":\"Y=%{text}<br>Asse X=%{x}<br>Asse Y=%{y}<br>Asse Z=%{z}<br>size=%{marker.size}<extra></extra>\",\"legendgroup\":\"Gastroenterology\",\"marker\":{\"color\":\"#ab63fa\",\"opacity\":0.7,\"size\":[3,3,3,3,3,3,3,3,3],\"sizemode\":\"area\",\"sizeref\":0.03,\"symbol\":\"circle\"},\"mode\":\"markers+text\",\"name\":\"Gastroenterology\",\"scene\":\"scene\",\"showlegend\":true,\"text\":[\"Gastroenterology\",\"Gastroenterology\",\"Gastroenterology\",\"Gastroenterology\",\"Gastroenterology\",\"Gastroenterology\",\"Gastroenterology\",\"Gastroenterology\",\"Gastroenterology\"],\"x\":[-2.4933254718780518,-3.0342226028442383,-3.387465000152588,-2.97377872467041,-2.880497694015503,-4.382530212402344,-3.6012871265411377,-3.303576707839966,-6.78747034072876],\"y\":[0.7049950957298279,1.229705572128296,4.355658531188965,0.31879371404647827,3.662304162979126,0.025344133377075195,0.7407838702201843,-0.13736674189567566,-0.6774959564208984],\"z\":[-0.5739644169807434,-0.6936967968940735,-1.256766438484192,-1.3121461868286133,-2.832679510116577,-3.0591394901275635,-0.13328884541988373,-1.750515341758728,0.9334281086921692],\"type\":\"scatter3d\",\"textfont\":{\"size\":5}},{\"hovertemplate\":\"Y=%{text}<br>Asse X=%{x}<br>Asse Y=%{y}<br>Asse Z=%{z}<br>size=%{marker.size}<extra></extra>\",\"legendgroup\":\"Pediatrics\",\"marker\":{\"color\":\"#FFA15A\",\"opacity\":0.7,\"size\":[3,3,3,3,3,3,3,3,3],\"sizemode\":\"area\",\"sizeref\":0.03,\"symbol\":\"circle\"},\"mode\":\"markers+text\",\"name\":\"Pediatrics\",\"scene\":\"scene\",\"showlegend\":true,\"text\":[\"Pediatrics\",\"Pediatrics\",\"Pediatrics\",\"Pediatrics\",\"Pediatrics\",\"Pediatrics\",\"Pediatrics\",\"Pediatrics\",\"Pediatrics\"],\"x\":[-5.263186454772949,-6.441122055053711,-4.375831127166748,-1.5465190410614014,-5.024097442626953,-5.130639553070068,-2.7994141578674316,-3.1362133026123047,-4.84658670425415],\"y\":[1.6459434032440186,1.8319841623306274,0.760147213935852,5.110258102416992,1.3921735286712646,1.1260185241699219,2.438176155090332,2.4768707752227783,4.258389949798584],\"z\":[1.5781686305999756,3.5717341899871826,-0.9349748492240906,-7.944146156311035,0.9748574495315552,0.2780006229877472,-3.565192222595215,-4.790462493896484,1.536668300628662],\"type\":\"scatter3d\",\"textfont\":{\"size\":5}}],                        {\"template\":{\"data\":{\"histogram2dcontour\":[{\"type\":\"histogram2dcontour\",\"colorbar\":{\"outlinewidth\":0,\"ticks\":\"\"},\"colorscale\":[[0.0,\"#0d0887\"],[0.1111111111111111,\"#46039f\"],[0.2222222222222222,\"#7201a8\"],[0.3333333333333333,\"#9c179e\"],[0.4444444444444444,\"#bd3786\"],[0.5555555555555556,\"#d8576b\"],[0.6666666666666666,\"#ed7953\"],[0.7777777777777778,\"#fb9f3a\"],[0.8888888888888888,\"#fdca26\"],[1.0,\"#f0f921\"]]}],\"choropleth\":[{\"type\":\"choropleth\",\"colorbar\":{\"outlinewidth\":0,\"ticks\":\"\"}}],\"histogram2d\":[{\"type\":\"histogram2d\",\"colorbar\":{\"outlinewidth\":0,\"ticks\":\"\"},\"colorscale\":[[0.0,\"#0d0887\"],[0.1111111111111111,\"#46039f\"],[0.2222222222222222,\"#7201a8\"],[0.3333333333333333,\"#9c179e\"],[0.4444444444444444,\"#bd3786\"],[0.5555555555555556,\"#d8576b\"],[0.6666666666666666,\"#ed7953\"],[0.7777777777777778,\"#fb9f3a\"],[0.8888888888888888,\"#fdca26\"],[1.0,\"#f0f921\"]]}],\"heatmap\":[{\"type\":\"heatmap\",\"colorbar\":{\"outlinewidth\":0,\"ticks\":\"\"},\"colorscale\":[[0.0,\"#0d0887\"],[0.1111111111111111,\"#46039f\"],[0.2222222222222222,\"#7201a8\"],[0.3333333333333333,\"#9c179e\"],[0.4444444444444444,\"#bd3786\"],[0.5555555555555556,\"#d8576b\"],[0.6666666666666666,\"#ed7953\"],[0.7777777777777778,\"#fb9f3a\"],[0.8888888888888888,\"#fdca26\"],[1.0,\"#f0f921\"]]}],\"heatmapgl\":[{\"type\":\"heatmapgl\",\"colorbar\":{\"outlinewidth\":0,\"ticks\":\"\"},\"colorscale\":[[0.0,\"#0d0887\"],[0.1111111111111111,\"#46039f\"],[0.2222222222222222,\"#7201a8\"],[0.3333333333333333,\"#9c179e\"],[0.4444444444444444,\"#bd3786\"],[0.5555555555555556,\"#d8576b\"],[0.6666666666666666,\"#ed7953\"],[0.7777777777777778,\"#fb9f3a\"],[0.8888888888888888,\"#fdca26\"],[1.0,\"#f0f921\"]]}],\"contourcarpet\":[{\"type\":\"contourcarpet\",\"colorbar\":{\"outlinewidth\":0,\"ticks\":\"\"}}],\"contour\":[{\"type\":\"contour\",\"colorbar\":{\"outlinewidth\":0,\"ticks\":\"\"},\"colorscale\":[[0.0,\"#0d0887\"],[0.1111111111111111,\"#46039f\"],[0.2222222222222222,\"#7201a8\"],[0.3333333333333333,\"#9c179e\"],[0.4444444444444444,\"#bd3786\"],[0.5555555555555556,\"#d8576b\"],[0.6666666666666666,\"#ed7953\"],[0.7777777777777778,\"#fb9f3a\"],[0.8888888888888888,\"#fdca26\"],[1.0,\"#f0f921\"]]}],\"surface\":[{\"type\":\"surface\",\"colorbar\":{\"outlinewidth\":0,\"ticks\":\"\"},\"colorscale\":[[0.0,\"#0d0887\"],[0.1111111111111111,\"#46039f\"],[0.2222222222222222,\"#7201a8\"],[0.3333333333333333,\"#9c179e\"],[0.4444444444444444,\"#bd3786\"],[0.5555555555555556,\"#d8576b\"],[0.6666666666666666,\"#ed7953\"],[0.7777777777777778,\"#fb9f3a\"],[0.8888888888888888,\"#fdca26\"],[1.0,\"#f0f921\"]]}],\"mesh3d\":[{\"type\":\"mesh3d\",\"colorbar\":{\"outlinewidth\":0,\"ticks\":\"\"}}],\"scatter\":[{\"fillpattern\":{\"fillmode\":\"overlay\",\"size\":10,\"solidity\":0.2},\"type\":\"scatter\"}],\"parcoords\":[{\"type\":\"parcoords\",\"line\":{\"colorbar\":{\"outlinewidth\":0,\"ticks\":\"\"}}}],\"scatterpolargl\":[{\"type\":\"scatterpolargl\",\"marker\":{\"colorbar\":{\"outlinewidth\":0,\"ticks\":\"\"}}}],\"bar\":[{\"error_x\":{\"color\":\"#2a3f5f\"},\"error_y\":{\"color\":\"#2a3f5f\"},\"marker\":{\"line\":{\"color\":\"#E5ECF6\",\"width\":0.5},\"pattern\":{\"fillmode\":\"overlay\",\"size\":10,\"solidity\":0.2}},\"type\":\"bar\"}],\"scattergeo\":[{\"type\":\"scattergeo\",\"marker\":{\"colorbar\":{\"outlinewidth\":0,\"ticks\":\"\"}}}],\"scatterpolar\":[{\"type\":\"scatterpolar\",\"marker\":{\"colorbar\":{\"outlinewidth\":0,\"ticks\":\"\"}}}],\"histogram\":[{\"marker\":{\"pattern\":{\"fillmode\":\"overlay\",\"size\":10,\"solidity\":0.2}},\"type\":\"histogram\"}],\"scattergl\":[{\"type\":\"scattergl\",\"marker\":{\"colorbar\":{\"outlinewidth\":0,\"ticks\":\"\"}}}],\"scatter3d\":[{\"type\":\"scatter3d\",\"line\":{\"colorbar\":{\"outlinewidth\":0,\"ticks\":\"\"}},\"marker\":{\"colorbar\":{\"outlinewidth\":0,\"ticks\":\"\"}}}],\"scattermapbox\":[{\"type\":\"scattermapbox\",\"marker\":{\"colorbar\":{\"outlinewidth\":0,\"ticks\":\"\"}}}],\"scatterternary\":[{\"type\":\"scatterternary\",\"marker\":{\"colorbar\":{\"outlinewidth\":0,\"ticks\":\"\"}}}],\"scattercarpet\":[{\"type\":\"scattercarpet\",\"marker\":{\"colorbar\":{\"outlinewidth\":0,\"ticks\":\"\"}}}],\"carpet\":[{\"aaxis\":{\"endlinecolor\":\"#2a3f5f\",\"gridcolor\":\"white\",\"linecolor\":\"white\",\"minorgridcolor\":\"white\",\"startlinecolor\":\"#2a3f5f\"},\"baxis\":{\"endlinecolor\":\"#2a3f5f\",\"gridcolor\":\"white\",\"linecolor\":\"white\",\"minorgridcolor\":\"white\",\"startlinecolor\":\"#2a3f5f\"},\"type\":\"carpet\"}],\"table\":[{\"cells\":{\"fill\":{\"color\":\"#EBF0F8\"},\"line\":{\"color\":\"white\"}},\"header\":{\"fill\":{\"color\":\"#C8D4E3\"},\"line\":{\"color\":\"white\"}},\"type\":\"table\"}],\"barpolar\":[{\"marker\":{\"line\":{\"color\":\"#E5ECF6\",\"width\":0.5},\"pattern\":{\"fillmode\":\"overlay\",\"size\":10,\"solidity\":0.2}},\"type\":\"barpolar\"}],\"pie\":[{\"automargin\":true,\"type\":\"pie\"}]},\"layout\":{\"autotypenumbers\":\"strict\",\"colorway\":[\"#636efa\",\"#EF553B\",\"#00cc96\",\"#ab63fa\",\"#FFA15A\",\"#19d3f3\",\"#FF6692\",\"#B6E880\",\"#FF97FF\",\"#FECB52\"],\"font\":{\"color\":\"#2a3f5f\"},\"hovermode\":\"closest\",\"hoverlabel\":{\"align\":\"left\"},\"paper_bgcolor\":\"white\",\"plot_bgcolor\":\"#E5ECF6\",\"polar\":{\"bgcolor\":\"#E5ECF6\",\"angularaxis\":{\"gridcolor\":\"white\",\"linecolor\":\"white\",\"ticks\":\"\"},\"radialaxis\":{\"gridcolor\":\"white\",\"linecolor\":\"white\",\"ticks\":\"\"}},\"ternary\":{\"bgcolor\":\"#E5ECF6\",\"aaxis\":{\"gridcolor\":\"white\",\"linecolor\":\"white\",\"ticks\":\"\"},\"baxis\":{\"gridcolor\":\"white\",\"linecolor\":\"white\",\"ticks\":\"\"},\"caxis\":{\"gridcolor\":\"white\",\"linecolor\":\"white\",\"ticks\":\"\"}},\"coloraxis\":{\"colorbar\":{\"outlinewidth\":0,\"ticks\":\"\"}},\"colorscale\":{\"sequential\":[[0.0,\"#0d0887\"],[0.1111111111111111,\"#46039f\"],[0.2222222222222222,\"#7201a8\"],[0.3333333333333333,\"#9c179e\"],[0.4444444444444444,\"#bd3786\"],[0.5555555555555556,\"#d8576b\"],[0.6666666666666666,\"#ed7953\"],[0.7777777777777778,\"#fb9f3a\"],[0.8888888888888888,\"#fdca26\"],[1.0,\"#f0f921\"]],\"sequentialminus\":[[0.0,\"#0d0887\"],[0.1111111111111111,\"#46039f\"],[0.2222222222222222,\"#7201a8\"],[0.3333333333333333,\"#9c179e\"],[0.4444444444444444,\"#bd3786\"],[0.5555555555555556,\"#d8576b\"],[0.6666666666666666,\"#ed7953\"],[0.7777777777777778,\"#fb9f3a\"],[0.8888888888888888,\"#fdca26\"],[1.0,\"#f0f921\"]],\"diverging\":[[0,\"#8e0152\"],[0.1,\"#c51b7d\"],[0.2,\"#de77ae\"],[0.3,\"#f1b6da\"],[0.4,\"#fde0ef\"],[0.5,\"#f7f7f7\"],[0.6,\"#e6f5d0\"],[0.7,\"#b8e186\"],[0.8,\"#7fbc41\"],[0.9,\"#4d9221\"],[1,\"#276419\"]]},\"xaxis\":{\"gridcolor\":\"white\",\"linecolor\":\"white\",\"ticks\":\"\",\"title\":{\"standoff\":15},\"zerolinecolor\":\"white\",\"automargin\":true,\"zerolinewidth\":2},\"yaxis\":{\"gridcolor\":\"white\",\"linecolor\":\"white\",\"ticks\":\"\",\"title\":{\"standoff\":15},\"zerolinecolor\":\"white\",\"automargin\":true,\"zerolinewidth\":2},\"scene\":{\"xaxis\":{\"backgroundcolor\":\"#E5ECF6\",\"gridcolor\":\"white\",\"linecolor\":\"white\",\"showbackground\":true,\"ticks\":\"\",\"zerolinecolor\":\"white\",\"gridwidth\":2},\"yaxis\":{\"backgroundcolor\":\"#E5ECF6\",\"gridcolor\":\"white\",\"linecolor\":\"white\",\"showbackground\":true,\"ticks\":\"\",\"zerolinecolor\":\"white\",\"gridwidth\":2},\"zaxis\":{\"backgroundcolor\":\"#E5ECF6\",\"gridcolor\":\"white\",\"linecolor\":\"white\",\"showbackground\":true,\"ticks\":\"\",\"zerolinecolor\":\"white\",\"gridwidth\":2}},\"shapedefaults\":{\"line\":{\"color\":\"#2a3f5f\"}},\"annotationdefaults\":{\"arrowcolor\":\"#2a3f5f\",\"arrowhead\":0,\"arrowwidth\":1},\"geo\":{\"bgcolor\":\"white\",\"landcolor\":\"#E5ECF6\",\"subunitcolor\":\"white\",\"showland\":true,\"showlakes\":true,\"lakecolor\":\"white\"},\"title\":{\"x\":0.05},\"mapbox\":{\"style\":\"light\"}}},\"scene\":{\"domain\":{\"x\":[0.0,1.0],\"y\":[0.0,1.0]},\"xaxis\":{\"title\":{\"text\":\"X\"},\"range\":[-8.015033721923828,-1.5465190410614014]},\"yaxis\":{\"title\":{\"text\":\"Y\"},\"range\":[-5.361608505249023,7.116098880767822]},\"zaxis\":{\"title\":{\"text\":\"Z\"},\"range\":[-8.478615760803223,3.5717341899871826]}},\"legend\":{\"title\":{\"text\":\"Y\"},\"tracegroupgap\":0,\"itemsizing\":\"constant\"},\"title\":{\"text\":\"Grafico 3D con colori basati sull'etichetta 'Y'\"}},                        {\"responsive\": true}                    ).then(function(){\n",
       "                            \n",
       "var gd = document.getElementById('27336d79-1f0b-4dcf-a2aa-89a8fa3b0792');\n",
       "var x = new MutationObserver(function (mutations, observer) {{\n",
       "        var display = window.getComputedStyle(gd).display;\n",
       "        if (!display || display === 'none') {{\n",
       "            console.log([gd, 'removed!']);\n",
       "            Plotly.purge(gd);\n",
       "            observer.disconnect();\n",
       "        }}\n",
       "}});\n",
       "\n",
       "// Listen for the removal of the full notebook cells\n",
       "var notebookContainer = gd.closest('#notebook-container');\n",
       "if (notebookContainer) {{\n",
       "    x.observe(notebookContainer, {childList: true});\n",
       "}}\n",
       "\n",
       "// Listen for the clearing of the current output cell\n",
       "var outputEl = gd.closest('.output');\n",
       "if (outputEl) {{\n",
       "    x.observe(outputEl, {childList: true});\n",
       "}}\n",
       "\n",
       "                        })                };                });            </script>        </div>"
      ]
     },
     "metadata": {},
     "output_type": "display_data"
    }
   ],
   "source": [
    "dimensione_punti = 3  # Diminuire per avere punti più piccoli\n",
    "fig = px.scatter_3d(\n",
    "    df,\n",
    "    x='x',\n",
    "    y='y',\n",
    "    z='z',\n",
    "    text='Y',\n",
    "    color='Y',  # Colora i punti in base alla colonna 'Y'\n",
    "    title=\"Grafico 3D con colori basati sull'etichetta 'Y'\",\n",
    "    labels={'x': 'Asse X', 'y': 'Asse Y', 'z': 'Asse Z'},\n",
    "    size=[dimensione_punti] * len(x_coords),  # Dimensione uniforme\n",
    "    size_max=10,  # Dimensione massima dei punti\n",
    "    opacity=0.7  # Controlla la trasparenza dei punti\n",
    ")\n",
    "\n",
    "# Riduci la dimensione del testo\n",
    "fig.update_traces(textfont=dict(size=5))  # Riduci la dimensione delle etichette di testo\n",
    "\n",
    "# Regola i limiti degli assi per evitare compressione\n",
    "fig.update_layout(\n",
    "    scene=dict(\n",
    "        xaxis=dict(title='X', range=[min(x_coords), max(x_coords)]),\n",
    "        yaxis=dict(title='Y', range=[min(y_coords), max(y_coords)]),\n",
    "        zaxis=dict(title='Z', range=[min(z_coords), max(z_coords)]),\n",
    "    )\n",
    ")\n",
    "\n",
    "# Mostra il grafico interattivo\n",
    "fig.show()\n"
   ]
  },
  {
   "cell_type": "markdown",
   "id": "f4eb1a5a",
   "metadata": {},
   "source": [
    "Proviamo a trainare un modello supervised!"
   ]
  },
  {
   "cell_type": "code",
   "execution_count": 88,
   "id": "ecf2ba6e",
   "metadata": {},
   "outputs": [
    {
     "name": "stdout",
     "output_type": "stream",
     "text": [
      "Accuratezza: 0.34615384615384615\n",
      "Rapporto di classificazione:\n",
      "              precision    recall  f1-score   support\n",
      "\n",
      "           0       0.00      0.00      0.00         3\n",
      "           1       0.00      0.00      0.00         2\n",
      "           2       0.00      0.00      0.00         6\n",
      "           3       0.38      1.00      0.55         9\n",
      "           4       0.00      0.00      0.00         6\n",
      "\n",
      "    accuracy                           0.35        26\n",
      "   macro avg       0.07      0.20      0.11        26\n",
      "weighted avg       0.13      0.35      0.19        26\n",
      "\n"
     ]
    },
    {
     "name": "stderr",
     "output_type": "stream",
     "text": [
      "C:\\Users\\enduser\\anaconda3\\lib\\site-packages\\sklearn\\neural_network\\_multilayer_perceptron.py:692: ConvergenceWarning:\n",
      "\n",
      "Stochastic Optimizer: Maximum iterations (500) reached and the optimization hasn't converged yet.\n",
      "\n",
      "C:\\Users\\enduser\\anaconda3\\lib\\site-packages\\sklearn\\metrics\\_classification.py:1318: UndefinedMetricWarning:\n",
      "\n",
      "Precision and F-score are ill-defined and being set to 0.0 in labels with no predicted samples. Use `zero_division` parameter to control this behavior.\n",
      "\n",
      "C:\\Users\\enduser\\anaconda3\\lib\\site-packages\\sklearn\\metrics\\_classification.py:1318: UndefinedMetricWarning:\n",
      "\n",
      "Precision and F-score are ill-defined and being set to 0.0 in labels with no predicted samples. Use `zero_division` parameter to control this behavior.\n",
      "\n",
      "C:\\Users\\enduser\\anaconda3\\lib\\site-packages\\sklearn\\metrics\\_classification.py:1318: UndefinedMetricWarning:\n",
      "\n",
      "Precision and F-score are ill-defined and being set to 0.0 in labels with no predicted samples. Use `zero_division` parameter to control this behavior.\n",
      "\n"
     ]
    }
   ],
   "source": [
    "from sklearn.model_selection import train_test_split\n",
    "from sklearn.neural_network import MLPClassifier\n",
    "from sklearn.preprocessing import LabelEncoder\n",
    "from sklearn.metrics import accuracy_score, classification_report\n",
    "\n",
    "# Separiamo le caratteristiche (X) e le etichette (y)\n",
    "X = df[['x', 'y', 'z']]  # Caratteristiche\n",
    "y = df['Y']  # Etichette\n",
    "\n",
    "# Usa LabelEncoder per codificare le etichette come numeri\n",
    "le = LabelEncoder()\n",
    "y_encoded = le.fit_transform(y)\n",
    "\n",
    "# Dividiamo i dati in set di allenamento e test\n",
    "X_train, X_test, y_train, y_test = train_test_split(X, y_encoded, test_size=0.3, random_state=42)\n",
    "\n",
    "# Crea il modello MLP con un solo strato nascosto e qualche configurazione di base\n",
    "mlp = MLPClassifier(hidden_layer_sizes=(10,), max_iter=500, activation='relu', solver='adam', random_state=42)\n",
    "\n",
    "# Addestra il modello con il set di allenamento\n",
    "mlp.fit(X_train, y_train)\n",
    "\n",
    "# Fai previsioni con il set di test\n",
    "y_pred = mlp.predict(X_test)\n",
    "\n",
    "# Valuta l'accuratezza del modello\n",
    "accuracy = accuracy_score(y_test, y_pred)\n",
    "\n",
    "print(\"Accuratezza:\", accuracy)\n",
    "\n",
    "# Stampa il rapporto di classificazione per maggiori dettagli\n",
    "print(\"Rapporto di classificazione:\")\n",
    "print(classification_report(y_test, y_pred))"
   ]
  },
  {
   "cell_type": "code",
   "execution_count": 90,
   "id": "cccac7a8",
   "metadata": {},
   "outputs": [
    {
     "data": {
      "text/plain": [
       "array([3, 3, 3, 3, 3, 3, 3, 3, 3, 3, 3, 3, 3, 3, 0, 3, 3, 3, 3, 3, 3, 3,\n",
       "       3, 2, 3, 3])"
      ]
     },
     "execution_count": 90,
     "metadata": {},
     "output_type": "execute_result"
    }
   ],
   "source": [
    "y_pred"
   ]
  },
  {
   "cell_type": "code",
   "execution_count": null,
   "id": "124bf40d",
   "metadata": {},
   "outputs": [],
   "source": []
  }
 ],
 "metadata": {
  "kernelspec": {
   "display_name": "Python 3 (ipykernel)",
   "language": "python",
   "name": "python3"
  },
  "language_info": {
   "codemirror_mode": {
    "name": "ipython",
    "version": 3
   },
   "file_extension": ".py",
   "mimetype": "text/x-python",
   "name": "python",
   "nbconvert_exporter": "python",
   "pygments_lexer": "ipython3",
   "version": "3.9.13"
  }
 },
 "nbformat": 4,
 "nbformat_minor": 5
}
