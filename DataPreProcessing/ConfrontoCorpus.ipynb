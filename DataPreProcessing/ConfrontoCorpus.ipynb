{
 "cells": [
  {
   "cell_type": "markdown",
   "id": "c1158c55",
   "metadata": {},
   "source": [
    "Voglio qua vedere le differenze (di lunghezza), vedere se tutto torna ecc, fra il corpus filtrato con la lista creata da me nel file TextImport e la lista di nltk stop words del file TextImportParoleInutili"
   ]
  },
  {
   "cell_type": "code",
   "execution_count": 1,
   "id": "39ab791f",
   "metadata": {},
   "outputs": [],
   "source": [
    "import pickle"
   ]
  },
  {
   "cell_type": "code",
   "execution_count": 2,
   "id": "691f1e17",
   "metadata": {},
   "outputs": [],
   "source": [
    "with open('corpus_filtrato15_11.pkl', 'rb') as file:\n",
    "    # Carica i dati dal file\n",
    "    corpus_filtrato = pickle.load(file) # corpus filtrato è il corpus senza le parole inutili"
   ]
  },
  {
   "cell_type": "code",
   "execution_count": 3,
   "id": "1158a38a",
   "metadata": {},
   "outputs": [],
   "source": [
    "with open('corpusParoleInutili.pkl', 'rb') as file:\n",
    "    # Carica i dati dal file\n",
    "    corpus_filtratonltk = pickle.load(file) # corpus filtrato è il corpus senza le parole inutili"
   ]
  },
  {
   "cell_type": "code",
   "execution_count": 4,
   "id": "225e197b",
   "metadata": {},
   "outputs": [],
   "source": [
    "with open('corpusParoleInutiliStemming.pkl', 'rb') as file:\n",
    "    # Carica i dati dal file\n",
    "    corpus_filtratonltkstemming = pickle.load(file) # corpus filtrato è il corpus senza le parole inutili"
   ]
  },
  {
   "cell_type": "code",
   "execution_count": 5,
   "id": "7abeb915",
   "metadata": {},
   "outputs": [
    {
     "data": {
      "text/plain": [
       "81"
      ]
     },
     "execution_count": 5,
     "metadata": {},
     "output_type": "execute_result"
    }
   ],
   "source": [
    "corpus_filtrato\n",
    "len(corpus_filtrato[192])\n"
   ]
  },
  {
   "cell_type": "code",
   "execution_count": 12,
   "id": "b2a491ee",
   "metadata": {},
   "outputs": [
    {
     "data": {
      "text/plain": [
       "608"
      ]
     },
     "execution_count": 12,
     "metadata": {},
     "output_type": "execute_result"
    }
   ],
   "source": [
    "corpus_filtratonltk\n",
    "len(corpus_filtratonltk[1])"
   ]
  },
  {
   "cell_type": "code",
   "execution_count": 13,
   "id": "82f0387a",
   "metadata": {},
   "outputs": [
    {
     "data": {
      "text/plain": [
       "608"
      ]
     },
     "execution_count": 13,
     "metadata": {},
     "output_type": "execute_result"
    }
   ],
   "source": [
    "corpus_filtratonltkstemming\n",
    "len(corpus_filtratonltkstemming[1])"
   ]
  }
 ],
 "metadata": {
  "kernelspec": {
   "display_name": "Python 3 (ipykernel)",
   "language": "python",
   "name": "python3"
  },
  "language_info": {
   "codemirror_mode": {
    "name": "ipython",
    "version": 3
   },
   "file_extension": ".py",
   "mimetype": "text/x-python",
   "name": "python",
   "nbconvert_exporter": "python",
   "pygments_lexer": "ipython3",
   "version": "3.9.13"
  }
 },
 "nbformat": 4,
 "nbformat_minor": 5
}
