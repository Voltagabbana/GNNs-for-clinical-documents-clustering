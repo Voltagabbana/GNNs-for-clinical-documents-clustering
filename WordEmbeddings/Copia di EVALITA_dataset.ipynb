{
 "cells": [
  {
   "cell_type": "markdown",
   "metadata": {
    "id": "yjs-ve82LuB5"
   },
   "source": [
    "# IMPORTS"
   ]
  },
  {
   "cell_type": "code",
   "execution_count": 1,
   "metadata": {
    "colab": {
     "base_uri": "https://localhost:8080/"
    },
    "executionInfo": {
     "elapsed": 24258,
     "status": "ok",
     "timestamp": 1698137076612,
     "user": {
      "displayName": "Gabriele Moro",
      "userId": "01087929521282944952"
     },
     "user_tz": -120
    },
    "id": "UfQ9Z_5DLglo",
    "outputId": "1d1e165a-b592-4fa6-ff4e-2db199ea6562"
   },
   "outputs": [
    {
     "name": "stderr",
     "output_type": "stream",
     "text": [
      "Cloning into 'E3C-Corpus'...\n",
      "Updating files:   0% (359/51356)\n",
      "Updating files:   1% (514/51356)\n",
      "Updating files:   1% (801/51356)\n",
      "Updating files:   2% (1028/51356)\n",
      "Updating files:   2% (1290/51356)\n",
      "Updating files:   3% (1541/51356)\n",
      "Updating files:   3% (1950/51356)\n",
      "Updating files:   4% (2055/51356)\n",
      "Updating files:   5% (2568/51356)\n",
      "Updating files:   5% (2650/51356)\n",
      "Updating files:   6% (3082/51356)\n",
      "Updating files:   6% (3320/51356)\n",
      "Updating files:   7% (3595/51356)\n",
      "Updating files:   7% (4065/51356)\n",
      "Updating files:   8% (4109/51356)\n",
      "Updating files:   9% (4623/51356)\n",
      "Updating files:   9% (4729/51356)\n",
      "Updating files:  10% (5136/51356)\n",
      "Updating files:  10% (5377/51356)\n",
      "Updating files:  11% (5650/51356)\n",
      "Updating files:  11% (6023/51356)\n",
      "Updating files:  12% (6163/51356)\n",
      "Updating files:  12% (6659/51356)\n",
      "Updating files:  13% (6677/51356)\n",
      "Updating files:  14% (7190/51356)\n",
      "Updating files:  14% (7332/51356)\n",
      "Updating files:  15% (7704/51356)\n",
      "Updating files:  15% (7970/51356)\n",
      "Updating files:  16% (8217/51356)\n",
      "Updating files:  16% (8673/51356)\n",
      "Updating files:  17% (8731/51356)\n",
      "Updating files:  18% (9245/51356)\n",
      "Updating files:  18% (9338/51356)\n",
      "Updating files:  19% (9758/51356)\n",
      "Updating files:  19% (10038/51356)\n",
      "Updating files:  20% (10272/51356)\n",
      "Updating files:  20% (10707/51356)\n",
      "Updating files:  21% (10785/51356)\n",
      "Updating files:  22% (11299/51356)\n",
      "Updating files:  22% (11369/51356)\n",
      "Updating files:  23% (11812/51356)\n",
      "Updating files:  23% (12028/51356)\n",
      "Updating files:  24% (12326/51356)\n",
      "Updating files:  24% (12721/51356)\n",
      "Updating files:  25% (12839/51356)\n",
      "Updating files:  26% (13353/51356)\n",
      "Updating files:  26% (13368/51356)\n",
      "Updating files:  27% (13867/51356)\n",
      "Updating files:  27% (13966/51356)\n",
      "Updating files:  28% (14380/51356)\n",
      "Updating files:  28% (14506/51356)\n",
      "Updating files:  29% (14894/51356)\n",
      "Updating files:  29% (15048/51356)\n",
      "Updating files:  30% (15407/51356)\n",
      "Updating files:  30% (15552/51356)\n",
      "Updating files:  31% (15921/51356)\n",
      "Updating files:  31% (16072/51356)\n",
      "Updating files:  32% (16434/51356)\n",
      "Updating files:  32% (16594/51356)\n",
      "Updating files:  33% (16948/51356)\n",
      "Updating files:  33% (17090/51356)\n",
      "Updating files:  34% (17462/51356)\n",
      "Updating files:  34% (17587/51356)\n",
      "Updating files:  35% (17975/51356)\n",
      "Updating files:  35% (18078/51356)\n",
      "Updating files:  36% (18489/51356)\n",
      "Updating files:  36% (18587/51356)\n",
      "Updating files:  37% (19002/51356)\n",
      "Updating files:  37% (19104/51356)\n",
      "Updating files:  38% (19516/51356)\n",
      "Updating files:  38% (19628/51356)\n",
      "Updating files:  39% (20029/51356)\n",
      "Updating files:  39% (20165/51356)\n",
      "Updating files:  40% (20543/51356)\n",
      "Updating files:  40% (20701/51356)\n",
      "Updating files:  41% (21056/51356)\n",
      "Updating files:  41% (21217/51356)\n",
      "Updating files:  42% (21570/51356)\n",
      "Updating files:  42% (21760/51356)\n",
      "Updating files:  43% (22084/51356)\n",
      "Updating files:  43% (22291/51356)\n",
      "Updating files:  44% (22597/51356)\n",
      "Updating files:  44% (22813/51356)\n",
      "Updating files:  45% (23111/51356)\n",
      "Updating files:  45% (23317/51356)\n",
      "Updating files:  46% (23624/51356)\n",
      "Updating files:  46% (23847/51356)\n",
      "Updating files:  47% (24138/51356)\n",
      "Updating files:  47% (24376/51356)\n",
      "Updating files:  48% (24651/51356)\n",
      "Updating files:  48% (24853/51356)\n",
      "Updating files:  49% (25165/51356)\n",
      "Updating files:  49% (25363/51356)\n",
      "Updating files:  50% (25678/51356)\n",
      "Updating files:  50% (25920/51356)\n",
      "Updating files:  51% (26192/51356)\n",
      "Updating files:  51% (26614/51356)\n",
      "Updating files:  52% (26706/51356)\n",
      "Updating files:  52% (27157/51356)\n",
      "Updating files:  53% (27219/51356)\n",
      "Updating files:  53% (27714/51356)\n",
      "Updating files:  54% (27733/51356)\n",
      "Updating files:  55% (28246/51356)\n",
      "Updating files:  55% (28258/51356)\n",
      "Updating files:  56% (28760/51356)\n",
      "Updating files:  56% (28801/51356)\n",
      "Updating files:  57% (29273/51356)\n",
      "Updating files:  57% (29319/51356)\n",
      "Updating files:  58% (29787/51356)\n",
      "Updating files:  58% (29854/51356)\n",
      "Updating files:  59% (30301/51356)\n",
      "Updating files:  59% (30395/51356)\n",
      "Updating files:  60% (30814/51356)\n",
      "Updating files:  60% (30908/51356)\n",
      "Updating files:  61% (31328/51356)\n",
      "Updating files:  61% (31443/51356)\n",
      "Updating files:  62% (31841/51356)\n",
      "Updating files:  62% (31986/51356)\n",
      "Updating files:  63% (32355/51356)\n",
      "Updating files:  63% (32535/51356)\n",
      "Updating files:  64% (32868/51356)\n",
      "Updating files:  64% (33052/51356)\n",
      "Updating files:  65% (33382/51356)\n",
      "Updating files:  65% (33575/51356)\n",
      "Updating files:  66% (33895/51356)\n",
      "Updating files:  66% (34097/51356)\n",
      "Updating files:  67% (34409/51356)\n",
      "Updating files:  67% (34619/51356)\n",
      "Updating files:  68% (34923/51356)\n",
      "Updating files:  68% (35231/51356)\n",
      "Updating files:  69% (35436/51356)\n",
      "Updating files:  69% (35829/51356)\n",
      "Updating files:  70% (35950/51356)\n",
      "Updating files:  70% (36420/51356)\n",
      "Updating files:  71% (36463/51356)\n",
      "Updating files:  72% (36977/51356)\n",
      "Updating files:  72% (36997/51356)\n",
      "Updating files:  73% (37490/51356)\n",
      "Updating files:  73% (37607/51356)\n",
      "Updating files:  74% (38004/51356)\n",
      "Updating files:  74% (38220/51356)\n",
      "Updating files:  75% (38517/51356)\n",
      "Updating files:  75% (38884/51356)\n",
      "Updating files:  76% (39031/51356)\n",
      "Updating files:  77% (39545/51356)\n",
      "Updating files:  77% (39576/51356)\n",
      "Updating files:  78% (40058/51356)\n",
      "Updating files:  78% (40253/51356)\n",
      "Updating files:  79% (40572/51356)\n",
      "Updating files:  79% (40977/51356)\n",
      "Updating files:  80% (41085/51356)\n",
      "Updating files:  80% (41561/51356)\n",
      "Updating files:  81% (41599/51356)\n",
      "Updating files:  82% (42112/51356)\n",
      "Updating files:  82% (42118/51356)\n",
      "Updating files:  83% (42626/51356)\n",
      "Updating files:  83% (42669/51356)\n",
      "Updating files:  84% (43140/51356)\n",
      "Updating files:  84% (43253/51356)\n",
      "Updating files:  85% (43653/51356)\n",
      "Updating files:  85% (43815/51356)\n",
      "Updating files:  86% (44167/51356)\n",
      "Updating files:  86% (44366/51356)\n",
      "Updating files:  87% (44680/51356)\n",
      "Updating files:  87% (44935/51356)\n",
      "Updating files:  88% (45194/51356)\n",
      "Updating files:  88% (45479/51356)\n",
      "Updating files:  89% (45707/51356)\n",
      "Updating files:  89% (46012/51356)\n",
      "Updating files:  90% (46221/51356)\n",
      "Updating files:  90% (46546/51356)\n",
      "Updating files:  91% (46734/51356)\n",
      "Updating files:  91% (47069/51356)\n",
      "Updating files:  92% (47248/51356)\n",
      "Updating files:  92% (47577/51356)\n",
      "Updating files:  93% (47762/51356)\n",
      "Updating files:  93% (48136/51356)\n",
      "Updating files:  94% (48275/51356)\n",
      "Updating files:  94% (48671/51356)\n",
      "Updating files:  95% (48789/51356)\n",
      "Updating files:  95% (49213/51356)\n",
      "Updating files:  96% (49302/51356)\n",
      "Updating files:  97% (49816/51356)\n",
      "Updating files:  97% (49855/51356)\n",
      "Updating files:  98% (50329/51356)\n",
      "Updating files:  98% (50500/51356)\n",
      "Updating files:  99% (50843/51356)\n",
      "Updating files:  99% (51121/51356)\n",
      "Updating files: 100% (51356/51356)\n",
      "Updating files: 100% (51356/51356), done.\n"
     ]
    }
   ],
   "source": [
    "!git clone https://github.com/hltfbk/E3C-Corpus.git"
   ]
  },
  {
   "cell_type": "code",
   "execution_count": 4,
   "metadata": {
    "executionInfo": {
     "elapsed": 565,
     "status": "ok",
     "timestamp": 1698137052360,
     "user": {
      "displayName": "Gabriele Moro",
      "userId": "01087929521282944952"
     },
     "user_tz": -120
    },
    "id": "DKmPXgFtLv3e"
   },
   "outputs": [],
   "source": [
    "import json\n",
    "import pandas as pd\n",
    "import os"
   ]
  },
  {
   "cell_type": "code",
   "execution_count": 5,
   "metadata": {
    "executionInfo": {
     "elapsed": 12,
     "status": "ok",
     "timestamp": 1698137076613,
     "user": {
      "displayName": "Gabriele Moro",
      "userId": "01087929521282944952"
     },
     "user_tz": -120
    },
    "id": "Q0--IksGNzAO"
   },
   "outputs": [],
   "source": [
    "from tqdm.notebook import tqdm"
   ]
  },
  {
   "cell_type": "markdown",
   "metadata": {
    "id": "PniHONjjMiId"
   },
   "source": [
    "# DATA LOADING"
   ]
  },
  {
   "cell_type": "markdown",
   "metadata": {
    "id": "TZnf0UWvT5Yi"
   },
   "source": [
    "# TEXT"
   ]
  },
  {
   "cell_type": "code",
   "execution_count": 19,
   "metadata": {},
   "outputs": [
    {
     "name": "stdout",
     "output_type": "stream",
     "text": [
      "C:\\Users\\enduser\\OneDrive - Politecnico di Milano\\Ingegneria matematica\\Tesi\\ProveDiCodice\n"
     ]
    }
   ],
   "source": [
    "cd C:\\Users\\enduser\\OneDrive - Politecnico di Milano\\Ingegneria matematica\\Tesi\\ProveDiCodice"
   ]
  },
  {
   "cell_type": "code",
   "execution_count": 13,
   "metadata": {},
   "outputs": [
    {
     "name": "stdout",
     "output_type": "stream",
     "text": [
      "Copia di EVALITA_dataset.ipynb\n",
      "E3C-Corpus\n",
      "Landolfi_tutorial.pdf\n",
      "ProvaTesto.txt\n",
      "ProvaWord2vecGensim.ipynb\n",
      "TutorialAntonioLonghi\n",
      "Word2VecRitvikMath.ipynb\n",
      "Word2VecRitvikMathVersioneOriginale.ipynb\n",
      "download.png\n",
      "word2vec_model\n"
     ]
    }
   ],
   "source": [
    "!ls"
   ]
  },
  {
   "cell_type": "code",
   "execution_count": 16,
   "metadata": {},
   "outputs": [
    {
     "name": "stdout",
     "output_type": "stream",
     "text": [
      "C:\\Users\\enduser\\OneDrive - Politecnico di Milano\\Ingegneria matematica\\Tesi\\ProveDiCodice\\E3C-Corpus\\data_collection\\Italian\\layer3\n"
     ]
    }
   ],
   "source": [
    "#cd E3C-Corpus\\data_collection\\Italian\\layer3       NO"
   ]
  },
  {
   "cell_type": "code",
   "execution_count": 23,
   "metadata": {},
   "outputs": [],
   "source": [
    "DIR = \"E3C-Corpus/data_collection/Italian/layer3\"\n",
    "\n",
    "# Elenco dei file nella directory\n",
    "data_files = os.listdir(data_directory)"
   ]
  },
  {
   "cell_type": "code",
   "execution_count": 25,
   "metadata": {},
   "outputs": [
    {
     "data": {
      "text/plain": [
       "10213"
      ]
     },
     "execution_count": 25,
     "metadata": {},
     "output_type": "execute_result"
    }
   ],
   "source": [
    "len(data_files)"
   ]
  },
  {
   "cell_type": "markdown",
   "metadata": {},
   "source": [
    "NB: IL CODICE è MODIFICATO DA VITTORIO, QUESTO CREA LIEVI MODIFICHE"
   ]
  },
  {
   "cell_type": "code",
   "execution_count": 32,
   "metadata": {},
   "outputs": [
    {
     "data": {
      "application/vnd.jupyter.widget-view+json": {
       "model_id": "9f26a081d61c4bc09e3d864e8a552053",
       "version_major": 2,
       "version_minor": 0
      },
      "text/plain": [
       "  0%|          | 0/10213 [00:00<?, ?it/s]"
      ]
     },
     "metadata": {},
     "output_type": "display_data"
    }
   ],
   "source": [
    "dfs = []\n",
    "for filename in tqdm(os.listdir(DIR)):\n",
    "    authors_string = False\n",
    "    authors_dict = False\n",
    "    f = os.path.join(DIR, filename)\n",
    "    if os.path.isfile(f):\n",
    "      with open(f, 'r', encoding='utf-8') as fp: # QUESTA è LA RIGA MODIFICATA, VEDI CODICE ORIGINALE VITTORIO PER CAPIRE, QUESTA MODIFICA è STATA NECESSARIA ALTRIMENTI MI DAVA ERRORE (SU COLLAB NO)\n",
    "        d = json.load(fp)\n",
    "      if d['authors'] == []:\n",
    "        d['authors'] = ''\n",
    "        i = [0]\n",
    "      elif isinstance(d['authors'], str): #for some Spanish documents (es ES102568.json)\n",
    "        authors_string = True\n",
    "        i = [0]\n",
    "      elif isinstance(d['authors'], dict): #for Basque\n",
    "        authors_dict = True\n",
    "        i = [0]\n",
    "      else:\n",
    "        i = list(range(len(d['authors'])))\n",
    "      data = pd.DataFrame(d, index=i)\n",
    "      if d['authors'] != '':\n",
    "        try:\n",
    "          data.authors = pd.DataFrame(data.authors.values.tolist())['author']\n",
    "        except: #spanish has different format\n",
    "          if authors_dict:\n",
    "            data.authors = d['authors']['author']\n",
    "          elif not authors_string:\n",
    "            data.authors = pd.DataFrame(data.authors.values.tolist())[1]\n",
    "        cols = list(data.columns) # columns are different in different languages\n",
    "        cols.remove('authors')\n",
    "        data = data.groupby(cols)['authors'].apply(','.join).reset_index()\n",
    "      dfs.append(data) # append the data frame to the list\n",
    "df = pd.concat(dfs, ignore_index=True, axis=0) # concatenate all the data frames in the list."
   ]
  },
  {
   "cell_type": "code",
   "execution_count": 33,
   "metadata": {
    "colab": {
     "base_uri": "https://localhost:8080/",
     "height": 964
    },
    "executionInfo": {
     "elapsed": 246,
     "status": "ok",
     "timestamp": 1698137183577,
     "user": {
      "displayName": "Gabriele Moro",
      "userId": "01087929521282944952"
     },
     "user_tz": -120
    },
    "id": "PV7WKdP3Yi6s",
    "outputId": "9e9236be-ac10-468c-b082-44d02d8652b3"
   },
   "outputs": [
    {
     "data": {
      "text/html": [
       "<div>\n",
       "<style scoped>\n",
       "    .dataframe tbody tr th:only-of-type {\n",
       "        vertical-align: middle;\n",
       "    }\n",
       "\n",
       "    .dataframe tbody tr th {\n",
       "        vertical-align: top;\n",
       "    }\n",
       "\n",
       "    .dataframe thead th {\n",
       "        text-align: right;\n",
       "    }\n",
       "</style>\n",
       "<table border=\"1\" class=\"dataframe\">\n",
       "  <thead>\n",
       "    <tr style=\"text-align: right;\">\n",
       "      <th></th>\n",
       "      <th>doi</th>\n",
       "      <th>publication_date</th>\n",
       "      <th>id</th>\n",
       "      <th>url</th>\n",
       "      <th>source</th>\n",
       "      <th>source_url</th>\n",
       "      <th>licence</th>\n",
       "      <th>language</th>\n",
       "      <th>type</th>\n",
       "      <th>description</th>\n",
       "      <th>text</th>\n",
       "      <th>authors</th>\n",
       "    </tr>\n",
       "  </thead>\n",
       "  <tbody>\n",
       "    <tr>\n",
       "      <th>0</th>\n",
       "      <td>https://doi.org/10.1177/039493620802001-201</td>\n",
       "      <td>2008-MM-DD</td>\n",
       "      <td>IT102074</td>\n",
       "      <td>https://journals.aboutscience.eu/index.php/gcn...</td>\n",
       "      <td>GCND Giornale di Clinica Nefrologica e Dialisi</td>\n",
       "      <td>https://journals.aboutscience.eu/index.php/gcnd</td>\n",
       "      <td>CC-BY-NC</td>\n",
       "      <td>it</td>\n",
       "      <td>journal</td>\n",
       "      <td></td>\n",
       "      <td>C.C. iniziava a fare dialisi all’età di 17 ann...</td>\n",
       "      <td>M. Pegoraro</td>\n",
       "    </tr>\n",
       "    <tr>\n",
       "      <th>1</th>\n",
       "      <td>https://doi.org/10.1177/039493620802001-201</td>\n",
       "      <td>2008-MM-DD</td>\n",
       "      <td>IT102075</td>\n",
       "      <td>https://journals.aboutscience.eu/index.php/gcn...</td>\n",
       "      <td>GCND Giornale di Clinica Nefrologica e Dialisi</td>\n",
       "      <td>https://journals.aboutscience.eu/index.php/gcnd</td>\n",
       "      <td>CC-BY-NC</td>\n",
       "      <td>it</td>\n",
       "      <td>journal</td>\n",
       "      <td></td>\n",
       "      <td>I.Z. è un giovane di 22 anni. Pochi giorni pri...</td>\n",
       "      <td>M. Pegoraro</td>\n",
       "    </tr>\n",
       "    <tr>\n",
       "      <th>2</th>\n",
       "      <td>https://doi.org/10.1177/039493620802001-201</td>\n",
       "      <td>2008-MM-DD</td>\n",
       "      <td>IT102076</td>\n",
       "      <td>https://journals.aboutscience.eu/index.php/gcn...</td>\n",
       "      <td>GCND Giornale di Clinica Nefrologica e Dialisi</td>\n",
       "      <td>https://journals.aboutscience.eu/index.php/gcnd</td>\n",
       "      <td>CC-BY-NC</td>\n",
       "      <td>it</td>\n",
       "      <td>journal</td>\n",
       "      <td></td>\n",
       "      <td>Nel giugno 2007 presso la Struttura Complessa ...</td>\n",
       "      <td>F. Cavatorta</td>\n",
       "    </tr>\n",
       "    <tr>\n",
       "      <th>3</th>\n",
       "      <td>https://doi.org/10.1177/039493621002200401</td>\n",
       "      <td>2010-MM-DD</td>\n",
       "      <td>IT102077</td>\n",
       "      <td>https://journals.aboutscience.eu/index.php/gcn...</td>\n",
       "      <td>GCND Giornale di Clinica Nefrologica e Dialisi</td>\n",
       "      <td>https://journals.aboutscience.eu/index.php/gcnd</td>\n",
       "      <td>CC-BY-NC</td>\n",
       "      <td>it</td>\n",
       "      <td>journal</td>\n",
       "      <td></td>\n",
       "      <td>Donna di 75 anni affetta da diabete mellito di...</td>\n",
       "      <td>C. D’Alessandro,E. Colombini,G. Pasquariello,G...</td>\n",
       "    </tr>\n",
       "    <tr>\n",
       "      <th>4</th>\n",
       "      <td>https://doi.org/10.1177/039493621002200401</td>\n",
       "      <td>2010-MM-DD</td>\n",
       "      <td>IT102078</td>\n",
       "      <td>https://journals.aboutscience.eu/index.php/gcn...</td>\n",
       "      <td>GCND Giornale di Clinica Nefrologica e Dialisi</td>\n",
       "      <td>https://journals.aboutscience.eu/index.php/gcnd</td>\n",
       "      <td>CC-BY-NC</td>\n",
       "      <td>it</td>\n",
       "      <td>journal</td>\n",
       "      <td></td>\n",
       "      <td>Nel settembre del 2008 giunge alla nostra osse...</td>\n",
       "      <td>C. Galderisi,A. Cecilia,M. Tomaselli,P. Arcier...</td>\n",
       "    </tr>\n",
       "    <tr>\n",
       "      <th>...</th>\n",
       "      <td>...</td>\n",
       "      <td>...</td>\n",
       "      <td>...</td>\n",
       "      <td>...</td>\n",
       "      <td>...</td>\n",
       "      <td>...</td>\n",
       "      <td>...</td>\n",
       "      <td>...</td>\n",
       "      <td>...</td>\n",
       "      <td>...</td>\n",
       "      <td>...</td>\n",
       "      <td>...</td>\n",
       "    </tr>\n",
       "    <tr>\n",
       "      <th>10208</th>\n",
       "      <td></td>\n",
       "      <td>2021-02-01</td>\n",
       "      <td>IT112282</td>\n",
       "      <td></td>\n",
       "      <td>Agenzia Italiana del Farmaco</td>\n",
       "      <td>https://farmaci.agenziafarmaco.gov.it</td>\n",
       "      <td>CC-BY-NC</td>\n",
       "      <td>it</td>\n",
       "      <td>other</td>\n",
       "      <td>patient information leaflets for medicines</td>\n",
       "      <td>Confezioni \\r\\n Zytiga 250 mg 120 compresse\\nC...</td>\n",
       "      <td></td>\n",
       "    </tr>\n",
       "    <tr>\n",
       "      <th>10209</th>\n",
       "      <td></td>\n",
       "      <td>2021-02-01</td>\n",
       "      <td>IT112283</td>\n",
       "      <td></td>\n",
       "      <td>Agenzia Italiana del Farmaco</td>\n",
       "      <td>https://farmaci.agenziafarmaco.gov.it</td>\n",
       "      <td>CC-BY-NC</td>\n",
       "      <td>it</td>\n",
       "      <td>other</td>\n",
       "      <td>patient information leaflets for medicines</td>\n",
       "      <td>Confezioni \\r\\n Zytiga 500 mg 56 compresse riv...</td>\n",
       "      <td></td>\n",
       "    </tr>\n",
       "    <tr>\n",
       "      <th>10210</th>\n",
       "      <td></td>\n",
       "      <td>2021-02-01</td>\n",
       "      <td>IT112284</td>\n",
       "      <td></td>\n",
       "      <td>Agenzia Italiana del Farmaco</td>\n",
       "      <td>https://farmaci.agenziafarmaco.gov.it</td>\n",
       "      <td>CC-BY-NC</td>\n",
       "      <td>it</td>\n",
       "      <td>other</td>\n",
       "      <td>patient information leaflets for medicines</td>\n",
       "      <td>Confezioni \\r\\n Zyvoxid 600 mg 10 compresse ri...</td>\n",
       "      <td></td>\n",
       "    </tr>\n",
       "    <tr>\n",
       "      <th>10211</th>\n",
       "      <td></td>\n",
       "      <td>2021-02-01</td>\n",
       "      <td>IT112285</td>\n",
       "      <td></td>\n",
       "      <td>Agenzia Italiana del Farmaco</td>\n",
       "      <td>https://farmaci.agenziafarmaco.gov.it</td>\n",
       "      <td>CC-BY-NC</td>\n",
       "      <td>it</td>\n",
       "      <td>other</td>\n",
       "      <td>patient information leaflets for medicines</td>\n",
       "      <td>Confezioni \\r\\n Zyvoxid 1 flacone di granulato...</td>\n",
       "      <td></td>\n",
       "    </tr>\n",
       "    <tr>\n",
       "      <th>10212</th>\n",
       "      <td></td>\n",
       "      <td>2021-02-01</td>\n",
       "      <td>IT112286</td>\n",
       "      <td></td>\n",
       "      <td>Agenzia Italiana del Farmaco</td>\n",
       "      <td>https://farmaci.agenziafarmaco.gov.it</td>\n",
       "      <td>CC-BY-NC</td>\n",
       "      <td>it</td>\n",
       "      <td>other</td>\n",
       "      <td>patient information leaflets for medicines</td>\n",
       "      <td>Confezioni \\r\\n Zyvoxid 2 mg/ml soluzione per ...</td>\n",
       "      <td></td>\n",
       "    </tr>\n",
       "  </tbody>\n",
       "</table>\n",
       "<p>10213 rows × 12 columns</p>\n",
       "</div>"
      ],
      "text/plain": [
       "                                               doi publication_date        id  \\\n",
       "0      https://doi.org/10.1177/039493620802001-201       2008-MM-DD  IT102074   \n",
       "1      https://doi.org/10.1177/039493620802001-201       2008-MM-DD  IT102075   \n",
       "2      https://doi.org/10.1177/039493620802001-201       2008-MM-DD  IT102076   \n",
       "3       https://doi.org/10.1177/039493621002200401       2010-MM-DD  IT102077   \n",
       "4       https://doi.org/10.1177/039493621002200401       2010-MM-DD  IT102078   \n",
       "...                                            ...              ...       ...   \n",
       "10208                                                    2021-02-01  IT112282   \n",
       "10209                                                    2021-02-01  IT112283   \n",
       "10210                                                    2021-02-01  IT112284   \n",
       "10211                                                    2021-02-01  IT112285   \n",
       "10212                                                    2021-02-01  IT112286   \n",
       "\n",
       "                                                     url  \\\n",
       "0      https://journals.aboutscience.eu/index.php/gcn...   \n",
       "1      https://journals.aboutscience.eu/index.php/gcn...   \n",
       "2      https://journals.aboutscience.eu/index.php/gcn...   \n",
       "3      https://journals.aboutscience.eu/index.php/gcn...   \n",
       "4      https://journals.aboutscience.eu/index.php/gcn...   \n",
       "...                                                  ...   \n",
       "10208                                                      \n",
       "10209                                                      \n",
       "10210                                                      \n",
       "10211                                                      \n",
       "10212                                                      \n",
       "\n",
       "                                               source  \\\n",
       "0      GCND Giornale di Clinica Nefrologica e Dialisi   \n",
       "1      GCND Giornale di Clinica Nefrologica e Dialisi   \n",
       "2      GCND Giornale di Clinica Nefrologica e Dialisi   \n",
       "3      GCND Giornale di Clinica Nefrologica e Dialisi   \n",
       "4      GCND Giornale di Clinica Nefrologica e Dialisi   \n",
       "...                                               ...   \n",
       "10208                    Agenzia Italiana del Farmaco   \n",
       "10209                    Agenzia Italiana del Farmaco   \n",
       "10210                    Agenzia Italiana del Farmaco   \n",
       "10211                    Agenzia Italiana del Farmaco   \n",
       "10212                    Agenzia Italiana del Farmaco   \n",
       "\n",
       "                                            source_url   licence language  \\\n",
       "0      https://journals.aboutscience.eu/index.php/gcnd  CC-BY-NC       it   \n",
       "1      https://journals.aboutscience.eu/index.php/gcnd  CC-BY-NC       it   \n",
       "2      https://journals.aboutscience.eu/index.php/gcnd  CC-BY-NC       it   \n",
       "3      https://journals.aboutscience.eu/index.php/gcnd  CC-BY-NC       it   \n",
       "4      https://journals.aboutscience.eu/index.php/gcnd  CC-BY-NC       it   \n",
       "...                                                ...       ...      ...   \n",
       "10208            https://farmaci.agenziafarmaco.gov.it  CC-BY-NC       it   \n",
       "10209            https://farmaci.agenziafarmaco.gov.it  CC-BY-NC       it   \n",
       "10210            https://farmaci.agenziafarmaco.gov.it  CC-BY-NC       it   \n",
       "10211            https://farmaci.agenziafarmaco.gov.it  CC-BY-NC       it   \n",
       "10212            https://farmaci.agenziafarmaco.gov.it  CC-BY-NC       it   \n",
       "\n",
       "          type                                 description  \\\n",
       "0      journal                                               \n",
       "1      journal                                               \n",
       "2      journal                                               \n",
       "3      journal                                               \n",
       "4      journal                                               \n",
       "...        ...                                         ...   \n",
       "10208    other  patient information leaflets for medicines   \n",
       "10209    other  patient information leaflets for medicines   \n",
       "10210    other  patient information leaflets for medicines   \n",
       "10211    other  patient information leaflets for medicines   \n",
       "10212    other  patient information leaflets for medicines   \n",
       "\n",
       "                                                    text  \\\n",
       "0      C.C. iniziava a fare dialisi all’età di 17 ann...   \n",
       "1      I.Z. è un giovane di 22 anni. Pochi giorni pri...   \n",
       "2      Nel giugno 2007 presso la Struttura Complessa ...   \n",
       "3      Donna di 75 anni affetta da diabete mellito di...   \n",
       "4      Nel settembre del 2008 giunge alla nostra osse...   \n",
       "...                                                  ...   \n",
       "10208  Confezioni \\r\\n Zytiga 250 mg 120 compresse\\nC...   \n",
       "10209  Confezioni \\r\\n Zytiga 500 mg 56 compresse riv...   \n",
       "10210  Confezioni \\r\\n Zyvoxid 600 mg 10 compresse ri...   \n",
       "10211  Confezioni \\r\\n Zyvoxid 1 flacone di granulato...   \n",
       "10212  Confezioni \\r\\n Zyvoxid 2 mg/ml soluzione per ...   \n",
       "\n",
       "                                                 authors  \n",
       "0                                            M. Pegoraro  \n",
       "1                                            M. Pegoraro  \n",
       "2                                           F. Cavatorta  \n",
       "3      C. D’Alessandro,E. Colombini,G. Pasquariello,G...  \n",
       "4      C. Galderisi,A. Cecilia,M. Tomaselli,P. Arcier...  \n",
       "...                                                  ...  \n",
       "10208                                                     \n",
       "10209                                                     \n",
       "10210                                                     \n",
       "10211                                                     \n",
       "10212                                                     \n",
       "\n",
       "[10213 rows x 12 columns]"
      ]
     },
     "execution_count": 33,
     "metadata": {},
     "output_type": "execute_result"
    }
   ],
   "source": [
    "df"
   ]
  },
  {
   "cell_type": "code",
   "execution_count": 37,
   "metadata": {
    "colab": {
     "base_uri": "https://localhost:8080/",
     "height": 191
    },
    "executionInfo": {
     "elapsed": 269,
     "status": "ok",
     "timestamp": 1698137190410,
     "user": {
      "displayName": "Gabriele Moro",
      "userId": "01087929521282944952"
     },
     "user_tz": -120
    },
    "id": "HiJaFxVSNMsj",
    "outputId": "c26dde25-5af7-4804-fe9d-4334a78895a7"
   },
   "outputs": [
    {
     "data": {
      "text/plain": [
       "'Nel giugno 2007 presso la Struttura Complessa di Nefrologia e Dialisi di Imperia è iniziato un programma di puntura delle fistole native con la tecnica ad occhiello. Dopo aver identificato il personale infermieristico idoneo, sono stati scelti inizialmente 4 pazienti, uno per turno dialitico, costituiti da un giovane paziente con FAV distale ben sviluppata ma particolarmente intollerante al dolore da puntura, un paziente con lesioni cutanee estese di natura psoriasica e con una FAV distale di recente confezionamento e di non facile pungibilità, un paziente con una FAV con numerosi aneurismi secondari a puntura cosiddetta ad “area” e un paziente con FAV prossimale. Dopo 6 mesi, in considerazione dei risultati nettamente positivi, assenza di complicanze, relativa facilità nella manovra e notevole gradimento della stessa da parte del paziente, la tecnica è stata estesa ad altri 3 pazienti, raggiungendo un totale di 7 pazienti in trattamento con la puntura ad occhiello. Si riporta il caso di una paziente facente parte del secondo gruppo di pazienti arruolati che è stata scelta per la difficoltà nel posizionamento degli aghi, in particolare di quello venoso. Si tratta di una donna obesa di 64 anni rientrata in dialisi dopo il rigetto di un trapianto di rene durato oltre 15 anni durante i quali era stata sottoposta a procedura di angioplastica coronarica e a ovariectomia con chemioterapia per neoplasia ovarica sinistra, alla quale è stata confezionata una fistola prossimale omero-cefalica sinistra seguita dopo 2 mesi dalla superficializzazione del vaso cefalico, onde consentire una puntura più agevole. Tuttavia, dopo alcuni mesi di funzionamento, a seguito del riscontro di una stenosi iuxta-anastomotica all’esame ecoDoppler con riduzione della portata dell’accesso valutata con il Transonic veniva effettuata una prima angioplastica con esito positivo. Nei 2 anni successivi la FAV veniva nuovamente sottoposta a varie procedure di angioplastica e al posizionamento di due stent, uno in sede mediana del braccio e uno a livello dell’arco cefalico per lo sviluppo di una stenosi serrata recidivante. Nel frattempo si intensificava il ritmo dialitico portandolo a 4 sedute settimanali per la tendenza a grave iperkaliemia e per ripetuti episodi di sovraccarico cardiocircolatorio nel periodo interdialitico lungo. Il posizionamento dei due stent contribuiva a ridurre la superficie utilizzabile per l’inserimento degli aghi, per cui la manovra di puntura dell’accesso con la tecnica “a scala di corda” diventava sempre più difficoltosa, appannaggio di pochi operatori particolarmente esperti e comunque spesso esposta a stravasi ematici; inoltre la distanza tra i due aghi era nella maggior parte dei casi di pochi centimetri (3-4 cm) con conseguente aumento del ricircolo per la difficoltà nel pungere a maggior distanza la vena cefalica dato il progressivo approfondimento del vaso venoso. Si decideva pertanto, dopo aver informato la paziente di questa nuova tecnica e degli ottimi risultati ottenuti nel Centro a conferma di quanto riportato in letteratura, di iniziare la puntura ad occhiello prima con l’ago venoso e successivamente con l’ago arterioso selezionando 2 siti di inserzione a distanza di 7 cm. A tutt’oggi, dopo 4 mesi di utilizzo della tecnica, non si è verificata alcuna complicanza, a parte un tentativo infruttuoso con ago smusso nel sito venoso che ha richiesto la puntura con l’ago tagliente; la paziente oltre a non avvertire dolore alla puntura è molto più tranquilla e rilassata dato il minore rischio di errore nella manovra. Altri vantaggi osservati sono stati i tempi di emostasi molto più brevi e l’assenza di stillicidio attorno all’ago. Questo caso dimostra che la puntura ad occhiello, purché eseguita in modo corretto, è indicata nei casi di difficile aggressione dell’accesso con le altre consuete tecniche di puntura, in particolare nelle FAV con limitate aree di puntura, come in quelle con eventuali stent utilizzati per la correzione di stenosi venose o con superficializzazione del vaso, superficializzazione che in genere non è mai molto estesa. Si tratta di FAV destinate inevitabilmente allo viluppo di vistose dilatazioni aneurismatiche lungo il decorso del vaso con grave danno non solo estetico ma spesso anche funzionale dell’accesso. Questa modalità di puntura della FAV pertanto, consentendo un accesso più sicuro con minori complicanze, dovrebbe garantire una maggiore sopravvivenza della fistola stessa.'"
      ]
     },
     "execution_count": 37,
     "metadata": {},
     "output_type": "execute_result"
    }
   ],
   "source": [
    "df.loc[2, 'text']"
   ]
  },
  {
   "cell_type": "markdown",
   "metadata": {},
   "source": [
    "# Prove di word 2 vec corpus level"
   ]
  },
  {
   "cell_type": "code",
   "execution_count": 38,
   "metadata": {},
   "outputs": [],
   "source": [
    "documents = []\n",
    "for i in range(len(df)):\n",
    "    text = df.loc[i,'text']\n",
    "    documents.append(text)\n",
    "    "
   ]
  },
  {
   "cell_type": "code",
   "execution_count": 45,
   "metadata": {
    "scrolled": false
   },
   "outputs": [
    {
     "data": {
      "text/plain": [
       "10213"
      ]
     },
     "execution_count": 45,
     "metadata": {},
     "output_type": "execute_result"
    }
   ],
   "source": [
    "len(documents) #ok"
   ]
  },
  {
   "cell_type": "code",
   "execution_count": 62,
   "metadata": {},
   "outputs": [],
   "source": [
    "from nltk.tokenize import word_tokenize\n",
    "\n",
    "# Esempio di testo\n",
    "\n",
    "# Tokenizzazione del testo\n",
    "tokenvec = []\n",
    "for document in documents:\n",
    "    tokens = word_tokenize(document)\n",
    "    tokenvec.append(tokens)"
   ]
  },
  {
   "cell_type": "code",
   "execution_count": 63,
   "metadata": {},
   "outputs": [],
   "source": [
    "from gensim.models import Word2Vec\n",
    "# Crea un modello Word2Vec\n",
    "model = Word2Vec(tokenvec, vector_size=2, window=3, min_count=1, sg=0)"
   ]
  },
  {
   "cell_type": "code",
   "execution_count": null,
   "metadata": {},
   "outputs": [],
   "source": [
    "import matplotlib.pyplot as plt\n",
    "\n",
    "# Estrai il vocabolario e i vettori di embedding\n",
    "word_names = model.wv.index_to_key\n",
    "word_vectors = [model.wv[word] for word in word_names]\n",
    "\n",
    "# Crea un grafico 2D\n",
    "plt.figure(figsize=(8, 8))\n",
    "for word, vector in zip(word_names, word_vectors):\n",
    "    x, y = vector\n",
    "    plt.scatter(x, y, marker='o', color='blue')\n",
    "    plt.text(x, y, word, fontsize=10, ha='right')\n",
    "\n",
    "# Imposta etichette degli assi\n",
    "plt.xlabel('Asse X')\n",
    "plt.ylabel('Asse Y')\n",
    "\n",
    "# Mostra il grafico\n",
    "plt.show()"
   ]
  },
  {
   "cell_type": "code",
   "execution_count": null,
   "metadata": {},
   "outputs": [],
   "source": []
  },
  {
   "cell_type": "code",
   "execution_count": null,
   "metadata": {},
   "outputs": [],
   "source": []
  },
  {
   "cell_type": "code",
   "execution_count": null,
   "metadata": {},
   "outputs": [],
   "source": []
  },
  {
   "cell_type": "code",
   "execution_count": null,
   "metadata": {},
   "outputs": [],
   "source": []
  },
  {
   "cell_type": "markdown",
   "metadata": {
    "id": "YHkYuIIXZAxy"
   },
   "source": [
    "# ANNOTATIONS"
   ]
  },
  {
   "cell_type": "code",
   "execution_count": 12,
   "metadata": {
    "executionInfo": {
     "elapsed": 569,
     "status": "ok",
     "timestamp": 1698137228108,
     "user": {
      "displayName": "Gabriele Moro",
      "userId": "01087929521282944952"
     },
     "user_tz": -120
    },
    "id": "26VbjPFvOnAN"
   },
   "outputs": [],
   "source": [
    "FILE = '/content/E3C-Corpus/data_annotation/Italian/layer1/IT100002.xml'"
   ]
  },
  {
   "cell_type": "code",
   "execution_count": 13,
   "metadata": {
    "executionInfo": {
     "elapsed": 5,
     "status": "ok",
     "timestamp": 1698137228735,
     "user": {
      "displayName": "Gabriele Moro",
      "userId": "01087929521282944952"
     },
     "user_tz": -120
    },
    "id": "fHMnojAwgKbq"
   },
   "outputs": [],
   "source": [
    "text = pd.read_xml(FILE, xpath='cas:Sofa', namespaces={'cas':\"http:///uima/cas.ecore\"}).iloc[0]['sofaString']"
   ]
  },
  {
   "cell_type": "code",
   "execution_count": 14,
   "metadata": {
    "colab": {
     "base_uri": "https://localhost:8080/",
     "height": 191
    },
    "executionInfo": {
     "elapsed": 714,
     "status": "ok",
     "timestamp": 1698137230331,
     "user": {
      "displayName": "Gabriele Moro",
      "userId": "01087929521282944952"
     },
     "user_tz": -120
    },
    "id": "znCJkuGshyYa",
    "outputId": "15e4b957-9ebe-4d1b-a358-f21756017d55"
   },
   "outputs": [
    {
     "data": {
      "application/vnd.google.colaboratory.intrinsic+json": {
       "type": "string"
      },
      "text/plain": [
       "'Anna è una donna di 47 anni, vive con il figlio in un piccolo appartamento in un paese carsico, lavora nel campo della ristorazione e, nonostante una patologia genetica familiare che provoca delle alterazioni scheletriche, cardiologiche, oculari e cutanee, vive una vita serena e tranquilla. Ha una buona rete familiare e informale che supporta la famiglia. Viene seguita da un centro di riferimento specifico per patologia rara a Bologna e si sottopone a controlli clinicostrumentali periodici e regolari. Nel gennaio del 2017 esegue un intervento chirurgico di piede torto congenito presso l’Istituto Rizzoli. Durante la degenza, a seguito di un dolore retrosternale e di una sincope, viene sottoposta a un intervento di endoprotesi di aorta per dissezione acuta. Al rientro a casa, nel marzo del 2017, deve proseguire i controlli cardiologici ed eseguire la fisioterapia per gli esiti di intervento al piede e regolari controlli ematici. Non essendo autonoma nella deambulazione, viene presa in carico dai servizi del Distretto n. 1 dell’ASUGI di Trieste. Anna sembra, in un primo momento, una persona collaborante al piano assistenziale predisposto, ma, dopo un paio di interventi per controllare gli esiti della ferita al piede, si intuisce che qualcosa non funziona. Si somministra la scheda PHE-S® per una valutazione dell’elaborazione del vissuto della malattia, riscontrando un punteggio di 2,5. Parlando con lei emerge una profonda difficoltà ad accettare l’intervento al cuore, riferisce di sentirsi bloccata e ripete spesso: “Sono in black out”. Questa incapacità di reagire è evidente sul piano pratico: non controlla la pressione arteriosa come suggerito dalle dimissioni ospedaliere, non si preoccupa dei risultati delle analisi diagnostico-strumentali, ma è, invece, molto concentrata sul piede che le provoca molto dolore. In questo caso, il piano assistenziale individuale ha previsto un ciclo di fisiokinesiterapia per l’arto inferiore, interventi infermieristici di monitoraggio dei parametri vitali e del dolore, educazione terapeutica, controlli cardiologici ed esami ematochimici. Per lo stato di “black out”, si è proposto l’intervento di una psicoterapeuta del Distretto Sanitario, per cercare di attivare risorse atte a superare lo shock dell’intervento chirurgico al cuore. La vita è cambiata radicalmente per questa giovane donna, non può rientrare presso la sua sede lavorativa, l’attività in piedi per molte ore non è consentita per il suo stato di salute e arriva, quindi, il licenziamento. Un colloquio con l’assistente sociale si rende necessario per capire come indirizzare Anna alle varie possibilità di sostegno economico per lei e la sua famiglia. I valori della PHE-S dopo 4 mesi di interventi sono incrementati fino a raggiungere un punteggio pari a 3. Lentamente e con il supporto dell’infermiera e della fisioterapista, Anna inizia ad avere un ruolo attivo nella gestione della sua salute. Si misura costantemente la pressione arteriosa, che si mantiene nei valori consigliati dal cardiologo, si sottopone agli accertamenti di controllo, inizia a riconoscere gli effetti di 60 Engagement e coinvolgimento attivo ciascuna terapia, riesce a fare spostamenti munita di stampelle in autonomia e sostituisce il medico di medicina generale che è andato in pensione con un professionista attivo e collaborante. Infine, riesce a mettere in atto e a mantenere cambiamenti dello stile di vita relativi al suo stato di salute: segue una corretta alimentazione e un’adeguata attività fisica, si iscrive alle liste di collocamento speciali per persone con ridotte capacità e inizia a frequentare corsi di formazione per poter avere la possibilità di esercitare un nuovo lavoro.\\r\\n'"
      ]
     },
     "execution_count": 14,
     "metadata": {},
     "output_type": "execute_result"
    }
   ],
   "source": [
    "text"
   ]
  },
  {
   "cell_type": "code",
   "execution_count": 15,
   "metadata": {
    "executionInfo": {
     "elapsed": 227,
     "status": "ok",
     "timestamp": 1698137237305,
     "user": {
      "displayName": "Gabriele Moro",
      "userId": "01087929521282944952"
     },
     "user_tz": -120
    },
    "id": "4AxtG53FZtv4"
   },
   "outputs": [],
   "source": [
    "df_clin_ent = pd.read_xml(FILE, xpath='custom:CLINENTITY', namespaces={'custom':\"http:///webanno/custom.ecore\"})"
   ]
  },
  {
   "cell_type": "code",
   "execution_count": 16,
   "metadata": {
    "colab": {
     "base_uri": "https://localhost:8080/",
     "height": 221
    },
    "executionInfo": {
     "elapsed": 212,
     "status": "ok",
     "timestamp": 1698137240174,
     "user": {
      "displayName": "Gabriele Moro",
      "userId": "01087929521282944952"
     },
     "user_tz": -120
    },
    "id": "QvTl0u5maeiv",
    "outputId": "c101cdb9-53ed-404e-9eb9-65e28c5e6a37"
   },
   "outputs": [
    {
     "data": {
      "text/html": [
       "\n",
       "  <div id=\"df-214b3fb2-5d51-45c6-9601-d494b277d578\" class=\"colab-df-container\">\n",
       "    <div>\n",
       "<style scoped>\n",
       "    .dataframe tbody tr th:only-of-type {\n",
       "        vertical-align: middle;\n",
       "    }\n",
       "\n",
       "    .dataframe tbody tr th {\n",
       "        vertical-align: top;\n",
       "    }\n",
       "\n",
       "    .dataframe thead th {\n",
       "        text-align: right;\n",
       "    }\n",
       "</style>\n",
       "<table border=\"1\" class=\"dataframe\">\n",
       "  <thead>\n",
       "    <tr style=\"text-align: right;\">\n",
       "      <th></th>\n",
       "      <th>id</th>\n",
       "      <th>sofa</th>\n",
       "      <th>begin</th>\n",
       "      <th>end</th>\n",
       "      <th>entityID</th>\n",
       "    </tr>\n",
       "  </thead>\n",
       "  <tbody>\n",
       "    <tr>\n",
       "      <th>0</th>\n",
       "      <td>10128</td>\n",
       "      <td>10544</td>\n",
       "      <td>563</td>\n",
       "      <td>584</td>\n",
       "      <td>C0009081</td>\n",
       "    </tr>\n",
       "    <tr>\n",
       "      <th>1</th>\n",
       "      <td>10136</td>\n",
       "      <td>10544</td>\n",
       "      <td>648</td>\n",
       "      <td>668</td>\n",
       "      <td>C0151826</td>\n",
       "    </tr>\n",
       "    <tr>\n",
       "      <th>2</th>\n",
       "      <td>10144</td>\n",
       "      <td>10544</td>\n",
       "      <td>678</td>\n",
       "      <td>685</td>\n",
       "      <td>C0039070</td>\n",
       "    </tr>\n",
       "    <tr>\n",
       "      <th>3</th>\n",
       "      <td>10152</td>\n",
       "      <td>10544</td>\n",
       "      <td>748</td>\n",
       "      <td>764</td>\n",
       "      <td>C4022878</td>\n",
       "    </tr>\n",
       "  </tbody>\n",
       "</table>\n",
       "</div>\n",
       "    <div class=\"colab-df-buttons\">\n",
       "\n",
       "  <div class=\"colab-df-container\">\n",
       "    <button class=\"colab-df-convert\" onclick=\"convertToInteractive('df-214b3fb2-5d51-45c6-9601-d494b277d578')\"\n",
       "            title=\"Convert this dataframe to an interactive table.\"\n",
       "            style=\"display:none;\">\n",
       "\n",
       "  <svg xmlns=\"http://www.w3.org/2000/svg\" height=\"24px\" viewBox=\"0 -960 960 960\">\n",
       "    <path d=\"M120-120v-720h720v720H120Zm60-500h600v-160H180v160Zm220 220h160v-160H400v160Zm0 220h160v-160H400v160ZM180-400h160v-160H180v160Zm440 0h160v-160H620v160ZM180-180h160v-160H180v160Zm440 0h160v-160H620v160Z\"/>\n",
       "  </svg>\n",
       "    </button>\n",
       "\n",
       "  <style>\n",
       "    .colab-df-container {\n",
       "      display:flex;\n",
       "      gap: 12px;\n",
       "    }\n",
       "\n",
       "    .colab-df-convert {\n",
       "      background-color: #E8F0FE;\n",
       "      border: none;\n",
       "      border-radius: 50%;\n",
       "      cursor: pointer;\n",
       "      display: none;\n",
       "      fill: #1967D2;\n",
       "      height: 32px;\n",
       "      padding: 0 0 0 0;\n",
       "      width: 32px;\n",
       "    }\n",
       "\n",
       "    .colab-df-convert:hover {\n",
       "      background-color: #E2EBFA;\n",
       "      box-shadow: 0px 1px 2px rgba(60, 64, 67, 0.3), 0px 1px 3px 1px rgba(60, 64, 67, 0.15);\n",
       "      fill: #174EA6;\n",
       "    }\n",
       "\n",
       "    .colab-df-buttons div {\n",
       "      margin-bottom: 4px;\n",
       "    }\n",
       "\n",
       "    [theme=dark] .colab-df-convert {\n",
       "      background-color: #3B4455;\n",
       "      fill: #D2E3FC;\n",
       "    }\n",
       "\n",
       "    [theme=dark] .colab-df-convert:hover {\n",
       "      background-color: #434B5C;\n",
       "      box-shadow: 0px 1px 3px 1px rgba(0, 0, 0, 0.15);\n",
       "      filter: drop-shadow(0px 1px 2px rgba(0, 0, 0, 0.3));\n",
       "      fill: #FFFFFF;\n",
       "    }\n",
       "  </style>\n",
       "\n",
       "    <script>\n",
       "      const buttonEl =\n",
       "        document.querySelector('#df-214b3fb2-5d51-45c6-9601-d494b277d578 button.colab-df-convert');\n",
       "      buttonEl.style.display =\n",
       "        google.colab.kernel.accessAllowed ? 'block' : 'none';\n",
       "\n",
       "      async function convertToInteractive(key) {\n",
       "        const element = document.querySelector('#df-214b3fb2-5d51-45c6-9601-d494b277d578');\n",
       "        const dataTable =\n",
       "          await google.colab.kernel.invokeFunction('convertToInteractive',\n",
       "                                                    [key], {});\n",
       "        if (!dataTable) return;\n",
       "\n",
       "        const docLinkHtml = 'Like what you see? Visit the ' +\n",
       "          '<a target=\"_blank\" href=https://colab.research.google.com/notebooks/data_table.ipynb>data table notebook</a>'\n",
       "          + ' to learn more about interactive tables.';\n",
       "        element.innerHTML = '';\n",
       "        dataTable['output_type'] = 'display_data';\n",
       "        await google.colab.output.renderOutput(dataTable, element);\n",
       "        const docLink = document.createElement('div');\n",
       "        docLink.innerHTML = docLinkHtml;\n",
       "        element.appendChild(docLink);\n",
       "      }\n",
       "    </script>\n",
       "  </div>\n",
       "\n",
       "\n",
       "<div id=\"df-633c42ca-daf0-4cd8-8081-37d05dc8ad89\">\n",
       "  <button class=\"colab-df-quickchart\" onclick=\"quickchart('df-633c42ca-daf0-4cd8-8081-37d05dc8ad89')\"\n",
       "            title=\"Suggest charts.\"\n",
       "            style=\"display:none;\">\n",
       "\n",
       "<svg xmlns=\"http://www.w3.org/2000/svg\" height=\"24px\"viewBox=\"0 0 24 24\"\n",
       "     width=\"24px\">\n",
       "    <g>\n",
       "        <path d=\"M19 3H5c-1.1 0-2 .9-2 2v14c0 1.1.9 2 2 2h14c1.1 0 2-.9 2-2V5c0-1.1-.9-2-2-2zM9 17H7v-7h2v7zm4 0h-2V7h2v10zm4 0h-2v-4h2v4z\"/>\n",
       "    </g>\n",
       "</svg>\n",
       "  </button>\n",
       "\n",
       "<style>\n",
       "  .colab-df-quickchart {\n",
       "      --bg-color: #E8F0FE;\n",
       "      --fill-color: #1967D2;\n",
       "      --hover-bg-color: #E2EBFA;\n",
       "      --hover-fill-color: #174EA6;\n",
       "      --disabled-fill-color: #AAA;\n",
       "      --disabled-bg-color: #DDD;\n",
       "  }\n",
       "\n",
       "  [theme=dark] .colab-df-quickchart {\n",
       "      --bg-color: #3B4455;\n",
       "      --fill-color: #D2E3FC;\n",
       "      --hover-bg-color: #434B5C;\n",
       "      --hover-fill-color: #FFFFFF;\n",
       "      --disabled-bg-color: #3B4455;\n",
       "      --disabled-fill-color: #666;\n",
       "  }\n",
       "\n",
       "  .colab-df-quickchart {\n",
       "    background-color: var(--bg-color);\n",
       "    border: none;\n",
       "    border-radius: 50%;\n",
       "    cursor: pointer;\n",
       "    display: none;\n",
       "    fill: var(--fill-color);\n",
       "    height: 32px;\n",
       "    padding: 0;\n",
       "    width: 32px;\n",
       "  }\n",
       "\n",
       "  .colab-df-quickchart:hover {\n",
       "    background-color: var(--hover-bg-color);\n",
       "    box-shadow: 0 1px 2px rgba(60, 64, 67, 0.3), 0 1px 3px 1px rgba(60, 64, 67, 0.15);\n",
       "    fill: var(--button-hover-fill-color);\n",
       "  }\n",
       "\n",
       "  .colab-df-quickchart-complete:disabled,\n",
       "  .colab-df-quickchart-complete:disabled:hover {\n",
       "    background-color: var(--disabled-bg-color);\n",
       "    fill: var(--disabled-fill-color);\n",
       "    box-shadow: none;\n",
       "  }\n",
       "\n",
       "  .colab-df-spinner {\n",
       "    border: 2px solid var(--fill-color);\n",
       "    border-color: transparent;\n",
       "    border-bottom-color: var(--fill-color);\n",
       "    animation:\n",
       "      spin 1s steps(1) infinite;\n",
       "  }\n",
       "\n",
       "  @keyframes spin {\n",
       "    0% {\n",
       "      border-color: transparent;\n",
       "      border-bottom-color: var(--fill-color);\n",
       "      border-left-color: var(--fill-color);\n",
       "    }\n",
       "    20% {\n",
       "      border-color: transparent;\n",
       "      border-left-color: var(--fill-color);\n",
       "      border-top-color: var(--fill-color);\n",
       "    }\n",
       "    30% {\n",
       "      border-color: transparent;\n",
       "      border-left-color: var(--fill-color);\n",
       "      border-top-color: var(--fill-color);\n",
       "      border-right-color: var(--fill-color);\n",
       "    }\n",
       "    40% {\n",
       "      border-color: transparent;\n",
       "      border-right-color: var(--fill-color);\n",
       "      border-top-color: var(--fill-color);\n",
       "    }\n",
       "    60% {\n",
       "      border-color: transparent;\n",
       "      border-right-color: var(--fill-color);\n",
       "    }\n",
       "    80% {\n",
       "      border-color: transparent;\n",
       "      border-right-color: var(--fill-color);\n",
       "      border-bottom-color: var(--fill-color);\n",
       "    }\n",
       "    90% {\n",
       "      border-color: transparent;\n",
       "      border-bottom-color: var(--fill-color);\n",
       "    }\n",
       "  }\n",
       "</style>\n",
       "\n",
       "  <script>\n",
       "    async function quickchart(key) {\n",
       "      const quickchartButtonEl =\n",
       "        document.querySelector('#' + key + ' button');\n",
       "      quickchartButtonEl.disabled = true;  // To prevent multiple clicks.\n",
       "      quickchartButtonEl.classList.add('colab-df-spinner');\n",
       "      try {\n",
       "        const charts = await google.colab.kernel.invokeFunction(\n",
       "            'suggestCharts', [key], {});\n",
       "      } catch (error) {\n",
       "        console.error('Error during call to suggestCharts:', error);\n",
       "      }\n",
       "      quickchartButtonEl.classList.remove('colab-df-spinner');\n",
       "      quickchartButtonEl.classList.add('colab-df-quickchart-complete');\n",
       "    }\n",
       "    (() => {\n",
       "      let quickchartButtonEl =\n",
       "        document.querySelector('#df-633c42ca-daf0-4cd8-8081-37d05dc8ad89 button');\n",
       "      quickchartButtonEl.style.display =\n",
       "        google.colab.kernel.accessAllowed ? 'block' : 'none';\n",
       "    })();\n",
       "  </script>\n",
       "</div>\n",
       "    </div>\n",
       "  </div>\n"
      ],
      "text/plain": [
       "      id   sofa  begin  end  entityID\n",
       "0  10128  10544    563  584  C0009081\n",
       "1  10136  10544    648  668  C0151826\n",
       "2  10144  10544    678  685  C0039070\n",
       "3  10152  10544    748  764  C4022878"
      ]
     },
     "execution_count": 16,
     "metadata": {},
     "output_type": "execute_result"
    }
   ],
   "source": [
    "df_clin_ent"
   ]
  },
  {
   "cell_type": "code",
   "execution_count": 17,
   "metadata": {
    "colab": {
     "base_uri": "https://localhost:8080/"
    },
    "executionInfo": {
     "elapsed": 226,
     "status": "ok",
     "timestamp": 1698137254509,
     "user": {
      "displayName": "Gabriele Moro",
      "userId": "01087929521282944952"
     },
     "user_tz": -120
    },
    "id": "4CzRPVB5fXWk",
    "outputId": "6e5844fa-4a6b-4e60-b479-24d9738cb133"
   },
   "outputs": [
    {
     "name": "stdout",
     "output_type": "stream",
     "text": [
      "piede torto congenito C0009081\n",
      "dolore retrosternale C0151826\n",
      "sincope C0039070\n",
      "dissezione acuta C4022878\n"
     ]
    }
   ],
   "source": [
    "for (i,r) in df_clin_ent.iterrows():\n",
    "  s = text[r['begin']:r['end']]\n",
    "  print(s, r['entityID'])\n"
   ]
  },
  {
   "cell_type": "markdown",
   "metadata": {
    "id": "-VY6AlDRZTvJ"
   },
   "source": [
    "gli ID fanno riferimento all'ontologia UMLS"
   ]
  },
  {
   "cell_type": "code",
   "execution_count": 18,
   "metadata": {
    "colab": {
     "base_uri": "https://localhost:8080/",
     "height": 35
    },
    "executionInfo": {
     "elapsed": 243,
     "status": "ok",
     "timestamp": 1698137260826,
     "user": {
      "displayName": "Gabriele Moro",
      "userId": "01087929521282944952"
     },
     "user_tz": -120
    },
    "id": "72T7sDjqkTgU",
    "outputId": "bd6ecbbe-8ef9-4b79-9cb2-8477d3485eb8"
   },
   "outputs": [
    {
     "data": {
      "application/vnd.google.colaboratory.intrinsic+json": {
       "type": "string"
      },
      "text/plain": [
       "'C0009081'"
      ]
     },
     "execution_count": 18,
     "metadata": {},
     "output_type": "execute_result"
    }
   ],
   "source": [
    "cui = df_clin_ent.loc[0, 'entityID']\n",
    "cui"
   ]
  },
  {
   "cell_type": "code",
   "execution_count": 19,
   "metadata": {
    "colab": {
     "base_uri": "https://localhost:8080/"
    },
    "executionInfo": {
     "elapsed": 1020,
     "status": "ok",
     "timestamp": 1698137262771,
     "user": {
      "displayName": "Gabriele Moro",
      "userId": "01087929521282944952"
     },
     "user_tz": -120
    },
    "id": "yUj1pxhoiDzl",
    "outputId": "ad4969e7-511e-46f8-9721-9f025542c229"
   },
   "outputs": [
    {
     "data": {
      "text/plain": [
       "[{'rootSource': 'MSHCZE',\n",
       "  'value': 'Vada nohy, při níž je noha v plantární flexi, supinaci (varozitě) a její přední polovina je addukována. Bývá vrozená (p. e. congenitus), je nutné ji léčit brzy po narození (pasivní cvičení, speciální sádrové obvazy, ev. operace). (cit. Velký lékařský slovník online, 2017 http://lekarske.slovniky.cz)',\n",
       "  'classType': 'Definition',\n",
       "  'sourceOriginated': True},\n",
       " {'rootSource': 'CHV',\n",
       "  'value': 'a deformity of the foot which occurs at birth in which one or both feet are twisted',\n",
       "  'classType': 'Definition',\n",
       "  'sourceOriginated': True},\n",
       " {'rootSource': 'NCI',\n",
       "  'value': 'The most common congenital deformation of the foot, occurring in 1 of 1,000 live births. The most common form is talipes equinovarus, where the deformed foot is turned downward and inward sharply.',\n",
       "  'classType': 'Definition',\n",
       "  'sourceOriginated': True},\n",
       " {'rootSource': 'MSH',\n",
       "  'value': 'A deformed foot in which the foot is plantarflexed, inverted, and adducted.',\n",
       "  'classType': 'Definition',\n",
       "  'sourceOriginated': True},\n",
       " {'rootSource': 'HPO',\n",
       "  'value': 'Talipes equinovarus (also called clubfoot) typically has four main components: inversion and adduction of the forefoot; inversion of the heel and hindfoot; equinus (limitation of extension) of the ankle and subtalar joint; and internal rotation of the leg. [HPO:probinson, PMID:32491773]',\n",
       "  'classType': 'Definition',\n",
       "  'sourceOriginated': True},\n",
       " {'rootSource': 'MSHNOR',\n",
       "  'value': 'En deformert fot med hæl og fotsåle vridd innover mot midtlinjen, den vanligste formen for klumpfot.',\n",
       "  'classType': 'Definition',\n",
       "  'sourceOriginated': True},\n",
       " {'rootSource': 'MSHPOR',\n",
       "  'value': 'Pé deformado no qual o pé está em flexão plantar, invertido e aduzido.',\n",
       "  'classType': 'Definition',\n",
       "  'sourceOriginated': True},\n",
       " {'rootSource': 'MSHSPA',\n",
       "  'value': 'Un pie deformado en el cual el pie se encuentra en flexión plantar, invertido, y aducto.',\n",
       "  'classType': 'Definition',\n",
       "  'sourceOriginated': True},\n",
       " {'rootSource': 'MSHSWE',\n",
       "  'value': 'En missbildning där foten är vinklad nedåt, inåt och uppåt.',\n",
       "  'classType': 'Definition',\n",
       "  'sourceOriginated': True}]"
      ]
     },
     "execution_count": 19,
     "metadata": {},
     "output_type": "execute_result"
    }
   ],
   "source": [
    "import requests\n",
    "import time\n",
    "#'https://uts-ws.nlm.nih.gov/rest/content/current/CUI/C0009081/definitions?apiKey=4c06b166-c070-4da1-96b7-39cf5cfd9345'\n",
    "\n",
    "API_KEY = '4c06b166-c070-4da1-96b7-39cf5cfd9345'\n",
    "\n",
    "response = requests.get('https://uts-ws.nlm.nih.gov/rest/content/current/CUI/' + cui + '/definitions?apiKey=' + API_KEY)\n",
    "res_dict = json.loads(response.text)['result']\n",
    "res_dict\n",
    "\n"
   ]
  },
  {
   "cell_type": "code",
   "execution_count": null,
   "metadata": {
    "id": "cW8A2_gLkSV1"
   },
   "outputs": [],
   "source": []
  }
 ],
 "metadata": {
  "colab": {
   "provenance": [
    {
     "file_id": "1FblIVLCUUO7h_0xw1sZbCuoxSFslWdpk",
     "timestamp": 1698136787898
    }
   ]
  },
  "kernelspec": {
   "display_name": "Python 3 (ipykernel)",
   "language": "python",
   "name": "python3"
  },
  "language_info": {
   "codemirror_mode": {
    "name": "ipython",
    "version": 3
   },
   "file_extension": ".py",
   "mimetype": "text/x-python",
   "name": "python",
   "nbconvert_exporter": "python",
   "pygments_lexer": "ipython3",
   "version": "3.9.13"
  },
  "widgets": {
   "application/vnd.jupyter.widget-state+json": {
    "158183c21d014dc5b0064b54315260e7": {
     "model_module": "@jupyter-widgets/base",
     "model_module_version": "1.2.0",
     "model_name": "LayoutModel",
     "state": {
      "_model_module": "@jupyter-widgets/base",
      "_model_module_version": "1.2.0",
      "_model_name": "LayoutModel",
      "_view_count": null,
      "_view_module": "@jupyter-widgets/base",
      "_view_module_version": "1.2.0",
      "_view_name": "LayoutView",
      "align_content": null,
      "align_items": null,
      "align_self": null,
      "border": null,
      "bottom": null,
      "display": null,
      "flex": null,
      "flex_flow": null,
      "grid_area": null,
      "grid_auto_columns": null,
      "grid_auto_flow": null,
      "grid_auto_rows": null,
      "grid_column": null,
      "grid_gap": null,
      "grid_row": null,
      "grid_template_areas": null,
      "grid_template_columns": null,
      "grid_template_rows": null,
      "height": null,
      "justify_content": null,
      "justify_items": null,
      "left": null,
      "margin": null,
      "max_height": null,
      "max_width": null,
      "min_height": null,
      "min_width": null,
      "object_fit": null,
      "object_position": null,
      "order": null,
      "overflow": null,
      "overflow_x": null,
      "overflow_y": null,
      "padding": null,
      "right": null,
      "top": null,
      "visibility": null,
      "width": null
     }
    },
    "334a497fcccf45a1a7a5c8e329c39543": {
     "model_module": "@jupyter-widgets/controls",
     "model_module_version": "1.5.0",
     "model_name": "HTMLModel",
     "state": {
      "_dom_classes": [],
      "_model_module": "@jupyter-widgets/controls",
      "_model_module_version": "1.5.0",
      "_model_name": "HTMLModel",
      "_view_count": null,
      "_view_module": "@jupyter-widgets/controls",
      "_view_module_version": "1.5.0",
      "_view_name": "HTMLView",
      "description": "",
      "description_tooltip": null,
      "layout": "IPY_MODEL_e11b4f9fa7a64df5adba7ce3d454fc1d",
      "placeholder": "​",
      "style": "IPY_MODEL_ae8d630590d54945a604b0512016b527",
      "value": "100%"
     }
    },
    "ae8d630590d54945a604b0512016b527": {
     "model_module": "@jupyter-widgets/controls",
     "model_module_version": "1.5.0",
     "model_name": "DescriptionStyleModel",
     "state": {
      "_model_module": "@jupyter-widgets/controls",
      "_model_module_version": "1.5.0",
      "_model_name": "DescriptionStyleModel",
      "_view_count": null,
      "_view_module": "@jupyter-widgets/base",
      "_view_module_version": "1.2.0",
      "_view_name": "StyleView",
      "description_width": ""
     }
    },
    "b449d96b39bf42cb9e806e9dcbcb66c5": {
     "model_module": "@jupyter-widgets/controls",
     "model_module_version": "1.5.0",
     "model_name": "DescriptionStyleModel",
     "state": {
      "_model_module": "@jupyter-widgets/controls",
      "_model_module_version": "1.5.0",
      "_model_name": "DescriptionStyleModel",
      "_view_count": null,
      "_view_module": "@jupyter-widgets/base",
      "_view_module_version": "1.2.0",
      "_view_name": "StyleView",
      "description_width": ""
     }
    },
    "b548b18dd9b44745ac40cc02a59fad3b": {
     "model_module": "@jupyter-widgets/controls",
     "model_module_version": "1.5.0",
     "model_name": "FloatProgressModel",
     "state": {
      "_dom_classes": [],
      "_model_module": "@jupyter-widgets/controls",
      "_model_module_version": "1.5.0",
      "_model_name": "FloatProgressModel",
      "_view_count": null,
      "_view_module": "@jupyter-widgets/controls",
      "_view_module_version": "1.5.0",
      "_view_name": "ProgressView",
      "bar_style": "success",
      "description": "",
      "description_tooltip": null,
      "layout": "IPY_MODEL_e830f803e5fb4bd18219bc534030f253",
      "max": 10213,
      "min": 0,
      "orientation": "horizontal",
      "style": "IPY_MODEL_d55a5a783a2f4d6997be38a02ba04a5c",
      "value": 10213
     }
    },
    "d55a5a783a2f4d6997be38a02ba04a5c": {
     "model_module": "@jupyter-widgets/controls",
     "model_module_version": "1.5.0",
     "model_name": "ProgressStyleModel",
     "state": {
      "_model_module": "@jupyter-widgets/controls",
      "_model_module_version": "1.5.0",
      "_model_name": "ProgressStyleModel",
      "_view_count": null,
      "_view_module": "@jupyter-widgets/base",
      "_view_module_version": "1.2.0",
      "_view_name": "StyleView",
      "bar_color": null,
      "description_width": ""
     }
    },
    "d5811718a04048a8a9cc3fd776c3272b": {
     "model_module": "@jupyter-widgets/base",
     "model_module_version": "1.2.0",
     "model_name": "LayoutModel",
     "state": {
      "_model_module": "@jupyter-widgets/base",
      "_model_module_version": "1.2.0",
      "_model_name": "LayoutModel",
      "_view_count": null,
      "_view_module": "@jupyter-widgets/base",
      "_view_module_version": "1.2.0",
      "_view_name": "LayoutView",
      "align_content": null,
      "align_items": null,
      "align_self": null,
      "border": null,
      "bottom": null,
      "display": null,
      "flex": null,
      "flex_flow": null,
      "grid_area": null,
      "grid_auto_columns": null,
      "grid_auto_flow": null,
      "grid_auto_rows": null,
      "grid_column": null,
      "grid_gap": null,
      "grid_row": null,
      "grid_template_areas": null,
      "grid_template_columns": null,
      "grid_template_rows": null,
      "height": null,
      "justify_content": null,
      "justify_items": null,
      "left": null,
      "margin": null,
      "max_height": null,
      "max_width": null,
      "min_height": null,
      "min_width": null,
      "object_fit": null,
      "object_position": null,
      "order": null,
      "overflow": null,
      "overflow_x": null,
      "overflow_y": null,
      "padding": null,
      "right": null,
      "top": null,
      "visibility": null,
      "width": null
     }
    },
    "e11b4f9fa7a64df5adba7ce3d454fc1d": {
     "model_module": "@jupyter-widgets/base",
     "model_module_version": "1.2.0",
     "model_name": "LayoutModel",
     "state": {
      "_model_module": "@jupyter-widgets/base",
      "_model_module_version": "1.2.0",
      "_model_name": "LayoutModel",
      "_view_count": null,
      "_view_module": "@jupyter-widgets/base",
      "_view_module_version": "1.2.0",
      "_view_name": "LayoutView",
      "align_content": null,
      "align_items": null,
      "align_self": null,
      "border": null,
      "bottom": null,
      "display": null,
      "flex": null,
      "flex_flow": null,
      "grid_area": null,
      "grid_auto_columns": null,
      "grid_auto_flow": null,
      "grid_auto_rows": null,
      "grid_column": null,
      "grid_gap": null,
      "grid_row": null,
      "grid_template_areas": null,
      "grid_template_columns": null,
      "grid_template_rows": null,
      "height": null,
      "justify_content": null,
      "justify_items": null,
      "left": null,
      "margin": null,
      "max_height": null,
      "max_width": null,
      "min_height": null,
      "min_width": null,
      "object_fit": null,
      "object_position": null,
      "order": null,
      "overflow": null,
      "overflow_x": null,
      "overflow_y": null,
      "padding": null,
      "right": null,
      "top": null,
      "visibility": null,
      "width": null
     }
    },
    "e830f803e5fb4bd18219bc534030f253": {
     "model_module": "@jupyter-widgets/base",
     "model_module_version": "1.2.0",
     "model_name": "LayoutModel",
     "state": {
      "_model_module": "@jupyter-widgets/base",
      "_model_module_version": "1.2.0",
      "_model_name": "LayoutModel",
      "_view_count": null,
      "_view_module": "@jupyter-widgets/base",
      "_view_module_version": "1.2.0",
      "_view_name": "LayoutView",
      "align_content": null,
      "align_items": null,
      "align_self": null,
      "border": null,
      "bottom": null,
      "display": null,
      "flex": null,
      "flex_flow": null,
      "grid_area": null,
      "grid_auto_columns": null,
      "grid_auto_flow": null,
      "grid_auto_rows": null,
      "grid_column": null,
      "grid_gap": null,
      "grid_row": null,
      "grid_template_areas": null,
      "grid_template_columns": null,
      "grid_template_rows": null,
      "height": null,
      "justify_content": null,
      "justify_items": null,
      "left": null,
      "margin": null,
      "max_height": null,
      "max_width": null,
      "min_height": null,
      "min_width": null,
      "object_fit": null,
      "object_position": null,
      "order": null,
      "overflow": null,
      "overflow_x": null,
      "overflow_y": null,
      "padding": null,
      "right": null,
      "top": null,
      "visibility": null,
      "width": null
     }
    },
    "ecdc1c09872141dab807710c28adec52": {
     "model_module": "@jupyter-widgets/controls",
     "model_module_version": "1.5.0",
     "model_name": "HTMLModel",
     "state": {
      "_dom_classes": [],
      "_model_module": "@jupyter-widgets/controls",
      "_model_module_version": "1.5.0",
      "_model_name": "HTMLModel",
      "_view_count": null,
      "_view_module": "@jupyter-widgets/controls",
      "_view_module_version": "1.5.0",
      "_view_name": "HTMLView",
      "description": "",
      "description_tooltip": null,
      "layout": "IPY_MODEL_d5811718a04048a8a9cc3fd776c3272b",
      "placeholder": "​",
      "style": "IPY_MODEL_b449d96b39bf42cb9e806e9dcbcb66c5",
      "value": " 10213/10213 [00:15&lt;00:00, 882.75it/s]"
     }
    },
    "ee98256bbc194d54bdebe13f470a7182": {
     "model_module": "@jupyter-widgets/controls",
     "model_module_version": "1.5.0",
     "model_name": "HBoxModel",
     "state": {
      "_dom_classes": [],
      "_model_module": "@jupyter-widgets/controls",
      "_model_module_version": "1.5.0",
      "_model_name": "HBoxModel",
      "_view_count": null,
      "_view_module": "@jupyter-widgets/controls",
      "_view_module_version": "1.5.0",
      "_view_name": "HBoxView",
      "box_style": "",
      "children": [
       "IPY_MODEL_334a497fcccf45a1a7a5c8e329c39543",
       "IPY_MODEL_b548b18dd9b44745ac40cc02a59fad3b",
       "IPY_MODEL_ecdc1c09872141dab807710c28adec52"
      ],
      "layout": "IPY_MODEL_158183c21d014dc5b0064b54315260e7"
     }
    }
   }
  }
 },
 "nbformat": 4,
 "nbformat_minor": 1
}
